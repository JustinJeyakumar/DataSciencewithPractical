{
  "nbformat": 4,
  "nbformat_minor": 0,
  "metadata": {
    "colab": {
      "provenance": []
    },
    "kernelspec": {
      "name": "python3",
      "display_name": "Python 3"
    },
    "language_info": {
      "name": "python"
    }
  },
  "cells": [
    {
      "cell_type": "code",
      "execution_count": 1,
      "metadata": {
        "id": "uc0BbEkEDSXH"
      },
      "outputs": [],
      "source": [
        "import numpy as np\n",
        "from keras.datasets import mnist\n",
        "\n",
        "import matplotlib.pyplot as plt\n",
        "from tensorflow.keras.utils import to_categorical\n",
        "\n",
        "\n",
        "from keras.models import Sequential\n",
        "from keras.layers import Dense, BatchNormalization, Dropout\n",
        "from tensorflow.keras import optimizers\n"
      ]
    },
    {
      "cell_type": "code",
      "source": [
        "(x_train, y_train), (x_test, y_test) = mnist.load_data()"
      ],
      "metadata": {
        "id": "a2mYezFIDqeq",
        "colab": {
          "base_uri": "https://localhost:8080/"
        },
        "outputId": "f63ca5df-38cb-440f-bf26-775c8eb74294"
      },
      "execution_count": 2,
      "outputs": [
        {
          "output_type": "stream",
          "name": "stdout",
          "text": [
            "Downloading data from https://storage.googleapis.com/tensorflow/tf-keras-datasets/mnist.npz\n",
            "11493376/11490434 [==============================] - 0s 0us/step\n",
            "11501568/11490434 [==============================] - 0s 0us/step\n"
          ]
        }
      ]
    },
    {
      "cell_type": "code",
      "source": [
        "plt.imshow(x_train[0])\n",
        "print(\"Label = \",y_train[0])"
      ],
      "metadata": {
        "colab": {
          "base_uri": "https://localhost:8080/",
          "height": 283
        },
        "id": "5C2yx1npDvM-",
        "outputId": "115194fd-325f-462b-860d-ac33984facc5"
      },
      "execution_count": 3,
      "outputs": [
        {
          "output_type": "stream",
          "name": "stdout",
          "text": [
            "Label =  5\n"
          ]
        },
        {
          "output_type": "display_data",
          "data": {
            "text/plain": [
              "<Figure size 432x288 with 1 Axes>"
            ],
            "image/png": "[encoded data removed]"
          },
          "metadata": {
            "needs_background": "light"
          }
        }
      ]
    },
    {
      "cell_type": "code",
      "source": [
        "x_train.shape, y_train.shape"
      ],
      "metadata": {
        "colab": {
          "base_uri": "https://localhost:8080/"
        },
        "id": "OOlqe5iUDwKd",
        "outputId": "b32b8016-af87-49d9-c0d9-a46a45ff7a52"
      },
      "execution_count": 4,
      "outputs": [
        {
          "output_type": "execute_result",
          "data": {
            "text/plain": [
              "((60000, 28, 28), (60000,))"
            ]
          },
          "metadata": {},
          "execution_count": 4
        }
      ]
    },
    {
      "cell_type": "code",
      "source": [
        "y_train = to_categorical(y_train)\n",
        "y_test = to_categorical(y_test)"
      ],
      "metadata": {
        "id": "sWO_IKFOELs5"
      },
      "execution_count": 5,
      "outputs": []
    },
    {
      "cell_type": "code",
      "source": [
        "y_train.shape"
      ],
      "metadata": {
        "colab": {
          "base_uri": "https://localhost:8080/"
        },
        "id": "Xj3lk50dEl9D",
        "outputId": "ad179ec1-bb9f-4e8a-ff32-866f2d3896f5"
      },
      "execution_count": 6,
      "outputs": [
        {
          "output_type": "execute_result",
          "data": {
            "text/plain": [
              "(60000, 10)"
            ]
          },
          "metadata": {},
          "execution_count": 6
        }
      ]
    },
    {
      "cell_type": "code",
      "source": [
        "from keras.models import Sequential\n",
        "from keras.layers import Conv2D, Dense, MaxPooling2D, Flatten"
      ],
      "metadata": {
        "id": "rEhbs8BZEoV6"
      },
      "execution_count": 7,
      "outputs": []
    },
    {
      "cell_type": "code",
      "source": [
        "model = Sequential() "
      ],
      "metadata": {
        "id": "d11cZqgDE2s6"
      },
      "execution_count": 8,
      "outputs": []
    },
    {
      "cell_type": "code",
      "source": [
        "model.add(Conv2D(input_shape = (28,28,1), filters = 16, kernel_size = (3,3), strides = (2,2), padding = 'valid', \n",
        "                 activation = 'relu', kernel_initializer = 'he_normal'))\n",
        "\n",
        "model.add(MaxPooling2D(pool_size = (2,2)))\n",
        "\n",
        "\n",
        "model.add(Flatten())\n",
        "\n",
        "model.add(Dense(10, kernel_initializer='he_normal' , activation = 'relu' ))\n",
        "model.add(BatchNormalization())\n",
        "#model.add(Dropout(0.1))\n",
        "model.add(Dense(10, kernel_initializer='he_normal' , activation = 'softmax'))"
      ],
      "metadata": {
        "id": "-VcfVgnXE7or"
      },
      "execution_count": 9,
      "outputs": []
    },
    {
      "cell_type": "code",
      "source": [
        "model.summary()"
      ],
      "metadata": {
        "colab": {
          "base_uri": "https://localhost:8080/"
        },
        "id": "sHuIvfp2HLxX",
        "outputId": "f59c58c0-ca03-46a8-f15f-5579c9725e3a"
      },
      "execution_count": 10,
      "outputs": [
        {
          "output_type": "stream",
          "name": "stdout",
          "text": [
            "Model: \"sequential\"\n",
            "_________________________________________________________________\n",
            " Layer (type)                Output Shape              Param #   \n",
            "=================================================================\n",
            " conv2d (Conv2D)             (None, 13, 13, 16)        160       \n",
            "                                                                 \n",
            " max_pooling2d (MaxPooling2D  (None, 6, 6, 16)         0         \n",
            " )                                                               \n",
            "                                                                 \n",
            " flatten (Flatten)           (None, 576)               0         \n",
            "                                                                 \n",
            " dense (Dense)               (None, 10)                5770      \n",
            "                                                                 \n",
            " batch_normalization (BatchN  (None, 10)               40        \n",
            " ormalization)                                                   \n",
            "                                                                 \n",
            " dense_1 (Dense)             (None, 10)                110       \n",
            "                                                                 \n",
            "=================================================================\n",
            "Total params: 6,080\n",
            "Trainable params: 6,060\n",
            "Non-trainable params: 20\n",
            "_________________________________________________________________\n"
          ]
        }
      ]
    },
    {
      "cell_type": "code",
      "source": [
        "adam = optimizers.Adam()\n",
        "model.compile(optimizer= adam, loss = 'categorical_crossentropy', metrics = ['accuracy'])\n",
        "history  = model.fit(x_train, y_train, epochs=10, validation_split=0.3, batch_size = 10, verbose=2)"
      ],
      "metadata": {
        "colab": {
          "base_uri": "https://localhost:8080/"
        },
        "id": "Nvv670D_KSTV",
        "outputId": "4c2f0756-6eb1-4ab8-c7fe-3eef0bf9dcc2"
      },
      "execution_count": 11,
      "outputs": [
        {
          "output_type": "stream",
          "name": "stdout",
          "text": [
            "Epoch 1/10\n",
            "4200/4200 - 22s - loss: 0.4702 - accuracy: 0.8685 - val_loss: 0.1577 - val_accuracy: 0.9526 - 22s/epoch - 5ms/step\n",
            "Epoch 2/10\n",
            "4200/4200 - 19s - loss: 0.2065 - accuracy: 0.9368 - val_loss: 0.1234 - val_accuracy: 0.9617 - 19s/epoch - 5ms/step\n",
            "Epoch 3/10\n",
            "4200/4200 - 14s - loss: 0.1720 - accuracy: 0.9476 - val_loss: 0.1067 - val_accuracy: 0.9666 - 14s/epoch - 3ms/step\n",
            "Epoch 4/10\n",
            "4200/4200 - 20s - loss: 0.1572 - accuracy: 0.9514 - val_loss: 0.1305 - val_accuracy: 0.9613 - 20s/epoch - 5ms/step\n",
            "Epoch 5/10\n",
            "4200/4200 - 17s - loss: 0.1452 - accuracy: 0.9553 - val_loss: 0.1011 - val_accuracy: 0.9696 - 17s/epoch - 4ms/step\n",
            "Epoch 6/10\n",
            "4200/4200 - 21s - loss: 0.1375 - accuracy: 0.9571 - val_loss: 0.0996 - val_accuracy: 0.9689 - 21s/epoch - 5ms/step\n",
            "Epoch 7/10\n",
            "4200/4200 - 15s - loss: 0.1330 - accuracy: 0.9579 - val_loss: 0.0932 - val_accuracy: 0.9712 - 15s/epoch - 3ms/step\n",
            "Epoch 8/10\n",
            "4200/4200 - 16s - loss: 0.1296 - accuracy: 0.9607 - val_loss: 0.0890 - val_accuracy: 0.9722 - 16s/epoch - 4ms/step\n",
            "Epoch 9/10\n",
            "4200/4200 - 14s - loss: 0.1220 - accuracy: 0.9616 - val_loss: 0.0949 - val_accuracy: 0.9707 - 14s/epoch - 3ms/step\n",
            "Epoch 10/10\n",
            "4200/4200 - 14s - loss: 0.1215 - accuracy: 0.9625 - val_loss: 0.0904 - val_accuracy: 0.9718 - 14s/epoch - 3ms/step\n"
          ]
        }
      ]
    },
    {
      "cell_type": "code",
      "source": [
        "plt.plot(history.history['accuracy'])\n",
        "plt.plot(history.history['val_accuracy'])\n",
        "plt.legend(['training', 'validation'])\n",
        "plt.show()\n"
      ],
      "metadata": {
        "colab": {
          "base_uri": "https://localhost:8080/",
          "height": 265
        },
        "id": "zZa9GOhxLI8N",
        "outputId": "49ef4f93-464e-4a5e-f2e5-eb6d3acda477"
      },
      "execution_count": 12,
      "outputs": [
        {
          "output_type": "display_data",
          "data": {
            "text/plain": [
              "<Figure size 432x288 with 1 Axes>"
            ],
            "image/png": "[encoded data removed]"
          },
          "metadata": {
            "needs_background": "light"
          }
        }
      ]
    },
    {
      "cell_type": "code",
      "source": [
        "model.evaluate(x_train, y_train)"
      ],
      "metadata": {
        "colab": {
          "base_uri": "https://localhost:8080/"
        },
        "id": "8V6Gr8d1LN7r",
        "outputId": "1324430e-4932-4aee-c3d7-28f44fad173e"
      },
      "execution_count": 13,
      "outputs": [
        {
          "output_type": "stream",
          "name": "stdout",
          "text": [
            "1875/1875 [==============================] - 6s 3ms/step - loss: 0.0668 - accuracy: 0.9797\n"
          ]
        },
        {
          "output_type": "execute_result",
          "data": {
            "text/plain": [
              "[0.06676896661520004, 0.9797000288963318]"
            ]
          },
          "metadata": {},
          "execution_count": 13
        }
      ]
    },
    {
      "cell_type": "code",
      "source": [
        "model.evaluate(x_test, y_test)"
      ],
      "metadata": {
        "colab": {
          "base_uri": "https://localhost:8080/"
        },
        "id": "Z0pgeL5TLSIb",
        "outputId": "7b439b68-9e39-4ea6-bd12-171381343f59"
      },
      "execution_count": 14,
      "outputs": [
        {
          "output_type": "stream",
          "name": "stdout",
          "text": [
            "313/313 [==============================] - 1s 3ms/step - loss: 0.0734 - accuracy: 0.9782\n"
          ]
        },
        {
          "output_type": "execute_result",
          "data": {
            "text/plain": [
              "[0.07342244684696198, 0.9782000184059143]"
            ]
          },
          "metadata": {},
          "execution_count": 14
        }
      ]
    },
    {
      "cell_type": "code",
      "source": [
        "Deep CNN"
      ],
      "metadata": {
        "colab": {
          "base_uri": "https://localhost:8080/",
          "height": 133
        },
        "id": "UgBIlzkl4lwe",
        "outputId": "e8285149-2073-4020-df89-b65d720e901e"
      },
      "execution_count": 15,
      "outputs": [
        {
          "output_type": "error",
          "ename": "SyntaxError",
          "evalue": "ignored",
          "traceback": [
            "\u001b[0;36m  File \u001b[0;32m\"<ipython-input-15-7881d1f2cdfb>\"\u001b[0;36m, line \u001b[0;32m1\u001b[0m\n\u001b[0;31m    Deep CNN\u001b[0m\n\u001b[0m           ^\u001b[0m\n\u001b[0;31mSyntaxError\u001b[0m\u001b[0;31m:\u001b[0m invalid syntax\n"
          ]
        }
      ]
    },
    {
      "cell_type": "code",
      "source": [
        "model = Sequential() \n",
        "model.add(Conv2D(input_shape = (28,28,1), filters = 50, kernel_size = (3,3), strides = (1,1), padding = 'valid', \n",
        "                 activation = 'relu', kernel_initializer = 'he_normal'))\n",
        "model.add(Conv2D( filters = 50, kernel_size = (3,3), strides = (1,1), padding = 'same', \n",
        "                 activation = 'relu', kernel_initializer = 'he_normal'))\n",
        "model.add(Conv2D( filters = 50, kernel_size = (3,3), strides = (1,1), padding = 'same', \n",
        "                 activation = 'relu', kernel_initializer = 'he_normal'))\n",
        "model.add(Conv2D( filters = 50, kernel_size = (3,3), strides = (1,1), padding = 'same', \n",
        "                 activation = 'relu', kernel_initializer = 'he_normal'))\n",
        "model.add(Conv2D( filters = 50, kernel_size = (3,3), strides = (1,1), padding = 'same', \n",
        "                 activation = 'relu', kernel_initializer = 'he_normal'))\n",
        "model.add(Conv2D( filters = 50, kernel_size = (3,3), strides = (1,1), padding = 'same', \n",
        "                 activation = 'relu', kernel_initializer = 'he_normal'))\n",
        "\n",
        "\n",
        "model.add(MaxPooling2D(pool_size = (2,2)))\n",
        "\n",
        "\n",
        "model.add(Flatten())\n",
        "\n",
        "model.add(Dense(50, kernel_initializer='he_normal' , activation = 'relu' ))\n",
        "model.add(BatchNormalization())\n",
        "#model.add(Dropout(0.1))\n",
        "model.add(Dense(10, kernel_initializer='he_normal' , activation = 'softmax'))"
      ],
      "metadata": {
        "id": "djsgmtmJ4ltq"
      },
      "execution_count": 23,
      "outputs": []
    },
    {
      "cell_type": "code",
      "source": [
        "model.summary()"
      ],
      "metadata": {
        "colab": {
          "base_uri": "https://localhost:8080/"
        },
        "id": "AhyzR4Wj4lqz",
        "outputId": "513cde3f-9f7c-4b92-ff9c-89f65c77ec74"
      },
      "execution_count": 24,
      "outputs": [
        {
          "output_type": "stream",
          "name": "stdout",
          "text": [
            "Model: \"sequential_6\"\n",
            "_________________________________________________________________\n",
            " Layer (type)                Output Shape              Param #   \n",
            "=================================================================\n",
            " conv2d_31 (Conv2D)          (None, 26, 26, 50)        500       \n",
            "                                                                 \n",
            " conv2d_32 (Conv2D)          (None, 26, 26, 50)        22550     \n",
            "                                                                 \n",
            " conv2d_33 (Conv2D)          (None, 26, 26, 50)        22550     \n",
            "                                                                 \n",
            " conv2d_34 (Conv2D)          (None, 26, 26, 50)        22550     \n",
            "                                                                 \n",
            " conv2d_35 (Conv2D)          (None, 26, 26, 50)        22550     \n",
            "                                                                 \n",
            " conv2d_36 (Conv2D)          (None, 26, 26, 50)        22550     \n",
            "                                                                 \n",
            " max_pooling2d_6 (MaxPooling  (None, 13, 13, 50)       0         \n",
            " 2D)                                                             \n",
            "                                                                 \n",
            " flatten_2 (Flatten)         (None, 8450)              0         \n",
            "                                                                 \n",
            " dense_4 (Dense)             (None, 50)                422550    \n",
            "                                                                 \n",
            " batch_normalization_2 (Batc  (None, 50)               200       \n",
            " hNormalization)                                                 \n",
            "                                                                 \n",
            " dense_5 (Dense)             (None, 10)                510       \n",
            "                                                                 \n",
            "=================================================================\n",
            "Total params: 536,510\n",
            "Trainable params: 536,410\n",
            "Non-trainable params: 100\n",
            "_________________________________________________________________\n"
          ]
        }
      ]
    },
    {
      "cell_type": "code",
      "source": [
        "adam = optimizers.Adam()\n",
        "model.compile(optimizer= adam, loss = 'categorical_crossentropy', metrics = ['accuracy'])\n",
        "history  = model.fit(x_train, y_train, epochs=10, validation_split=0.3, batch_size = 10, verbose=2)"
      ],
      "metadata": {
        "colab": {
          "base_uri": "https://localhost:8080/"
        },
        "id": "RvwSflFS4loK",
        "outputId": "d5e455e3-23f9-4086-9a6d-92a75f51dcc5"
      },
      "execution_count": null,
      "outputs": [
        {
          "output_type": "stream",
          "name": "stdout",
          "text": [
            "Epoch 1/10\n",
            "4200/4200 - 861s - loss: 0.1540 - accuracy: 0.9572 - val_loss: 0.3902 - val_accuracy: 0.9839 - 861s/epoch - 205ms/step\n",
            "Epoch 2/10\n",
            "4200/4200 - 821s - loss: 0.0694 - accuracy: 0.9791 - val_loss: 1.6767 - val_accuracy: 0.9858 - 821s/epoch - 196ms/step\n",
            "Epoch 3/10\n",
            "4200/4200 - 817s - loss: 0.0508 - accuracy: 0.9842 - val_loss: 1.5386 - val_accuracy: 0.9885 - 817s/epoch - 194ms/step\n",
            "Epoch 4/10\n",
            "4200/4200 - 812s - loss: 0.0404 - accuracy: 0.9878 - val_loss: 0.8714 - val_accuracy: 0.9891 - 812s/epoch - 193ms/step\n",
            "Epoch 5/10\n",
            "4200/4200 - 810s - loss: 0.0353 - accuracy: 0.9892 - val_loss: 0.1446 - val_accuracy: 0.9897 - 810s/epoch - 193ms/step\n",
            "Epoch 6/10\n",
            "4200/4200 - 814s - loss: 0.0274 - accuracy: 0.9916 - val_loss: 0.0424 - val_accuracy: 0.9917 - 814s/epoch - 194ms/step\n",
            "Epoch 7/10\n",
            "4200/4200 - 808s - loss: 0.0264 - accuracy: 0.9919 - val_loss: 0.0423 - val_accuracy: 0.9904 - 808s/epoch - 192ms/step\n",
            "Epoch 8/10\n"
          ]
        }
      ]
    },
    {
      "cell_type": "code",
      "source": [
        "\n",
        "plt.plot(history.history['accuracy'])\n",
        "plt.plot(history.history['val_accuracy'])\n",
        "plt.legend(['training', 'validation'])\n",
        "plt.show()\n",
        "\n"
      ],
      "metadata": {
        "id": "cga7yEzx4llC"
      },
      "execution_count": null,
      "outputs": []
    },
    {
      "cell_type": "code",
      "source": [
        "model.evaluate(x_train, y_train)"
      ],
      "metadata": {
        "id": "fdJKpzAi4lib"
      },
      "execution_count": null,
      "outputs": []
    },
    {
      "cell_type": "code",
      "source": [
        "model.evaluate(x_test, y_test)"
      ],
      "metadata": {
        "id": "2ATHtUk44lfU"
      },
      "execution_count": null,
      "outputs": []
    },
    {
      "cell_type": "code",
      "source": [],
      "metadata": {
        "id": "sCxla-wI4lcK"
      },
      "execution_count": null,
      "outputs": []
    },
    {
      "cell_type": "code",
      "source": [],
      "metadata": {
        "id": "HuA3PXbI4lZT"
      },
      "execution_count": null,
      "outputs": []
    },
    {
      "cell_type": "code",
      "source": [
        "model = Sequential() \n",
        "model.add(Conv2D(input_shape = (28,28,1), filters = 50, kernel_size = (3,3), strides = (1,1), padding = 'valid', \n",
        "                 activation = 'relu', kernel_initializer = 'he_normal'))\n",
        "model.add(BatchNormalization())\n",
        "model.add(Conv2D( filters = 50, kernel_size = (3,3), strides = (1,1), padding = 'same', \n",
        "                 activation = 'relu', kernel_initializer = 'he_normal'))\n",
        "model.add(BatchNormalization())\n",
        "\n",
        "model.add(Conv2D( filters = 50, kernel_size = (3,3), strides = (1,1), padding = 'same', \n",
        "                 activation = 'relu', kernel_initializer = 'he_normal'))\n",
        "model.add(BatchNormalization())\n",
        "\n",
        "model.add(Conv2D( filters = 50, kernel_size = (3,3), strides = (1,1), padding = 'same', \n",
        "                 activation = 'relu', kernel_initializer = 'he_normal'))\n",
        "model.add(BatchNormalization())\n",
        "\n",
        "model.add(Conv2D( filters = 50, kernel_size = (3,3), strides = (1,1), padding = 'same', \n",
        "                 activation = 'relu', kernel_initializer = 'he_normal'))\n",
        "model.add(BatchNormalization())\n",
        "\n",
        "model.add(Conv2D( filters = 50, kernel_size = (3,3), strides = (1,1), padding = 'same', \n",
        "                 activation = 'relu', kernel_initializer = 'he_normal'))\n",
        "\n",
        "model.add(BatchNormalization())\n",
        "\n",
        "model.add(MaxPooling2D(pool_size = (2,2)))\n",
        "\n",
        "\n",
        "model.add(Flatten())\n",
        "\n",
        "model.add(Dense(50, kernel_initializer='he_normal' , activation = 'relu' ))\n",
        "model.add(BatchNormalization())\n",
        "model.add(Dropout(0.1))\n",
        "model.add(Dense(10, kernel_initializer='he_normal' , activation = 'softmax'))"
      ],
      "metadata": {
        "id": "R88E2fzX4lWP"
      },
      "execution_count": null,
      "outputs": []
    },
    {
      "cell_type": "code",
      "source": [
        "model.summary()"
      ],
      "metadata": {
        "id": "TtD7uSz-65nr"
      },
      "execution_count": null,
      "outputs": []
    },
    {
      "cell_type": "code",
      "source": [
        "adam = optimizers.Adam()\n",
        "model.compile(optimizer= adam, loss = 'categorical_crossentropy', metrics = ['accuracy'])\n",
        "history  = model.fit(x_train, y_train, epochs=10, validation_split=0.3, batch_size = 10, verbose=2)"
      ],
      "metadata": {
        "id": "mNowlwED68oY"
      },
      "execution_count": null,
      "outputs": []
    },
    {
      "cell_type": "code",
      "source": [
        "plt.plot(history.history['accuracy'])\n",
        "plt.plot(history.history['val_accuracy'])\n",
        "plt.legend(['training', 'validation'])\n",
        "plt.show()"
      ],
      "metadata": {
        "id": "Rg4ZwT9z68lR"
      },
      "execution_count": null,
      "outputs": []
    },
    {
      "cell_type": "code",
      "source": [
        "model.evaluate(x_train, y_train)"
      ],
      "metadata": {
        "id": "cR9T78uA68JK"
      },
      "execution_count": null,
      "outputs": []
    },
    {
      "cell_type": "code",
      "source": [
        "model.evaluate(x_test, y_test)"
      ],
      "metadata": {
        "id": "-5GhuK9R7ASe"
      },
      "execution_count": null,
      "outputs": []
    },
    {
      "cell_type": "markdown",
      "source": [],
      "metadata": {
        "id": "Hpi5hSCNHJVH"
      }
    }
  ]
}