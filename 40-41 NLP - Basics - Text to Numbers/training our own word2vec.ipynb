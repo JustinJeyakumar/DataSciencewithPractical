{
 "cells": [
  {
   "cell_type": "code",
   "execution_count": 10,
   "id": "8937f9d9",
   "metadata": {},
   "outputs": [],
   "source": [
    "import pandas as pd\n",
    "import numpy as np\n",
    "\n",
    "from nltk import word_tokenize\n",
    "from gensim.models import word2vec"
   ]
  },
  {
   "cell_type": "code",
   "execution_count": 99,
   "id": "c870a426",
   "metadata": {},
   "outputs": [],
   "source": [
    "corpus = [' sky blue beautiful', ' love sky blue beautiful',\n",
    "         ' breakfast  spicy', ' breakfast eggs very tasty',\n",
    "         ' dog  quick fast', ' dog is beautiful',\n",
    "         ' egg breakfast healthy']"
   ]
  },
  {
   "cell_type": "code",
   "execution_count": 100,
   "id": "0e5d4817",
   "metadata": {},
   "outputs": [],
   "source": [
    "labels = ['weather','weather','food','food','animal','animal','food']"
   ]
  },
  {
   "cell_type": "code",
   "execution_count": 101,
   "id": "859cdf57",
   "metadata": {},
   "outputs": [],
   "source": [
    "data = pd.DataFrame({'corpus': corpus, 'lables':labels})"
   ]
  },
  {
   "cell_type": "code",
   "execution_count": 102,
   "id": "470ee3bd",
   "metadata": {},
   "outputs": [],
   "source": [
    "tokenised_corpus = [word_tokenize(document) for document in data['corpus']]\n"
   ]
  },
  {
   "cell_type": "code",
   "execution_count": 103,
   "id": "801e5d2e",
   "metadata": {
    "scrolled": true
   },
   "outputs": [
    {
     "data": {
      "text/plain": [
       "[['sky', 'blue', 'beautiful'],\n",
       " ['love', 'sky', 'blue', 'beautiful'],\n",
       " ['breakfast', 'spicy'],\n",
       " ['breakfast', 'eggs', 'very', 'tasty'],\n",
       " ['dog', 'quick', 'fast'],\n",
       " ['dog', 'is', 'beautiful'],\n",
       " ['egg', 'breakfast', 'healthy']]"
      ]
     },
     "execution_count": 103,
     "metadata": {},
     "output_type": "execute_result"
    }
   ],
   "source": [
    "tokenised_corpus"
   ]
  },
  {
   "cell_type": "code",
   "execution_count": 104,
   "id": "8ea969dc",
   "metadata": {},
   "outputs": [],
   "source": [
    "w2vec = word2vec.Word2Vec(tokenised_corpus, min_count = 1)"
   ]
  },
  {
   "cell_type": "code",
   "execution_count": null,
   "id": "fdcc077d",
   "metadata": {},
   "outputs": [],
   "source": []
  },
  {
   "cell_type": "code",
   "execution_count": 105,
   "id": "abe28d4e",
   "metadata": {},
   "outputs": [],
   "source": [
    "vocab = w2vec.wv.key_to_index.keys()"
   ]
  },
  {
   "cell_type": "code",
   "execution_count": 118,
   "id": "fcb45c1d",
   "metadata": {},
   "outputs": [
    {
     "data": {
      "text/plain": [
       "dict_keys(['breakfast', 'beautiful', 'dog', 'blue', 'sky', 'healthy', 'egg', 'is', 'fast', 'quick', 'tasty', 'very', 'eggs', 'spicy', 'love'])"
      ]
     },
     "execution_count": 118,
     "metadata": {},
     "output_type": "execute_result"
    }
   ],
   "source": [
    "vocab"
   ]
  },
  {
   "cell_type": "code",
   "execution_count": 107,
   "id": "23cfc089",
   "metadata": {},
   "outputs": [],
   "source": [
    "# for word in vocab:\n",
    "#     print(w2vec.wv.get_index(word))\n"
   ]
  },
  {
   "cell_type": "code",
   "execution_count": 117,
   "id": "f242b816",
   "metadata": {},
   "outputs": [],
   "source": [
    "#len(w2vec.wv['biryani'])"
   ]
  },
  {
   "cell_type": "code",
   "execution_count": 116,
   "id": "e11480b5",
   "metadata": {},
   "outputs": [],
   "source": [
    "#w2vec.wv.most_similar('biryani')"
   ]
  },
  {
   "cell_type": "code",
   "execution_count": 123,
   "id": "37dd8633",
   "metadata": {},
   "outputs": [],
   "source": [
    "from sklearn.manifold import TSNE\n",
    "import matplotlib.pyplot as plt"
   ]
  },
  {
   "cell_type": "code",
   "execution_count": 127,
   "id": "f68bf005",
   "metadata": {},
   "outputs": [],
   "source": [
    "tsne = TSNE(n_components=2, n_iter=5000)"
   ]
  },
  {
   "cell_type": "code",
   "execution_count": 128,
   "id": "3ce705f4",
   "metadata": {},
   "outputs": [],
   "source": [
    "words = w2vec.wv.index_to_key\n",
    "wvecs = w2vec.wv[words]"
   ]
  },
  {
   "cell_type": "code",
   "execution_count": 129,
   "id": "d1b716fe",
   "metadata": {},
   "outputs": [
    {
     "name": "stderr",
     "output_type": "stream",
     "text": [
      "/opt/homebrew/anaconda3/lib/python3.8/site-packages/sklearn/manifold/_t_sne.py:780: FutureWarning: The default initialization in TSNE will change from 'random' to 'pca' in 1.2.\n",
      "  warnings.warn(\n",
      "/opt/homebrew/anaconda3/lib/python3.8/site-packages/sklearn/manifold/_t_sne.py:790: FutureWarning: The default learning rate in TSNE will change from 200.0 to 'auto' in 1.2.\n",
      "  warnings.warn(\n"
     ]
    }
   ],
   "source": [
    "T = tsne.fit_transform(wvecs)"
   ]
  },
  {
   "cell_type": "code",
   "execution_count": 130,
   "id": "4d1a6fff",
   "metadata": {},
   "outputs": [
    {
     "data": {
      "image/png": "[encoded data removed]",
      "text/plain": [
       "<Figure size 864x432 with 1 Axes>"
      ]
     },
     "metadata": {
      "needs_background": "light"
     },
     "output_type": "display_data"
    }
   ],
   "source": [
    "plt.figure(figsize = (12,6))\n",
    "plt.scatter(T[:,0],T[:,1], c = 'red')\n",
    "for label,x,y in zip(words, T[:,0],T[:,1]):\n",
    "    plt.annotate(label, xy = (x+1, y+1))"
   ]
  },
  {
   "cell_type": "code",
   "execution_count": null,
   "id": "26181aaa",
   "metadata": {},
   "outputs": [],
   "source": []
  },
  {
   "cell_type": "code",
   "execution_count": null,
   "id": "09c13a0d",
   "metadata": {},
   "outputs": [],
   "source": []
  }
 ],
 "metadata": {
  "kernelspec": {
   "display_name": "Python 3 (ipykernel)",
   "language": "python",
   "name": "python3"
  },
  "language_info": {
   "codemirror_mode": {
    "name": "ipython",
    "version": 3
   },
   "file_extension": ".py",
   "mimetype": "text/x-python",
   "name": "python",
   "nbconvert_exporter": "python",
   "pygments_lexer": "ipython3",
   "version": "3.8.13"
  }
 },
 "nbformat": 4,
 "nbformat_minor": 5
}
