{
 "cells": [
  {
   "cell_type": "code",
   "execution_count": 35,
   "id": "9fc50196",
   "metadata": {},
   "outputs": [],
   "source": [
    "from sklearn.datasets import load_iris\n",
    "from sklearn.model_selection import train_test_split\n",
    "\n",
    "from sklearn.linear_model import LogisticRegression\n",
    "from sklearn.neighbors import KNeighborsClassifier\n",
    "from sklearn.tree import DecisionTreeClassifier\n",
    "from sklearn.ensemble import RandomForestClassifier\n",
    "from sklearn.ensemble import AdaBoostClassifier\n",
    "from sklearn.ensemble import VotingClassifier\n",
    "from sklearn.ensemble import StackingClassifier\n",
    "\n",
    "from sklearn.metrics import accuracy_score\n",
    "import warnings\n",
    "warnings.filterwarnings(action = 'ignore')"
   ]
  },
  {
   "cell_type": "code",
   "execution_count": 2,
   "id": "6f725402",
   "metadata": {},
   "outputs": [],
   "source": [
    "data = load_iris()\n"
   ]
  },
  {
   "cell_type": "code",
   "execution_count": 4,
   "id": "6c458de2",
   "metadata": {},
   "outputs": [],
   "source": [
    "X = data.data"
   ]
  },
  {
   "cell_type": "code",
   "execution_count": 5,
   "id": "5febbba1",
   "metadata": {},
   "outputs": [],
   "source": [
    "y = data.target"
   ]
  },
  {
   "cell_type": "code",
   "execution_count": 9,
   "id": "8c7dbb1a",
   "metadata": {},
   "outputs": [],
   "source": [
    "train_X,test_X,train_y,test_y = train_test_split(X,y,test_size = 0.3, random_state = 12,stratify= y)"
   ]
  },
  {
   "cell_type": "code",
   "execution_count": 10,
   "id": "a3cb6671",
   "metadata": {},
   "outputs": [],
   "source": [
    "model = AdaBoostClassifier()"
   ]
  },
  {
   "cell_type": "code",
   "execution_count": 11,
   "id": "5d17aa8d",
   "metadata": {},
   "outputs": [
    {
     "data": {
      "text/plain": [
       "AdaBoostClassifier()"
      ]
     },
     "execution_count": 11,
     "metadata": {},
     "output_type": "execute_result"
    }
   ],
   "source": [
    "model.fit(train_X,train_y)"
   ]
  },
  {
   "cell_type": "code",
   "execution_count": 12,
   "id": "43a84014",
   "metadata": {},
   "outputs": [],
   "source": [
    "train_pred = model.predict(train_X)"
   ]
  },
  {
   "cell_type": "code",
   "execution_count": 14,
   "id": "0e5e515c",
   "metadata": {},
   "outputs": [
    {
     "data": {
      "text/plain": [
       "0.9523809523809523"
      ]
     },
     "execution_count": 14,
     "metadata": {},
     "output_type": "execute_result"
    }
   ],
   "source": [
    "accuracy_score(train_y, train_pred)"
   ]
  },
  {
   "cell_type": "code",
   "execution_count": 23,
   "id": "e8123caa",
   "metadata": {},
   "outputs": [],
   "source": [
    "def run_model(model,train_X = train_X, train_y = train_y,test_X = test_X,test_y=test_y ):\n",
    "    print(model)\n",
    "    model.fit(train_X,train_y)\n",
    "    train_pred = model.predict(train_X)\n",
    "    print(\"Train Accuracy : \",accuracy_score(train_y, train_pred))\n",
    "    test_pred = model.predict(test_X)\n",
    "    print(\"Test Accuracy : \",accuracy_score(test_y, test_pred))\n",
    "    "
   ]
  },
  {
   "cell_type": "code",
   "execution_count": 24,
   "id": "f600e701",
   "metadata": {},
   "outputs": [
    {
     "name": "stdout",
     "output_type": "stream",
     "text": [
      "LogisticRegression()\n",
      "Train Accuracy :  0.9809523809523809\n",
      "Test Accuracy :  0.9777777777777777\n"
     ]
    }
   ],
   "source": [
    "model = LogisticRegression()\n",
    "run_model(model)"
   ]
  },
  {
   "cell_type": "code",
   "execution_count": 25,
   "id": "10d93a22",
   "metadata": {},
   "outputs": [],
   "source": [
    "models = [LogisticRegression(),KNeighborsClassifier(),DecisionTreeClassifier(),RandomForestClassifier(),AdaBoostClassifier()]"
   ]
  },
  {
   "cell_type": "code",
   "execution_count": 26,
   "id": "ed5e2f65",
   "metadata": {},
   "outputs": [
    {
     "name": "stdout",
     "output_type": "stream",
     "text": [
      "LogisticRegression()\n",
      "Train Accuracy :  0.9809523809523809\n",
      "Test Accuracy :  0.9777777777777777\n",
      "KNeighborsClassifier()\n",
      "Train Accuracy :  0.9619047619047619\n",
      "Test Accuracy :  0.9777777777777777\n",
      "DecisionTreeClassifier()\n",
      "Train Accuracy :  1.0\n",
      "Test Accuracy :  0.9777777777777777\n",
      "RandomForestClassifier()\n",
      "Train Accuracy :  1.0\n",
      "Test Accuracy :  0.9777777777777777\n",
      "AdaBoostClassifier()\n",
      "Train Accuracy :  0.9523809523809523\n",
      "Test Accuracy :  0.9777777777777777\n"
     ]
    }
   ],
   "source": [
    "for i in models:\n",
    "    run_model(i)"
   ]
  },
  {
   "cell_type": "markdown",
   "id": "5854703e",
   "metadata": {},
   "source": [
    "# VOTING"
   ]
  },
  {
   "cell_type": "code",
   "execution_count": 33,
   "id": "a53528cb",
   "metadata": {},
   "outputs": [],
   "source": [
    "model1 = DecisionTreeClassifier()\n",
    "model2 = RandomForestClassifier()\n",
    "model3 = AdaBoostClassifier()\n",
    "voting = VotingClassifier(estimators=[\n",
    "         ('lr', model1), ('rf', model2), ('ada', model3)],\n",
    "         voting='hard')"
   ]
  },
  {
   "cell_type": "code",
   "execution_count": 34,
   "id": "aa2a5f3e",
   "metadata": {},
   "outputs": [
    {
     "name": "stdout",
     "output_type": "stream",
     "text": [
      "VotingClassifier(estimators=[('lr', DecisionTreeClassifier()),\n",
      "                             ('rf', RandomForestClassifier()),\n",
      "                             ('ada', AdaBoostClassifier())])\n",
      "Train Accuracy :  1.0\n",
      "Test Accuracy :  0.9777777777777777\n"
     ]
    }
   ],
   "source": [
    "run_model(voting)"
   ]
  },
  {
   "cell_type": "markdown",
   "id": "76883593",
   "metadata": {},
   "source": [
    "# STACKING"
   ]
  },
  {
   "cell_type": "code",
   "execution_count": 47,
   "id": "d6037e88",
   "metadata": {},
   "outputs": [],
   "source": [
    "model1 = DecisionTreeClassifier()\n",
    "model2 = RandomForestClassifier()\n",
    "model3 = AdaBoostClassifier()\n",
    "lr = LogisticRegression()\n",
    "\n",
    "estimators = [\n",
    "     ('dt', model1),\n",
    "     ('rf', model2),\n",
    "     ('ada', model3)]\n",
    "\n",
    "stack = StackingClassifier(estimators=estimators, final_estimator=lr)\n"
   ]
  },
  {
   "cell_type": "code",
   "execution_count": 48,
   "id": "d691dcb3",
   "metadata": {},
   "outputs": [
    {
     "name": "stdout",
     "output_type": "stream",
     "text": [
      "StackingClassifier(estimators=[('dt', DecisionTreeClassifier()),\n",
      "                               ('rf', RandomForestClassifier()),\n",
      "                               ('ada', AdaBoostClassifier())],\n",
      "                   final_estimator=LogisticRegression())\n",
      "Train Accuracy :  0.9904761904761905\n",
      "Test Accuracy :  0.9777777777777777\n"
     ]
    }
   ],
   "source": [
    "run_model(stack)"
   ]
  },
  {
   "cell_type": "code",
   "execution_count": 51,
   "id": "1d8d2ff6",
   "metadata": {},
   "outputs": [
    {
     "data": {
      "text/plain": [
       "StackingClassifier(estimators=[('dt', DecisionTreeClassifier()),\n",
       "                               ('rf', RandomForestClassifier()),\n",
       "                               ('ada', AdaBoostClassifier())],\n",
       "                   final_estimator=LogisticRegression())"
      ]
     },
     "execution_count": 51,
     "metadata": {},
     "output_type": "execute_result"
    }
   ],
   "source": [
    "stack.fit(train_X,train_y)\n"
   ]
  },
  {
   "cell_type": "code",
   "execution_count": 53,
   "id": "e1e2d2d2",
   "metadata": {},
   "outputs": [
    {
     "data": {
      "text/plain": [
       "array([2])"
      ]
     },
     "execution_count": 53,
     "metadata": {},
     "output_type": "execute_result"
    }
   ],
   "source": [
    "stack.predict([[2.5,6.6,4.3,3.5]])"
   ]
  },
  {
   "cell_type": "code",
   "execution_count": null,
   "id": "0c1f6828",
   "metadata": {},
   "outputs": [],
   "source": []
  }
 ],
 "metadata": {
  "kernelspec": {
   "display_name": "Python 3 (ipykernel)",
   "language": "python",
   "name": "python3"
  },
  "language_info": {
   "codemirror_mode": {
    "name": "ipython",
    "version": 3
   },
   "file_extension": ".py",
   "mimetype": "text/x-python",
   "name": "python",
   "nbconvert_exporter": "python",
   "pygments_lexer": "ipython3",
   "version": "3.9.13"
  }
 },
 "nbformat": 4,
 "nbformat_minor": 5
}
