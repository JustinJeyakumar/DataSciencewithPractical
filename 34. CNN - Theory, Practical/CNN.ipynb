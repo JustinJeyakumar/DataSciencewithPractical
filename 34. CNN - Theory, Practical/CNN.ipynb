{
  "nbformat": 4,
  "nbformat_minor": 0,
  "metadata": {
    "colab": {
      "provenance": []
    },
    "kernelspec": {
      "name": "python3",
      "display_name": "Python 3"
    },
    "language_info": {
      "name": "python"
    }
  },
  "cells": [
    {
      "cell_type": "code",
      "execution_count": 5,
      "metadata": {
        "id": "uc0BbEkEDSXH"
      },
      "outputs": [],
      "source": [
        "import numpy as np\n",
        "from keras.datasets import mnist\n",
        "\n",
        "import matplotlib.pyplot as plt\n",
        "from tensorflow.keras.utils import to_categorical\n",
        "\n",
        "\n",
        "from keras.models import Sequential\n",
        "from keras.layers import Dense, BatchNormalization, Dropout\n",
        "from tensorflow.keras import optimizers\n"
      ]
    },
    {
      "cell_type": "code",
      "source": [
        "(x_train, y_train), (x_test, y_test) = mnist.load_data()"
      ],
      "metadata": {
        "id": "a2mYezFIDqeq"
      },
      "execution_count": 4,
      "outputs": []
    },
    {
      "cell_type": "code",
      "source": [
        "plt.imshow(x_train[0])\n",
        "print(\"Label = \",y_train[0])"
      ],
      "metadata": {
        "colab": {
          "base_uri": "https://localhost:8080/",
          "height": 283
        },
        "id": "5C2yx1npDvM-",
        "outputId": "8f3c303e-3a49-4fa6-94ba-ac41a1b7fbad"
      },
      "execution_count": 8,
      "outputs": [
        {
          "output_type": "stream",
          "name": "stdout",
          "text": [
            "Label =  5\n"
          ]
        },
        {
          "output_type": "display_data",
          "data": {
            "text/plain": [
              "<Figure size 432x288 with 1 Axes>"
            ],
            "image/png": "[encoded data removed]"
          },
          "metadata": {
            "needs_background": "light"
          }
        }
      ]
    },
    {
      "cell_type": "code",
      "source": [
        "x_train.shape, y_train.shape"
      ],
      "metadata": {
        "colab": {
          "base_uri": "https://localhost:8080/"
        },
        "id": "OOlqe5iUDwKd",
        "outputId": "1ee75264-ba23-42ee-fe65-42ae3dba204f"
      },
      "execution_count": 9,
      "outputs": [
        {
          "output_type": "execute_result",
          "data": {
            "text/plain": [
              "((60000, 28, 28), (60000,))"
            ]
          },
          "metadata": {},
          "execution_count": 9
        }
      ]
    },
    {
      "cell_type": "code",
      "source": [
        "y_train = to_categorical(y_train)\n",
        "y_test = to_categorical(y_test)"
      ],
      "metadata": {
        "id": "sWO_IKFOELs5"
      },
      "execution_count": 10,
      "outputs": []
    },
    {
      "cell_type": "code",
      "source": [
        "y_train.shape"
      ],
      "metadata": {
        "colab": {
          "base_uri": "https://localhost:8080/"
        },
        "id": "Xj3lk50dEl9D",
        "outputId": "91310124-1643-4ec5-f4e2-e9284102fb40"
      },
      "execution_count": 12,
      "outputs": [
        {
          "output_type": "execute_result",
          "data": {
            "text/plain": [
              "(60000, 10)"
            ]
          },
          "metadata": {},
          "execution_count": 12
        }
      ]
    },
    {
      "cell_type": "code",
      "source": [
        "from keras.models import Sequential\n",
        "from keras.layers import Conv2D, Dense, MaxPooling2D, Flatten"
      ],
      "metadata": {
        "id": "rEhbs8BZEoV6"
      },
      "execution_count": 37,
      "outputs": []
    },
    {
      "cell_type": "code",
      "source": [
        "model = Sequential() "
      ],
      "metadata": {
        "id": "d11cZqgDE2s6"
      },
      "execution_count": 57,
      "outputs": []
    },
    {
      "cell_type": "code",
      "source": [
        "model.add(Conv2D(input_shape = (28,28,1), filters = 16, kernel_size = (3,3), strides = (2,2), padding = 'valid', \n",
        "                 activation = 'relu', kernel_initializer = 'he_normal'))\n",
        "\n",
        "model.add(MaxPooling2D(pool_size = (2,2)))\n",
        "\n",
        "\n",
        "model.add(Flatten())\n",
        "\n",
        "model.add(Dense(10, kernel_initializer='he_normal' , activation = 'relu' ))\n",
        "model.add(BatchNormalization())\n",
        "#model.add(Dropout(0.1))\n",
        "model.add(Dense(10, kernel_initializer='he_normal' , activation = 'softmax'))"
      ],
      "metadata": {
        "id": "-VcfVgnXE7or"
      },
      "execution_count": 58,
      "outputs": []
    },
    {
      "cell_type": "code",
      "source": [
        "model.summary()"
      ],
      "metadata": {
        "colab": {
          "base_uri": "https://localhost:8080/"
        },
        "id": "sHuIvfp2HLxX",
        "outputId": "83ef3685-d645-45ad-d2ff-3171aebfde2a"
      },
      "execution_count": 59,
      "outputs": [
        {
          "output_type": "stream",
          "name": "stdout",
          "text": [
            "Model: \"sequential_10\"\n",
            "_________________________________________________________________\n",
            " Layer (type)                Output Shape              Param #   \n",
            "=================================================================\n",
            " conv2d_18 (Conv2D)          (None, 13, 13, 16)        160       \n",
            "                                                                 \n",
            " max_pooling2d_11 (MaxPoolin  (None, 6, 6, 16)         0         \n",
            " g2D)                                                            \n",
            "                                                                 \n",
            " flatten_4 (Flatten)         (None, 576)               0         \n",
            "                                                                 \n",
            " dense_12 (Dense)            (None, 10)                5770      \n",
            "                                                                 \n",
            " batch_normalization_6 (Batc  (None, 10)               40        \n",
            " hNormalization)                                                 \n",
            "                                                                 \n",
            " dense_13 (Dense)            (None, 10)                110       \n",
            "                                                                 \n",
            "=================================================================\n",
            "Total params: 6,080\n",
            "Trainable params: 6,060\n",
            "Non-trainable params: 20\n",
            "_________________________________________________________________\n"
          ]
        }
      ]
    },
    {
      "cell_type": "code",
      "source": [
        "adam = optimizers.Adam()\n",
        "model.compile(optimizer= adam, loss = 'categorical_crossentropy', metrics = ['accuracy'])\n",
        "history  = model.fit(x_train, y_train, epochs=10, validation_split=0.3, batch_size = 10, verbose=2)"
      ],
      "metadata": {
        "colab": {
          "base_uri": "https://localhost:8080/"
        },
        "id": "Nvv670D_KSTV",
        "outputId": "c4a98746-9a9d-4969-da87-83f72fe4fcc8"
      },
      "execution_count": 60,
      "outputs": [
        {
          "output_type": "stream",
          "name": "stdout",
          "text": [
            "Epoch 1/10\n",
            "4200/4200 - 11s - loss: 0.4760 - accuracy: 0.8664 - val_loss: 0.1636 - val_accuracy: 0.9510 - 11s/epoch - 3ms/step\n",
            "Epoch 2/10\n",
            "4200/4200 - 11s - loss: 0.2131 - accuracy: 0.9355 - val_loss: 0.1352 - val_accuracy: 0.9557 - 11s/epoch - 3ms/step\n",
            "Epoch 3/10\n",
            "4200/4200 - 11s - loss: 0.1859 - accuracy: 0.9442 - val_loss: 0.1399 - val_accuracy: 0.9574 - 11s/epoch - 3ms/step\n",
            "Epoch 4/10\n",
            "4200/4200 - 11s - loss: 0.1692 - accuracy: 0.9483 - val_loss: 0.1160 - val_accuracy: 0.9647 - 11s/epoch - 3ms/step\n",
            "Epoch 5/10\n",
            "4200/4200 - 12s - loss: 0.1566 - accuracy: 0.9523 - val_loss: 0.1018 - val_accuracy: 0.9687 - 12s/epoch - 3ms/step\n",
            "Epoch 6/10\n",
            "4200/4200 - 11s - loss: 0.1524 - accuracy: 0.9555 - val_loss: 0.1067 - val_accuracy: 0.9663 - 11s/epoch - 3ms/step\n",
            "Epoch 7/10\n",
            "4200/4200 - 11s - loss: 0.1472 - accuracy: 0.9540 - val_loss: 0.1017 - val_accuracy: 0.9692 - 11s/epoch - 3ms/step\n",
            "Epoch 8/10\n",
            "4200/4200 - 11s - loss: 0.1416 - accuracy: 0.9565 - val_loss: 0.1018 - val_accuracy: 0.9691 - 11s/epoch - 3ms/step\n",
            "Epoch 9/10\n",
            "4200/4200 - 11s - loss: 0.1437 - accuracy: 0.9561 - val_loss: 0.0972 - val_accuracy: 0.9702 - 11s/epoch - 3ms/step\n",
            "Epoch 10/10\n",
            "4200/4200 - 11s - loss: 0.1339 - accuracy: 0.9591 - val_loss: 0.0935 - val_accuracy: 0.9708 - 11s/epoch - 3ms/step\n"
          ]
        }
      ]
    },
    {
      "cell_type": "code",
      "source": [
        "plt.plot(history.history['accuracy'])\n",
        "plt.plot(history.history['val_accuracy'])\n",
        "plt.legend(['training', 'validation'])\n",
        "plt.show()\n"
      ],
      "metadata": {
        "colab": {
          "base_uri": "https://localhost:8080/",
          "height": 265
        },
        "id": "zZa9GOhxLI8N",
        "outputId": "9840d147-38b8-4cbe-820e-e09211947360"
      },
      "execution_count": 61,
      "outputs": [
        {
          "output_type": "display_data",
          "data": {
            "text/plain": [
              "<Figure size 432x288 with 1 Axes>"
            ],
            "image/png": "[encoded data removed]"
          },
          "metadata": {
            "needs_background": "light"
          }
        }
      ]
    },
    {
      "cell_type": "code",
      "source": [
        "model.evaluate(x_train, y_train)"
      ],
      "metadata": {
        "colab": {
          "base_uri": "https://localhost:8080/"
        },
        "id": "8V6Gr8d1LN7r",
        "outputId": "c3ebf41f-ad65-4b08-a485-f258294ba8a4"
      },
      "execution_count": 62,
      "outputs": [
        {
          "output_type": "stream",
          "name": "stdout",
          "text": [
            "1875/1875 [==============================] - 5s 3ms/step - loss: 0.0724 - accuracy: 0.9780\n"
          ]
        },
        {
          "output_type": "execute_result",
          "data": {
            "text/plain": [
              "[0.07241642475128174, 0.9779999852180481]"
            ]
          },
          "metadata": {},
          "execution_count": 62
        }
      ]
    },
    {
      "cell_type": "code",
      "source": [
        "model.evaluate(x_test, y_test)"
      ],
      "metadata": {
        "colab": {
          "base_uri": "https://localhost:8080/"
        },
        "id": "Z0pgeL5TLSIb",
        "outputId": "2733bbc4-e405-450d-8d1c-aa028d267b80"
      },
      "execution_count": 63,
      "outputs": [
        {
          "output_type": "stream",
          "name": "stdout",
          "text": [
            "313/313 [==============================] - 1s 3ms/step - loss: 0.0866 - accuracy: 0.9723\n"
          ]
        },
        {
          "output_type": "execute_result",
          "data": {
            "text/plain": [
              "[0.08658608049154282, 0.9722999930381775]"
            ]
          },
          "metadata": {},
          "execution_count": 63
        }
      ]
    },
    {
      "cell_type": "markdown",
      "source": [],
      "metadata": {
        "id": "Hpi5hSCNHJVH"
      }
    }
  ]
}