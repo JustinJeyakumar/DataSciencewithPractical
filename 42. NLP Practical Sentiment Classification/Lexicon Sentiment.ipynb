{
 "cells": [
  {
   "cell_type": "code",
   "execution_count": 52,
   "id": "74673389",
   "metadata": {},
   "outputs": [],
   "source": [
    "import pandas as pd\n",
    "from sklearn.metrics import confusion_matrix, accuracy_score"
   ]
  },
  {
   "cell_type": "code",
   "execution_count": 4,
   "id": "1aff473a",
   "metadata": {},
   "outputs": [],
   "source": [
    "data = pd.read_csv('train.ft.txt', delimiter = \"\\t\", header= None)"
   ]
  },
  {
   "cell_type": "code",
   "execution_count": 11,
   "id": "ae40d4fb",
   "metadata": {},
   "outputs": [],
   "source": [
    "data = data.head(10000)"
   ]
  },
  {
   "cell_type": "code",
   "execution_count": 12,
   "id": "40908177",
   "metadata": {},
   "outputs": [
    {
     "data": {
      "text/html": [
       "<div>\n",
       "<style scoped>\n",
       "    .dataframe tbody tr th:only-of-type {\n",
       "        vertical-align: middle;\n",
       "    }\n",
       "\n",
       "    .dataframe tbody tr th {\n",
       "        vertical-align: top;\n",
       "    }\n",
       "\n",
       "    .dataframe thead th {\n",
       "        text-align: right;\n",
       "    }\n",
       "</style>\n",
       "<table border=\"1\" class=\"dataframe\">\n",
       "  <thead>\n",
       "    <tr style=\"text-align: right;\">\n",
       "      <th></th>\n",
       "      <th>0</th>\n",
       "    </tr>\n",
       "  </thead>\n",
       "  <tbody>\n",
       "    <tr>\n",
       "      <th>0</th>\n",
       "      <td>__label__2 Stuning even for the non-gamer: Thi...</td>\n",
       "    </tr>\n",
       "    <tr>\n",
       "      <th>1</th>\n",
       "      <td>__label__2 The best soundtrack ever to anythin...</td>\n",
       "    </tr>\n",
       "    <tr>\n",
       "      <th>2</th>\n",
       "      <td>__label__2 Amazing!: This soundtrack is my fav...</td>\n",
       "    </tr>\n",
       "    <tr>\n",
       "      <th>3</th>\n",
       "      <td>__label__2 Excellent Soundtrack: I truly like ...</td>\n",
       "    </tr>\n",
       "    <tr>\n",
       "      <th>4</th>\n",
       "      <td>__label__2 Remember, Pull Your Jaw Off The Flo...</td>\n",
       "    </tr>\n",
       "    <tr>\n",
       "      <th>...</th>\n",
       "      <td>...</td>\n",
       "    </tr>\n",
       "    <tr>\n",
       "      <th>9995</th>\n",
       "      <td>__label__2 A revelation of life in small town ...</td>\n",
       "    </tr>\n",
       "    <tr>\n",
       "      <th>9996</th>\n",
       "      <td>__label__2 Great biography of a very interesti...</td>\n",
       "    </tr>\n",
       "    <tr>\n",
       "      <th>9997</th>\n",
       "      <td>__label__1 Interesting Subject; Poor Presentat...</td>\n",
       "    </tr>\n",
       "    <tr>\n",
       "      <th>9998</th>\n",
       "      <td>__label__1 Don't buy: The box looked used and ...</td>\n",
       "    </tr>\n",
       "    <tr>\n",
       "      <th>9999</th>\n",
       "      <td>__label__2 Beautiful Pen and Fast Delivery.: T...</td>\n",
       "    </tr>\n",
       "  </tbody>\n",
       "</table>\n",
       "<p>10000 rows × 1 columns</p>\n",
       "</div>"
      ],
      "text/plain": [
       "                                                      0\n",
       "0     __label__2 Stuning even for the non-gamer: Thi...\n",
       "1     __label__2 The best soundtrack ever to anythin...\n",
       "2     __label__2 Amazing!: This soundtrack is my fav...\n",
       "3     __label__2 Excellent Soundtrack: I truly like ...\n",
       "4     __label__2 Remember, Pull Your Jaw Off The Flo...\n",
       "...                                                 ...\n",
       "9995  __label__2 A revelation of life in small town ...\n",
       "9996  __label__2 Great biography of a very interesti...\n",
       "9997  __label__1 Interesting Subject; Poor Presentat...\n",
       "9998  __label__1 Don't buy: The box looked used and ...\n",
       "9999  __label__2 Beautiful Pen and Fast Delivery.: T...\n",
       "\n",
       "[10000 rows x 1 columns]"
      ]
     },
     "execution_count": 12,
     "metadata": {},
     "output_type": "execute_result"
    }
   ],
   "source": [
    "data"
   ]
  },
  {
   "cell_type": "code",
   "execution_count": 19,
   "id": "663c2601",
   "metadata": {},
   "outputs": [
    {
     "name": "stderr",
     "output_type": "stream",
     "text": [
      "/var/folders/02/n950_yc963qdyzpwj00gmdm40000gn/T/ipykernel_43718/2451432047.py:1: SettingWithCopyWarning: \n",
      "A value is trying to be set on a copy of a slice from a DataFrame.\n",
      "Try using .loc[row_indexer,col_indexer] = value instead\n",
      "\n",
      "See the caveats in the documentation: https://pandas.pydata.org/pandas-docs/stable/user_guide/indexing.html#returning-a-view-versus-a-copy\n",
      "  data['label'] = data[0].str.contains('__label__2')\n"
     ]
    }
   ],
   "source": [
    "data['label'] = data[0].str.contains('__label__2')"
   ]
  },
  {
   "cell_type": "code",
   "execution_count": 29,
   "id": "6b79e017",
   "metadata": {},
   "outputs": [
    {
     "name": "stderr",
     "output_type": "stream",
     "text": [
      "/var/folders/02/n950_yc963qdyzpwj00gmdm40000gn/T/ipykernel_43718/1530235799.py:1: SettingWithCopyWarning: \n",
      "A value is trying to be set on a copy of a slice from a DataFrame.\n",
      "Try using .loc[row_indexer,col_indexer] = value instead\n",
      "\n",
      "See the caveats in the documentation: https://pandas.pydata.org/pandas-docs/stable/user_guide/indexing.html#returning-a-view-versus-a-copy\n",
      "  data['reviews'] = data[0].apply(lambda x: x.split(' ',1)[1])\n"
     ]
    }
   ],
   "source": [
    "data['reviews'] = data[0].apply(lambda x: x.split(' ',1)[1])"
   ]
  },
  {
   "cell_type": "code",
   "execution_count": 32,
   "id": "e2a5e57f",
   "metadata": {},
   "outputs": [],
   "source": [
    "data = data[['reviews','label']]"
   ]
  },
  {
   "cell_type": "code",
   "execution_count": 33,
   "id": "93890c12",
   "metadata": {},
   "outputs": [
    {
     "data": {
      "text/plain": [
       "False    5097\n",
       "True     4903\n",
       "Name: label, dtype: int64"
      ]
     },
     "execution_count": 33,
     "metadata": {},
     "output_type": "execute_result"
    }
   ],
   "source": [
    "data['label'].value_counts()"
   ]
  },
  {
   "cell_type": "code",
   "execution_count": 34,
   "id": "4abf30c3",
   "metadata": {
    "scrolled": true
   },
   "outputs": [
    {
     "data": {
      "text/html": [
       "<div>\n",
       "<style scoped>\n",
       "    .dataframe tbody tr th:only-of-type {\n",
       "        vertical-align: middle;\n",
       "    }\n",
       "\n",
       "    .dataframe tbody tr th {\n",
       "        vertical-align: top;\n",
       "    }\n",
       "\n",
       "    .dataframe thead th {\n",
       "        text-align: right;\n",
       "    }\n",
       "</style>\n",
       "<table border=\"1\" class=\"dataframe\">\n",
       "  <thead>\n",
       "    <tr style=\"text-align: right;\">\n",
       "      <th></th>\n",
       "      <th>reviews</th>\n",
       "      <th>label</th>\n",
       "    </tr>\n",
       "  </thead>\n",
       "  <tbody>\n",
       "    <tr>\n",
       "      <th>0</th>\n",
       "      <td>Stuning even for the non-gamer: This sound tra...</td>\n",
       "      <td>True</td>\n",
       "    </tr>\n",
       "    <tr>\n",
       "      <th>1</th>\n",
       "      <td>The best soundtrack ever to anything.: I'm rea...</td>\n",
       "      <td>True</td>\n",
       "    </tr>\n",
       "    <tr>\n",
       "      <th>2</th>\n",
       "      <td>Amazing!: This soundtrack is my favorite music...</td>\n",
       "      <td>True</td>\n",
       "    </tr>\n",
       "    <tr>\n",
       "      <th>3</th>\n",
       "      <td>Excellent Soundtrack: I truly like this soundt...</td>\n",
       "      <td>True</td>\n",
       "    </tr>\n",
       "    <tr>\n",
       "      <th>4</th>\n",
       "      <td>Remember, Pull Your Jaw Off The Floor After He...</td>\n",
       "      <td>True</td>\n",
       "    </tr>\n",
       "    <tr>\n",
       "      <th>...</th>\n",
       "      <td>...</td>\n",
       "      <td>...</td>\n",
       "    </tr>\n",
       "    <tr>\n",
       "      <th>9990</th>\n",
       "      <td>Psychological thriller!: This movie really sca...</td>\n",
       "      <td>True</td>\n",
       "    </tr>\n",
       "    <tr>\n",
       "      <th>9991</th>\n",
       "      <td>A little more money than what I expected to sp...</td>\n",
       "      <td>True</td>\n",
       "    </tr>\n",
       "    <tr>\n",
       "      <th>9995</th>\n",
       "      <td>A revelation of life in small town America in ...</td>\n",
       "      <td>True</td>\n",
       "    </tr>\n",
       "    <tr>\n",
       "      <th>9996</th>\n",
       "      <td>Great biography of a very interesting journali...</td>\n",
       "      <td>True</td>\n",
       "    </tr>\n",
       "    <tr>\n",
       "      <th>9999</th>\n",
       "      <td>Beautiful Pen and Fast Delivery.: The pen was ...</td>\n",
       "      <td>True</td>\n",
       "    </tr>\n",
       "  </tbody>\n",
       "</table>\n",
       "<p>4903 rows × 2 columns</p>\n",
       "</div>"
      ],
      "text/plain": [
       "                                                reviews  label\n",
       "0     Stuning even for the non-gamer: This sound tra...   True\n",
       "1     The best soundtrack ever to anything.: I'm rea...   True\n",
       "2     Amazing!: This soundtrack is my favorite music...   True\n",
       "3     Excellent Soundtrack: I truly like this soundt...   True\n",
       "4     Remember, Pull Your Jaw Off The Floor After He...   True\n",
       "...                                                 ...    ...\n",
       "9990  Psychological thriller!: This movie really sca...   True\n",
       "9991  A little more money than what I expected to sp...   True\n",
       "9995  A revelation of life in small town America in ...   True\n",
       "9996  Great biography of a very interesting journali...   True\n",
       "9999  Beautiful Pen and Fast Delivery.: The pen was ...   True\n",
       "\n",
       "[4903 rows x 2 columns]"
      ]
     },
     "execution_count": 34,
     "metadata": {},
     "output_type": "execute_result"
    }
   ],
   "source": [
    "data[data['label']==True]"
   ]
  },
  {
   "cell_type": "code",
   "execution_count": 35,
   "id": "50a564ee",
   "metadata": {},
   "outputs": [
    {
     "data": {
      "text/html": [
       "<div>\n",
       "<style scoped>\n",
       "    .dataframe tbody tr th:only-of-type {\n",
       "        vertical-align: middle;\n",
       "    }\n",
       "\n",
       "    .dataframe tbody tr th {\n",
       "        vertical-align: top;\n",
       "    }\n",
       "\n",
       "    .dataframe thead th {\n",
       "        text-align: right;\n",
       "    }\n",
       "</style>\n",
       "<table border=\"1\" class=\"dataframe\">\n",
       "  <thead>\n",
       "    <tr style=\"text-align: right;\">\n",
       "      <th></th>\n",
       "      <th>reviews</th>\n",
       "      <th>label</th>\n",
       "    </tr>\n",
       "  </thead>\n",
       "  <tbody>\n",
       "    <tr>\n",
       "      <th>6</th>\n",
       "      <td>Buyer beware: This is a self-published book, a...</td>\n",
       "      <td>False</td>\n",
       "    </tr>\n",
       "    <tr>\n",
       "      <th>10</th>\n",
       "      <td>The Worst!: A complete waste of time. Typograp...</td>\n",
       "      <td>False</td>\n",
       "    </tr>\n",
       "    <tr>\n",
       "      <th>13</th>\n",
       "      <td>Oh please: I guess you have to be a romance no...</td>\n",
       "      <td>False</td>\n",
       "    </tr>\n",
       "    <tr>\n",
       "      <th>14</th>\n",
       "      <td>Awful beyond belief!: I feel I have to write t...</td>\n",
       "      <td>False</td>\n",
       "    </tr>\n",
       "    <tr>\n",
       "      <th>15</th>\n",
       "      <td>Don't try to fool us with fake reviews.: It's ...</td>\n",
       "      <td>False</td>\n",
       "    </tr>\n",
       "    <tr>\n",
       "      <th>...</th>\n",
       "      <td>...</td>\n",
       "      <td>...</td>\n",
       "    </tr>\n",
       "    <tr>\n",
       "      <th>9992</th>\n",
       "      <td>\"The Silence of the Dummies\": This is overall ...</td>\n",
       "      <td>False</td>\n",
       "    </tr>\n",
       "    <tr>\n",
       "      <th>9993</th>\n",
       "      <td>Mauled again - killing bears to enrich himself...</td>\n",
       "      <td>False</td>\n",
       "    </tr>\n",
       "    <tr>\n",
       "      <th>9994</th>\n",
       "      <td>Sorry Jim: As a former realtor, Mr. Cole owes ...</td>\n",
       "      <td>False</td>\n",
       "    </tr>\n",
       "    <tr>\n",
       "      <th>9997</th>\n",
       "      <td>Interesting Subject; Poor Presentation: You'd ...</td>\n",
       "      <td>False</td>\n",
       "    </tr>\n",
       "    <tr>\n",
       "      <th>9998</th>\n",
       "      <td>Don't buy: The box looked used and it is obvio...</td>\n",
       "      <td>False</td>\n",
       "    </tr>\n",
       "  </tbody>\n",
       "</table>\n",
       "<p>5097 rows × 2 columns</p>\n",
       "</div>"
      ],
      "text/plain": [
       "                                                reviews  label\n",
       "6     Buyer beware: This is a self-published book, a...  False\n",
       "10    The Worst!: A complete waste of time. Typograp...  False\n",
       "13    Oh please: I guess you have to be a romance no...  False\n",
       "14    Awful beyond belief!: I feel I have to write t...  False\n",
       "15    Don't try to fool us with fake reviews.: It's ...  False\n",
       "...                                                 ...    ...\n",
       "9992  \"The Silence of the Dummies\": This is overall ...  False\n",
       "9993  Mauled again - killing bears to enrich himself...  False\n",
       "9994  Sorry Jim: As a former realtor, Mr. Cole owes ...  False\n",
       "9997  Interesting Subject; Poor Presentation: You'd ...  False\n",
       "9998  Don't buy: The box looked used and it is obvio...  False\n",
       "\n",
       "[5097 rows x 2 columns]"
      ]
     },
     "execution_count": 35,
     "metadata": {},
     "output_type": "execute_result"
    }
   ],
   "source": [
    "data[data['label']==False]"
   ]
  },
  {
   "cell_type": "code",
   "execution_count": 37,
   "id": "9b13b2b6",
   "metadata": {},
   "outputs": [
    {
     "name": "stderr",
     "output_type": "stream",
     "text": [
      "/var/folders/02/n950_yc963qdyzpwj00gmdm40000gn/T/ipykernel_43718/2967677013.py:1: SettingWithCopyWarning: \n",
      "A value is trying to be set on a copy of a slice from a DataFrame.\n",
      "Try using .loc[row_indexer,col_indexer] = value instead\n",
      "\n",
      "See the caveats in the documentation: https://pandas.pydata.org/pandas-docs/stable/user_guide/indexing.html#returning-a-view-versus-a-copy\n",
      "  data['label'] = data['label'].replace({True:'Positive', False:'Negative'})\n"
     ]
    }
   ],
   "source": [
    "data['label'] = data['label'].replace({True:'Positive', False:'Negative'})"
   ]
  },
  {
   "cell_type": "code",
   "execution_count": 38,
   "id": "c5d7816e",
   "metadata": {
    "scrolled": true
   },
   "outputs": [
    {
     "data": {
      "text/html": [
       "<div>\n",
       "<style scoped>\n",
       "    .dataframe tbody tr th:only-of-type {\n",
       "        vertical-align: middle;\n",
       "    }\n",
       "\n",
       "    .dataframe tbody tr th {\n",
       "        vertical-align: top;\n",
       "    }\n",
       "\n",
       "    .dataframe thead th {\n",
       "        text-align: right;\n",
       "    }\n",
       "</style>\n",
       "<table border=\"1\" class=\"dataframe\">\n",
       "  <thead>\n",
       "    <tr style=\"text-align: right;\">\n",
       "      <th></th>\n",
       "      <th>reviews</th>\n",
       "      <th>label</th>\n",
       "    </tr>\n",
       "  </thead>\n",
       "  <tbody>\n",
       "    <tr>\n",
       "      <th>0</th>\n",
       "      <td>Stuning even for the non-gamer: This sound tra...</td>\n",
       "      <td>Positive</td>\n",
       "    </tr>\n",
       "    <tr>\n",
       "      <th>1</th>\n",
       "      <td>The best soundtrack ever to anything.: I'm rea...</td>\n",
       "      <td>Positive</td>\n",
       "    </tr>\n",
       "    <tr>\n",
       "      <th>2</th>\n",
       "      <td>Amazing!: This soundtrack is my favorite music...</td>\n",
       "      <td>Positive</td>\n",
       "    </tr>\n",
       "    <tr>\n",
       "      <th>3</th>\n",
       "      <td>Excellent Soundtrack: I truly like this soundt...</td>\n",
       "      <td>Positive</td>\n",
       "    </tr>\n",
       "    <tr>\n",
       "      <th>4</th>\n",
       "      <td>Remember, Pull Your Jaw Off The Floor After He...</td>\n",
       "      <td>Positive</td>\n",
       "    </tr>\n",
       "    <tr>\n",
       "      <th>...</th>\n",
       "      <td>...</td>\n",
       "      <td>...</td>\n",
       "    </tr>\n",
       "    <tr>\n",
       "      <th>9995</th>\n",
       "      <td>A revelation of life in small town America in ...</td>\n",
       "      <td>Positive</td>\n",
       "    </tr>\n",
       "    <tr>\n",
       "      <th>9996</th>\n",
       "      <td>Great biography of a very interesting journali...</td>\n",
       "      <td>Positive</td>\n",
       "    </tr>\n",
       "    <tr>\n",
       "      <th>9997</th>\n",
       "      <td>Interesting Subject; Poor Presentation: You'd ...</td>\n",
       "      <td>Negative</td>\n",
       "    </tr>\n",
       "    <tr>\n",
       "      <th>9998</th>\n",
       "      <td>Don't buy: The box looked used and it is obvio...</td>\n",
       "      <td>Negative</td>\n",
       "    </tr>\n",
       "    <tr>\n",
       "      <th>9999</th>\n",
       "      <td>Beautiful Pen and Fast Delivery.: The pen was ...</td>\n",
       "      <td>Positive</td>\n",
       "    </tr>\n",
       "  </tbody>\n",
       "</table>\n",
       "<p>10000 rows × 2 columns</p>\n",
       "</div>"
      ],
      "text/plain": [
       "                                                reviews     label\n",
       "0     Stuning even for the non-gamer: This sound tra...  Positive\n",
       "1     The best soundtrack ever to anything.: I'm rea...  Positive\n",
       "2     Amazing!: This soundtrack is my favorite music...  Positive\n",
       "3     Excellent Soundtrack: I truly like this soundt...  Positive\n",
       "4     Remember, Pull Your Jaw Off The Floor After He...  Positive\n",
       "...                                                 ...       ...\n",
       "9995  A revelation of life in small town America in ...  Positive\n",
       "9996  Great biography of a very interesting journali...  Positive\n",
       "9997  Interesting Subject; Poor Presentation: You'd ...  Negative\n",
       "9998  Don't buy: The box looked used and it is obvio...  Negative\n",
       "9999  Beautiful Pen and Fast Delivery.: The pen was ...  Positive\n",
       "\n",
       "[10000 rows x 2 columns]"
      ]
     },
     "execution_count": 38,
     "metadata": {},
     "output_type": "execute_result"
    }
   ],
   "source": [
    "data"
   ]
  },
  {
   "cell_type": "markdown",
   "id": "e233cbee",
   "metadata": {},
   "source": [
    "# TEXTBLOB"
   ]
  },
  {
   "cell_type": "code",
   "execution_count": null,
   "id": "b11c9a4f",
   "metadata": {},
   "outputs": [],
   "source": [
    "textblob lexicon model\n",
    "#https://github.com/sloria/TextBlob/blob/dev/textblob/en/en-sentiment.xml"
   ]
  },
  {
   "cell_type": "code",
   "execution_count": 41,
   "id": "bac7a190",
   "metadata": {},
   "outputs": [],
   "source": [
    "import textblob"
   ]
  },
  {
   "cell_type": "code",
   "execution_count": 42,
   "id": "9e5d55d8",
   "metadata": {},
   "outputs": [
    {
     "data": {
      "text/plain": [
       "1.0"
      ]
     },
     "execution_count": 42,
     "metadata": {},
     "output_type": "execute_result"
    }
   ],
   "source": [
    "textblob.TextBlob(\"The food is awesome. I will return to this restaurant for its service\").sentiment.polarity"
   ]
  },
  {
   "cell_type": "code",
   "execution_count": 43,
   "id": "b762d529",
   "metadata": {},
   "outputs": [
    {
     "data": {
      "text/plain": [
       "-1.0"
      ]
     },
     "execution_count": 43,
     "metadata": {},
     "output_type": "execute_result"
    }
   ],
   "source": [
    "textblob.TextBlob(\"The food is awefull. I will not return to this restaurant for its worst service\").sentiment.polarity"
   ]
  },
  {
   "cell_type": "code",
   "execution_count": 48,
   "id": "faabac2d",
   "metadata": {},
   "outputs": [],
   "source": [
    "data['textblob_polarity'] = [textblob.TextBlob(review).sentiment.polarity  for review in data['reviews']]\n"
   ]
  },
  {
   "cell_type": "code",
   "execution_count": 50,
   "id": "aaf96af3",
   "metadata": {},
   "outputs": [],
   "source": [
    "data['textblob_pred'] = ['Positive' if score >=0.1 else 'Negative' for score in data['textblob_polarity']]"
   ]
  },
  {
   "cell_type": "code",
   "execution_count": 51,
   "id": "08970ac3",
   "metadata": {},
   "outputs": [
    {
     "data": {
      "text/html": [
       "<div>\n",
       "<style scoped>\n",
       "    .dataframe tbody tr th:only-of-type {\n",
       "        vertical-align: middle;\n",
       "    }\n",
       "\n",
       "    .dataframe tbody tr th {\n",
       "        vertical-align: top;\n",
       "    }\n",
       "\n",
       "    .dataframe thead th {\n",
       "        text-align: right;\n",
       "    }\n",
       "</style>\n",
       "<table border=\"1\" class=\"dataframe\">\n",
       "  <thead>\n",
       "    <tr style=\"text-align: right;\">\n",
       "      <th></th>\n",
       "      <th>reviews</th>\n",
       "      <th>label</th>\n",
       "      <th>textblob_polarity</th>\n",
       "      <th>textblob_pred</th>\n",
       "    </tr>\n",
       "  </thead>\n",
       "  <tbody>\n",
       "    <tr>\n",
       "      <th>0</th>\n",
       "      <td>Stuning even for the non-gamer: This sound tra...</td>\n",
       "      <td>Positive</td>\n",
       "      <td>-0.021875</td>\n",
       "      <td>Negative</td>\n",
       "    </tr>\n",
       "    <tr>\n",
       "      <th>1</th>\n",
       "      <td>The best soundtrack ever to anything.: I'm rea...</td>\n",
       "      <td>Positive</td>\n",
       "      <td>0.261111</td>\n",
       "      <td>Positive</td>\n",
       "    </tr>\n",
       "    <tr>\n",
       "      <th>2</th>\n",
       "      <td>Amazing!: This soundtrack is my favorite music...</td>\n",
       "      <td>Positive</td>\n",
       "      <td>0.274691</td>\n",
       "      <td>Positive</td>\n",
       "    </tr>\n",
       "    <tr>\n",
       "      <th>3</th>\n",
       "      <td>Excellent Soundtrack: I truly like this soundt...</td>\n",
       "      <td>Positive</td>\n",
       "      <td>0.272727</td>\n",
       "      <td>Positive</td>\n",
       "    </tr>\n",
       "    <tr>\n",
       "      <th>4</th>\n",
       "      <td>Remember, Pull Your Jaw Off The Floor After He...</td>\n",
       "      <td>Positive</td>\n",
       "      <td>0.324802</td>\n",
       "      <td>Positive</td>\n",
       "    </tr>\n",
       "    <tr>\n",
       "      <th>...</th>\n",
       "      <td>...</td>\n",
       "      <td>...</td>\n",
       "      <td>...</td>\n",
       "      <td>...</td>\n",
       "    </tr>\n",
       "    <tr>\n",
       "      <th>9995</th>\n",
       "      <td>A revelation of life in small town America in ...</td>\n",
       "      <td>Positive</td>\n",
       "      <td>0.216146</td>\n",
       "      <td>Positive</td>\n",
       "    </tr>\n",
       "    <tr>\n",
       "      <th>9996</th>\n",
       "      <td>Great biography of a very interesting journali...</td>\n",
       "      <td>Positive</td>\n",
       "      <td>0.282051</td>\n",
       "      <td>Positive</td>\n",
       "    </tr>\n",
       "    <tr>\n",
       "      <th>9997</th>\n",
       "      <td>Interesting Subject; Poor Presentation: You'd ...</td>\n",
       "      <td>Negative</td>\n",
       "      <td>-0.019048</td>\n",
       "      <td>Negative</td>\n",
       "    </tr>\n",
       "    <tr>\n",
       "      <th>9998</th>\n",
       "      <td>Don't buy: The box looked used and it is obvio...</td>\n",
       "      <td>Negative</td>\n",
       "      <td>-0.085227</td>\n",
       "      <td>Negative</td>\n",
       "    </tr>\n",
       "    <tr>\n",
       "      <th>9999</th>\n",
       "      <td>Beautiful Pen and Fast Delivery.: The pen was ...</td>\n",
       "      <td>Positive</td>\n",
       "      <td>0.371429</td>\n",
       "      <td>Positive</td>\n",
       "    </tr>\n",
       "  </tbody>\n",
       "</table>\n",
       "<p>10000 rows × 4 columns</p>\n",
       "</div>"
      ],
      "text/plain": [
       "                                                reviews     label  \\\n",
       "0     Stuning even for the non-gamer: This sound tra...  Positive   \n",
       "1     The best soundtrack ever to anything.: I'm rea...  Positive   \n",
       "2     Amazing!: This soundtrack is my favorite music...  Positive   \n",
       "3     Excellent Soundtrack: I truly like this soundt...  Positive   \n",
       "4     Remember, Pull Your Jaw Off The Floor After He...  Positive   \n",
       "...                                                 ...       ...   \n",
       "9995  A revelation of life in small town America in ...  Positive   \n",
       "9996  Great biography of a very interesting journali...  Positive   \n",
       "9997  Interesting Subject; Poor Presentation: You'd ...  Negative   \n",
       "9998  Don't buy: The box looked used and it is obvio...  Negative   \n",
       "9999  Beautiful Pen and Fast Delivery.: The pen was ...  Positive   \n",
       "\n",
       "      textblob_polarity textblob_pred  \n",
       "0             -0.021875      Negative  \n",
       "1              0.261111      Positive  \n",
       "2              0.274691      Positive  \n",
       "3              0.272727      Positive  \n",
       "4              0.324802      Positive  \n",
       "...                 ...           ...  \n",
       "9995           0.216146      Positive  \n",
       "9996           0.282051      Positive  \n",
       "9997          -0.019048      Negative  \n",
       "9998          -0.085227      Negative  \n",
       "9999           0.371429      Positive  \n",
       "\n",
       "[10000 rows x 4 columns]"
      ]
     },
     "execution_count": 51,
     "metadata": {},
     "output_type": "execute_result"
    }
   ],
   "source": [
    "data"
   ]
  },
  {
   "cell_type": "code",
   "execution_count": 56,
   "id": "0e50935e",
   "metadata": {},
   "outputs": [
    {
     "data": {
      "text/plain": [
       "array([[3402, 1695],\n",
       "       [ 741, 4162]])"
      ]
     },
     "execution_count": 56,
     "metadata": {},
     "output_type": "execute_result"
    }
   ],
   "source": [
    "confusion_matrix(data['label'],data['textblob_pred'])\n"
   ]
  },
  {
   "cell_type": "code",
   "execution_count": 57,
   "id": "c1789c5b",
   "metadata": {},
   "outputs": [
    {
     "data": {
      "text/plain": [
       "0.7564"
      ]
     },
     "execution_count": 57,
     "metadata": {},
     "output_type": "execute_result"
    }
   ],
   "source": [
    "accuracy_score(data['label'],data['textblob_pred'])"
   ]
  },
  {
   "cell_type": "markdown",
   "id": "60d0d4d2",
   "metadata": {},
   "source": [
    "# AFINN"
   ]
  },
  {
   "cell_type": "code",
   "execution_count": null,
   "id": "ec256dca",
   "metadata": {},
   "outputs": [],
   "source": []
  },
  {
   "cell_type": "code",
   "execution_count": 60,
   "id": "123b3ab0",
   "metadata": {},
   "outputs": [],
   "source": [
    "from afinn import Afinn"
   ]
  },
  {
   "cell_type": "code",
   "execution_count": 61,
   "id": "b30f148a",
   "metadata": {},
   "outputs": [],
   "source": [
    "afn = Afinn()"
   ]
  },
  {
   "cell_type": "code",
   "execution_count": 62,
   "id": "e8b297c1",
   "metadata": {},
   "outputs": [],
   "source": [
    "data['afinn_polarity'] = [afn.score(review)  for review in data['reviews']]\n"
   ]
  },
  {
   "cell_type": "code",
   "execution_count": 71,
   "id": "a29e40b5",
   "metadata": {},
   "outputs": [],
   "source": [
    "data['afinn_pred'] = ['Positive' if score >=1 else 'Negative' for score in data['afinn_polarity']]"
   ]
  },
  {
   "cell_type": "code",
   "execution_count": 72,
   "id": "48452a4a",
   "metadata": {},
   "outputs": [
    {
     "data": {
      "text/plain": [
       "array([[2663, 2434],\n",
       "       [ 514, 4389]])"
      ]
     },
     "execution_count": 72,
     "metadata": {},
     "output_type": "execute_result"
    }
   ],
   "source": [
    "confusion_matrix(data['label'],data['afinn_pred'])\n"
   ]
  },
  {
   "cell_type": "code",
   "execution_count": 73,
   "id": "091a6cf2",
   "metadata": {},
   "outputs": [
    {
     "data": {
      "text/plain": [
       "0.7052"
      ]
     },
     "execution_count": 73,
     "metadata": {},
     "output_type": "execute_result"
    }
   ],
   "source": [
    "accuracy_score(data['label'],data['afinn_pred'])"
   ]
  },
  {
   "cell_type": "code",
   "execution_count": null,
   "id": "ed81af1f",
   "metadata": {},
   "outputs": [],
   "source": []
  },
  {
   "cell_type": "markdown",
   "id": "90cd6f88",
   "metadata": {},
   "source": [
    "# VADER"
   ]
  },
  {
   "cell_type": "code",
   "execution_count": null,
   "id": "34396364",
   "metadata": {},
   "outputs": [],
   "source": [
    "#https://github.com/cjhutto/vaderSentiment/blob/master/vaderSentiment/vader_lexicon.txt"
   ]
  },
  {
   "cell_type": "code",
   "execution_count": 74,
   "id": "67bf4eb1",
   "metadata": {},
   "outputs": [
    {
     "name": "stdout",
     "output_type": "stream",
     "text": [
      "Collecting vaderSentiment\n",
      "  Downloading vaderSentiment-3.3.2-py2.py3-none-any.whl (125 kB)\n",
      "\u001b[K     |████████████████████████████████| 125 kB 3.7 MB/s eta 0:00:01\n",
      "\u001b[?25hRequirement already satisfied: requests in /opt/homebrew/anaconda3/lib/python3.8/site-packages (from vaderSentiment) (2.27.1)\n",
      "Requirement already satisfied: certifi>=2017.4.17 in /opt/homebrew/anaconda3/lib/python3.8/site-packages (from requests->vaderSentiment) (2022.5.18.1)\n",
      "Requirement already satisfied: charset-normalizer~=2.0.0 in /opt/homebrew/anaconda3/lib/python3.8/site-packages (from requests->vaderSentiment) (2.0.4)\n",
      "Requirement already satisfied: idna<4,>=2.5 in /opt/homebrew/anaconda3/lib/python3.8/site-packages (from requests->vaderSentiment) (3.3)\n",
      "Requirement already satisfied: urllib3<1.27,>=1.21.1 in /opt/homebrew/anaconda3/lib/python3.8/site-packages (from requests->vaderSentiment) (1.26.9)\n",
      "Installing collected packages: vaderSentiment\n",
      "Successfully installed vaderSentiment-3.3.2\n"
     ]
    }
   ],
   "source": [
    "!pip install vaderSentiment\n"
   ]
  },
  {
   "cell_type": "code",
   "execution_count": 75,
   "id": "4fc1f26b",
   "metadata": {},
   "outputs": [],
   "source": [
    "from vaderSentiment.vaderSentiment import SentimentIntensityAnalyzer\n"
   ]
  },
  {
   "cell_type": "code",
   "execution_count": 76,
   "id": "5763a041",
   "metadata": {},
   "outputs": [],
   "source": [
    "analyzer = SentimentIntensityAnalyzer()\n"
   ]
  },
  {
   "cell_type": "code",
   "execution_count": 77,
   "id": "dd318cfd",
   "metadata": {},
   "outputs": [],
   "source": [
    "analyzer = SentimentIntensityAnalyzer()\n",
    "\n",
    "data['vader_polarity'] = [analyzer.polarity_scores(review)  for review in data['reviews']]"
   ]
  },
  {
   "cell_type": "code",
   "execution_count": 84,
   "id": "4464fd86",
   "metadata": {},
   "outputs": [],
   "source": [
    "data['vader_pred'] = data['vader_polarity'].apply(lambda x:'Positive' if x['compound'] > 0.1 else 'Negative')"
   ]
  },
  {
   "cell_type": "code",
   "execution_count": 85,
   "id": "f58bb48b",
   "metadata": {},
   "outputs": [
    {
     "data": {
      "text/plain": [
       "array([[2806, 2291],\n",
       "       [ 478, 4425]])"
      ]
     },
     "execution_count": 85,
     "metadata": {},
     "output_type": "execute_result"
    }
   ],
   "source": [
    "confusion_matrix(data['label'],data['vader_pred'])\n"
   ]
  },
  {
   "cell_type": "code",
   "execution_count": 86,
   "id": "177eaa50",
   "metadata": {},
   "outputs": [
    {
     "data": {
      "text/plain": [
       "0.7231"
      ]
     },
     "execution_count": 86,
     "metadata": {},
     "output_type": "execute_result"
    }
   ],
   "source": [
    "accuracy_score(data['label'],data['vader_pred'])"
   ]
  },
  {
   "cell_type": "code",
   "execution_count": null,
   "id": "ea3da4ff",
   "metadata": {},
   "outputs": [],
   "source": []
  }
 ],
 "metadata": {
  "kernelspec": {
   "display_name": "Python 3 (ipykernel)",
   "language": "python",
   "name": "python3"
  },
  "language_info": {
   "codemirror_mode": {
    "name": "ipython",
    "version": 3
   },
   "file_extension": ".py",
   "mimetype": "text/x-python",
   "name": "python",
   "nbconvert_exporter": "python",
   "pygments_lexer": "ipython3",
   "version": "3.8.13"
  }
 },
 "nbformat": 4,
 "nbformat_minor": 5
}
