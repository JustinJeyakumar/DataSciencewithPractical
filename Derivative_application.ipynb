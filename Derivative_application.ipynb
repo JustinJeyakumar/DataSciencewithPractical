{
  "nbformat": 4,
  "nbformat_minor": 0,
  "metadata": {
    "colab": {
      "name": "Derivative application.ipynb",
      "provenance": [],
      "authorship_tag": "ABX9TyPjh5KQXReWJi4qs3093h+P",
      "include_colab_link": true
    },
    "kernelspec": {
      "name": "python3",
      "display_name": "Python 3"
    },
    "language_info": {
      "name": "python"
    }
  },
  "cells": [
    {
      "cell_type": "markdown",
      "metadata": {
        "id": "view-in-github",
        "colab_type": "text"
      },
      "source": [
        "<a href=\"https://colab.research.google.com/github/nursnaaz/DataSciencewithPractical/blob/main/Derivative_application.ipynb\" target=\"_parent\"><img src=\"https://colab.research.google.com/assets/colab-badge.svg\" alt=\"Open In Colab\"/></a>"
      ]
    },
    {
      "cell_type": "code",
      "execution_count": null,
      "metadata": {
        "id": "kVGg_GykE44w"
      },
      "outputs": [],
      "source": [
        "6x^2+2*x-10"
      ]
    },
    {
      "cell_type": "code",
      "source": [
        "der = lambda x : 12*x+2\n",
        "\n",
        "y = lambda x : 4* x**4- 6 * x**3 -2* x**2 - 2*x + 10\n",
        "\n",
        "der = lambda x : 16 * x**3 - 18 * x**2 - 4*x - 2\n"
      ],
      "metadata": {
        "id": "FWGnSr9HFC00"
      },
      "execution_count": 51,
      "outputs": []
    },
    {
      "cell_type": "code",
      "source": [
        "der(5)"
      ],
      "metadata": {
        "colab": {
          "base_uri": "https://localhost:8080/"
        },
        "id": "pP55f-c_FLCA",
        "outputId": "020d5cd2-7569-465e-9c0f-9c3a66d5af1a"
      },
      "execution_count": 46,
      "outputs": [
        {
          "output_type": "execute_result",
          "data": {
            "text/plain": [
              "1528"
            ]
          },
          "metadata": {},
          "execution_count": 46
        }
      ]
    },
    {
      "cell_type": "code",
      "source": [
        "lr = 0.001\n",
        "cur_x = 5\n",
        "change = 1\n",
        "iteration = 1\n",
        "while change>0.000000000001:\n",
        "  prev_x = cur_x\n",
        "  cur_x = cur_x - der(cur_x)*lr\n",
        "  change = prev_x - cur_x\n",
        "  iteration += 1\n",
        "  #print(change)\n",
        "\n"
      ],
      "metadata": {
        "id": "pBpof31aFOo-"
      },
      "execution_count": 49,
      "outputs": []
    },
    {
      "cell_type": "code",
      "source": [
        "cur_x"
      ],
      "metadata": {
        "colab": {
          "base_uri": "https://localhost:8080/"
        },
        "id": "4jKLEA55Gnr7",
        "outputId": "53da1bb2-5729-45db-c6eb-eb2f23678274"
      },
      "execution_count": 50,
      "outputs": [
        {
          "output_type": "execute_result",
          "data": {
            "text/plain": [
              "1.3733185063307498"
            ]
          },
          "metadata": {},
          "execution_count": 50
        }
      ]
    },
    {
      "cell_type": "code",
      "source": [
        "y(cur_x)"
      ],
      "metadata": {
        "id": "_ClaBAvPGqZA",
        "colab": {
          "base_uri": "https://localhost:8080/"
        },
        "outputId": "93c5adfa-45b6-47ba-8c4c-29d72751fcc8"
      },
      "execution_count": 52,
      "outputs": [
        {
          "output_type": "execute_result",
          "data": {
            "text/plain": [
              "2.1688928038243773"
            ]
          },
          "metadata": {},
          "execution_count": 52
        }
      ]
    },
    {
      "cell_type": "code",
      "source": [
        "cost_buiscuit = lambda x : 2500 - 10*x -0.01* x**2 +0.0002* x**3"
      ],
      "metadata": {
        "id": "cOyQcgyDK40A"
      },
      "execution_count": 54,
      "outputs": []
    },
    {
      "cell_type": "code",
      "source": [
        "der_cost_buis = lambda x : -10 - 0.02 * x + 0.0006 * x**2"
      ],
      "metadata": {
        "id": "t1iyDKyFLLls"
      },
      "execution_count": 55,
      "outputs": []
    },
    {
      "cell_type": "code",
      "source": [
        "lr = 0.001\n",
        "cur_x = 500\n",
        "change = 1\n",
        "iteration = 1\n",
        "while change>0.000000000001:\n",
        "  prev_x = cur_x\n",
        "  cur_x = cur_x - der_cost_buis(cur_x)*lr\n",
        "  change = prev_x - cur_x\n",
        "  iteration += 1\n",
        "  #print(change)"
      ],
      "metadata": {
        "id": "_QkRTHVcLndm"
      },
      "execution_count": 56,
      "outputs": []
    },
    {
      "cell_type": "code",
      "source": [
        "cur_x"
      ],
      "metadata": {
        "id": "I6PLkipqLrzo",
        "outputId": "f760af77-6feb-49b4-a2b8-450886928330",
        "colab": {
          "base_uri": "https://localhost:8080/"
        }
      },
      "execution_count": 57,
      "outputs": [
        {
          "output_type": "execute_result",
          "data": {
            "text/plain": [
              "146.83749460490242"
            ]
          },
          "metadata": {},
          "execution_count": 57
        }
      ]
    },
    {
      "cell_type": "code",
      "source": [
        "cost_buiscuit(cur_x)"
      ],
      "metadata": {
        "id": "I9bJHDzgLtRm",
        "outputId": "461151b3-4707-4a5a-8509-80641066e5d5",
        "colab": {
          "base_uri": "https://localhost:8080/"
        }
      },
      "execution_count": 58,
      "outputs": [
        {
          "output_type": "execute_result",
          "data": {
            "text/plain": [
              "1449.2125366105447"
            ]
          },
          "metadata": {},
          "execution_count": 58
        }
      ]
    },
    {
      "cell_type": "code",
      "source": [
        "cost_buiscuit(200)"
      ],
      "metadata": {
        "id": "7R3-ACFfL36Q",
        "outputId": "e8a8a5e5-eb36-4570-b969-29a89ed94d09",
        "colab": {
          "base_uri": "https://localhost:8080/"
        }
      },
      "execution_count": 59,
      "outputs": [
        {
          "output_type": "execute_result",
          "data": {
            "text/plain": [
              "1700.0"
            ]
          },
          "metadata": {},
          "execution_count": 59
        }
      ]
    },
    {
      "cell_type": "code",
      "source": [
        "cost_buiscuit(300)"
      ],
      "metadata": {
        "id": "AEQTtpHTL8en",
        "outputId": "e687f2ce-c218-4a11-c3c1-e77aa4bb5a9d",
        "colab": {
          "base_uri": "https://localhost:8080/"
        }
      },
      "execution_count": 60,
      "outputs": [
        {
          "output_type": "execute_result",
          "data": {
            "text/plain": [
              "4000.0"
            ]
          },
          "metadata": {},
          "execution_count": 60
        }
      ]
    },
    {
      "cell_type": "code",
      "source": [
        "cost_buiscuit(146.83)"
      ],
      "metadata": {
        "id": "FUztk28zL_7e",
        "outputId": "fda7d1e4-661b-40ff-8199-ccf183a76e7e",
        "colab": {
          "base_uri": "https://localhost:8080/"
        }
      },
      "execution_count": 62,
      "outputs": [
        {
          "output_type": "execute_result",
          "data": {
            "text/plain": [
              "1449.2125409974"
            ]
          },
          "metadata": {},
          "execution_count": 62
        }
      ]
    },
    {
      "cell_type": "code",
      "source": [
        "cost_buiscuit(100)"
      ],
      "metadata": {
        "id": "3tzfIt_1MMgo",
        "outputId": "f918a227-9d11-4d7a-b765-13d927f30735",
        "colab": {
          "base_uri": "https://localhost:8080/"
        }
      },
      "execution_count": 63,
      "outputs": [
        {
          "output_type": "execute_result",
          "data": {
            "text/plain": [
              "1600.0"
            ]
          },
          "metadata": {},
          "execution_count": 63
        }
      ]
    },
    {
      "cell_type": "code",
      "source": [
        "y = 20 + 3x + 2x^2 + 4x^3"
      ],
      "metadata": {
        "id": "fdRiLVlpM2HN"
      },
      "execution_count": null,
      "outputs": []
    },
    {
      "cell_type": "code",
      "source": [
        "Find minimal value of y given an x"
      ],
      "metadata": {
        "id": "RnMCUcMARRS7"
      },
      "execution_count": null,
      "outputs": []
    },
    {
      "cell_type": "code",
      "source": [
        "1. start from a random number\n",
        "2. select the learninig rate \n",
        "\n",
        "3. find the direction - dervative\n",
        "4. find the new number you are at by negative the old place to new place"
      ],
      "metadata": {
        "id": "YcfHpAp4RgsT"
      },
      "execution_count": null,
      "outputs": []
    }
  ]
}