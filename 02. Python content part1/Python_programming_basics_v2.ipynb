{
 "cells": [
  {
   "cell_type": "markdown",
   "id": "31e0cde8",
   "metadata": {},
   "source": [
    "## Python "
   ]
  },
  {
   "cell_type": "markdown",
   "id": "66fa49ca",
   "metadata": {},
   "source": [
    "### Keyword"
   ]
  },
  {
   "cell_type": "code",
   "execution_count": 8,
   "id": "93a0d579",
   "metadata": {},
   "outputs": [],
   "source": [
    "import os\n",
    "import pandas as pd\n",
    "import numpy as np"
   ]
  },
  {
   "cell_type": "code",
   "execution_count": 9,
   "id": "a5b9d589",
   "metadata": {},
   "outputs": [
    {
     "data": {
      "text/plain": [
       "'C:\\\\Imran\\\\Training\\\\Inceptez\\\\Notebook'"
      ]
     },
     "execution_count": 9,
     "metadata": {},
     "output_type": "execute_result"
    }
   ],
   "source": [
    "os.getcwd()"
   ]
  },
  {
   "cell_type": "code",
   "execution_count": 1,
   "id": "5278de5e",
   "metadata": {},
   "outputs": [],
   "source": [
    "import keyword\n"
   ]
  },
  {
   "cell_type": "code",
   "execution_count": 3,
   "id": "d383c33d",
   "metadata": {
    "collapsed": true
   },
   "outputs": [
    {
     "data": {
      "text/plain": [
       "['False',\n",
       " 'None',\n",
       " 'True',\n",
       " '__peg_parser__',\n",
       " 'and',\n",
       " 'as',\n",
       " 'assert',\n",
       " 'async',\n",
       " 'await',\n",
       " 'break',\n",
       " 'class',\n",
       " 'continue',\n",
       " 'def',\n",
       " 'del',\n",
       " 'elif',\n",
       " 'else',\n",
       " 'except',\n",
       " 'finally',\n",
       " 'for',\n",
       " 'from',\n",
       " 'global',\n",
       " 'if',\n",
       " 'import',\n",
       " 'in',\n",
       " 'is',\n",
       " 'lambda',\n",
       " 'nonlocal',\n",
       " 'not',\n",
       " 'or',\n",
       " 'pass',\n",
       " 'raise',\n",
       " 'return',\n",
       " 'try',\n",
       " 'while',\n",
       " 'with',\n",
       " 'yield']"
      ]
     },
     "execution_count": 3,
     "metadata": {},
     "output_type": "execute_result"
    }
   ],
   "source": [
    "keyword.kwlist"
   ]
  },
  {
   "cell_type": "code",
   "execution_count": 5,
   "id": "79f573c0",
   "metadata": {},
   "outputs": [],
   "source": [
    "del var1"
   ]
  },
  {
   "cell_type": "code",
   "execution_count": 3,
   "id": "83cbdac2",
   "metadata": {},
   "outputs": [
    {
     "name": "stdout",
     "output_type": "stream",
     "text": [
      "10\n"
     ]
    }
   ],
   "source": [
    "a = 10\n",
    "print(a)"
   ]
  },
  {
   "cell_type": "code",
   "execution_count": 4,
   "id": "53c5d229",
   "metadata": {},
   "outputs": [
    {
     "name": "stdout",
     "output_type": "stream",
     "text": [
      "True value\n"
     ]
    }
   ],
   "source": [
    "TRUE = \"True value\"\n",
    "print(TRUE)"
   ]
  },
  {
   "cell_type": "code",
   "execution_count": 5,
   "id": "5017ee79",
   "metadata": {},
   "outputs": [],
   "source": [
    "# case sensitive language"
   ]
  },
  {
   "cell_type": "code",
   "execution_count": 6,
   "id": "f3f42d4a",
   "metadata": {},
   "outputs": [
    {
     "ename": "SyntaxError",
     "evalue": "cannot assign to True (Temp/ipykernel_9784/2227483689.py, line 1)",
     "output_type": "error",
     "traceback": [
      "\u001b[1;36m  File \u001b[1;32m\"C:\\Users\\moham\\AppData\\Local\\Temp/ipykernel_9784/2227483689.py\"\u001b[1;36m, line \u001b[1;32m1\u001b[0m\n\u001b[1;33m    True = 10\u001b[0m\n\u001b[1;37m    ^\u001b[0m\n\u001b[1;31mSyntaxError\u001b[0m\u001b[1;31m:\u001b[0m cannot assign to True\n"
     ]
    }
   ],
   "source": [
    "True = 10"
   ]
  },
  {
   "cell_type": "code",
   "execution_count": 7,
   "id": "3c61d550",
   "metadata": {},
   "outputs": [
    {
     "data": {
      "text/plain": [
       "False"
      ]
     },
     "execution_count": 7,
     "metadata": {},
     "output_type": "execute_result"
    }
   ],
   "source": [
    "5 < 3"
   ]
  },
  {
   "cell_type": "code",
   "execution_count": 46,
   "id": "19bc1eb3",
   "metadata": {},
   "outputs": [
    {
     "data": {
      "text/plain": [
       "27"
      ]
     },
     "execution_count": 46,
     "metadata": {},
     "output_type": "execute_result"
    }
   ],
   "source": [
    "2 + 25"
   ]
  },
  {
   "cell_type": "markdown",
   "id": "b94112bd",
   "metadata": {},
   "source": [
    "## Identifier"
   ]
  },
  {
   "cell_type": "code",
   "execution_count": null,
   "id": "28b2d73f",
   "metadata": {},
   "outputs": [],
   "source": []
  },
  {
   "cell_type": "code",
   "execution_count": 11,
   "id": "4f0602c3",
   "metadata": {},
   "outputs": [
    {
     "name": "stdout",
     "output_type": "stream",
     "text": [
      "First variable\n"
     ]
    }
   ],
   "source": [
    "var_1 = \"First variable\"\n",
    "print(var_1)"
   ]
  },
  {
   "cell_type": "code",
   "execution_count": null,
   "id": "79eaea37",
   "metadata": {},
   "outputs": [],
   "source": []
  },
  {
   "cell_type": "markdown",
   "id": "860893bb",
   "metadata": {},
   "source": [
    " ## Python statements"
   ]
  },
  {
   "cell_type": "code",
   "execution_count": 56,
   "id": "9acce19d",
   "metadata": {},
   "outputs": [
    {
     "name": "stdout",
     "output_type": "stream",
     "text": [
      "45\n"
     ]
    }
   ],
   "source": [
    "digit = 1 + 2 +3 + \\\n",
    "4 + 5 + 6 + \\\n",
    "7 + 8 + 9\n",
    "\n",
    "print(digit)"
   ]
  },
  {
   "cell_type": "code",
   "execution_count": 14,
   "id": "a6e9603e",
   "metadata": {},
   "outputs": [
    {
     "name": "stdout",
     "output_type": "stream",
     "text": [
      "45\n"
     ]
    }
   ],
   "source": [
    "digit = (1 + 2 +3 + \n",
    "4 + 5 + 6 + \n",
    "7 + 8 + 9)\n",
    "\n",
    "print(digit)"
   ]
  },
  {
   "cell_type": "code",
   "execution_count": 16,
   "id": "f5a37797",
   "metadata": {},
   "outputs": [
    {
     "name": "stdout",
     "output_type": "stream",
     "text": [
      "1 2 3\n"
     ]
    }
   ],
   "source": [
    "a = 1; b = 2; c = 3\n",
    "\n",
    "print(a, b, c)"
   ]
  },
  {
   "cell_type": "markdown",
   "id": "5cc9ad62",
   "metadata": {},
   "source": [
    "## Indendation"
   ]
  },
  {
   "cell_type": "code",
   "execution_count": 66,
   "id": "6df4eacb",
   "metadata": {},
   "outputs": [
    {
     "data": {
      "text/plain": [
       "[1, 2, 3, 4, 5, 6, 7, 8, 9, 10, 11]"
      ]
     },
     "execution_count": 66,
     "metadata": {},
     "output_type": "execute_result"
    }
   ],
   "source": [
    "list(range(1, 12, 1)) "
   ]
  },
  {
   "cell_type": "code",
   "execution_count": 63,
   "id": "6db6be84",
   "metadata": {},
   "outputs": [
    {
     "data": {
      "text/plain": [
       "[12, 11, 10, 9, 8, 7, 6, 5, 4, 3, 2, 1, 0]"
      ]
     },
     "execution_count": 63,
     "metadata": {},
     "output_type": "execute_result"
    }
   ],
   "source": [
    "list(range(12, -1,-1)) # end position = n-1"
   ]
  },
  {
   "cell_type": "code",
   "execution_count": 25,
   "id": "e1933bdd",
   "metadata": {},
   "outputs": [
    {
     "name": "stdout",
     "output_type": "stream",
     "text": [
      "1\n",
      "2\n",
      "3\n",
      "4\n",
      "5\n"
     ]
    }
   ],
   "source": [
    "for i in range(1, 8):\n",
    "    print(i)\n",
    "    if (i == 5):\n",
    "        break  "
   ]
  },
  {
   "cell_type": "code",
   "execution_count": 30,
   "id": "9a41860c",
   "metadata": {},
   "outputs": [
    {
     "name": "stdout",
     "output_type": "stream",
     "text": [
      "1\n",
      "2\n",
      "3\n",
      "4\n",
      "5\n",
      "6\n",
      "7\n",
      "8\n",
      "9\n"
     ]
    }
   ],
   "source": [
    "for i in range(1,10): print(i)"
   ]
  },
  {
   "cell_type": "code",
   "execution_count": 34,
   "id": "367597b1",
   "metadata": {},
   "outputs": [
    {
     "name": "stdout",
     "output_type": "stream",
     "text": [
      "True\n"
     ]
    }
   ],
   "source": [
    "if True: \n",
    "    print('True')"
   ]
  },
  {
   "cell_type": "markdown",
   "id": "38d11dc4",
   "metadata": {},
   "source": [
    "## Comment"
   ]
  },
  {
   "cell_type": "code",
   "execution_count": 37,
   "id": "abdcc10d",
   "metadata": {},
   "outputs": [
    {
     "name": "stdout",
     "output_type": "stream",
     "text": [
      "I am an Software engineer\n",
      "I am an Analyst\n",
      "I am an Data Engineer\n"
     ]
    }
   ],
   "source": [
    "#who are you?\n",
    "print('I am an Software engineer')\n",
    "print('I am an Analyst')\n",
    "print('I am an Data Engineer')"
   ]
  },
  {
   "cell_type": "markdown",
   "id": "ec031e8b",
   "metadata": {},
   "source": [
    "## Multi line comment"
   ]
  },
  {
   "cell_type": "code",
   "execution_count": 40,
   "id": "3d4adb96",
   "metadata": {},
   "outputs": [
    {
     "data": {
      "text/plain": [
       "'My first line of comment \\nMy second line of comment \\nMy third line of comment'"
      ]
     },
     "execution_count": 40,
     "metadata": {},
     "output_type": "execute_result"
    }
   ],
   "source": [
    "\"\"\"My first line of comment \n",
    "My second line of comment \n",
    "My third line of comment\"\"\"\n"
   ]
  },
  {
   "cell_type": "markdown",
   "id": "8692900d",
   "metadata": {},
   "source": [
    "## Docstring"
   ]
  },
  {
   "cell_type": "code",
   "execution_count": 41,
   "id": "50b6d316",
   "metadata": {},
   "outputs": [],
   "source": [
    "#comment\n",
    "def function1():\n",
    "    \"\"\"My first function to print the statement\"\"\"\n",
    "    print('This is my first function')"
   ]
  },
  {
   "cell_type": "code",
   "execution_count": 42,
   "id": "c5c9cdbd",
   "metadata": {},
   "outputs": [
    {
     "name": "stdout",
     "output_type": "stream",
     "text": [
      "This is my first function\n"
     ]
    }
   ],
   "source": [
    "function1()"
   ]
  },
  {
   "cell_type": "code",
   "execution_count": 43,
   "id": "002d8dda",
   "metadata": {},
   "outputs": [
    {
     "name": "stdout",
     "output_type": "stream",
     "text": [
      "My first function to print the statement\n"
     ]
    }
   ],
   "source": [
    "print(function1.__doc__)"
   ]
  },
  {
   "cell_type": "code",
   "execution_count": 2,
   "id": "ad0028d9",
   "metadata": {},
   "outputs": [],
   "source": [
    "def addition_function(a, b):\n",
    "    \"\"\"Function to add two number\"\"\"\n",
    "    return a + b\n"
   ]
  },
  {
   "cell_type": "code",
   "execution_count": 3,
   "id": "6a94def4",
   "metadata": {},
   "outputs": [],
   "source": [
    "addition_function(5, 12)"
   ]
  },
  {
   "cell_type": "code",
   "execution_count": 50,
   "id": "921b2564",
   "metadata": {},
   "outputs": [
    {
     "name": "stdout",
     "output_type": "stream",
     "text": [
      "Function to add two number\n"
     ]
    }
   ],
   "source": [
    "print(addition_function.__doc__)"
   ]
  },
  {
   "cell_type": "markdown",
   "id": "b8c7da96",
   "metadata": {},
   "source": [
    "## 02/05"
   ]
  },
  {
   "cell_type": "code",
   "execution_count": 4,
   "id": "f90aeb22",
   "metadata": {},
   "outputs": [],
   "source": [
    "from my_package import test_package"
   ]
  },
  {
   "cell_type": "code",
   "execution_count": 10,
   "id": "cfff6831",
   "metadata": {},
   "outputs": [
    {
     "name": "stdout",
     "output_type": "stream",
     "text": [
      "PYTHON\n"
     ]
    }
   ],
   "source": [
    "my_package_var = test_package.NAME\n",
    "print(my_package_var)"
   ]
  },
  {
   "cell_type": "code",
   "execution_count": null,
   "id": "5e60a0b6",
   "metadata": {},
   "outputs": [],
   "source": []
  },
  {
   "cell_type": "markdown",
   "id": "9bd16233",
   "metadata": {},
   "source": [
    "## List"
   ]
  },
  {
   "cell_type": "code",
   "execution_count": 11,
   "id": "b49750ad",
   "metadata": {},
   "outputs": [
    {
     "name": "stdout",
     "output_type": "stream",
     "text": [
      "[1, 'two', 3.0]\n"
     ]
    }
   ],
   "source": [
    "list1 = [1, 'two', 3.0]\n",
    "print(list1)"
   ]
  },
  {
   "cell_type": "code",
   "execution_count": 12,
   "id": "b35255ee",
   "metadata": {},
   "outputs": [
    {
     "name": "stdout",
     "output_type": "stream",
     "text": [
      "1\n",
      "two\n",
      "3.0\n"
     ]
    }
   ],
   "source": [
    "for i in list1:\n",
    "    print(i)"
   ]
  },
  {
   "cell_type": "markdown",
   "id": "f63bb2fc",
   "metadata": {},
   "source": [
    "## List comprehension"
   ]
  },
  {
   "cell_type": "code",
   "execution_count": 23,
   "id": "740e035e",
   "metadata": {},
   "outputs": [
    {
     "data": {
      "text/plain": [
       "[5.3, 7.5]"
      ]
     },
     "execution_count": 23,
     "metadata": {},
     "output_type": "execute_result"
    }
   ],
   "source": [
    "list2 = [20, 5.3, 25, 7.5]\n",
    "\n",
    "[a for a in list2 if a < 20]"
   ]
  },
  {
   "cell_type": "markdown",
   "id": "e67738a8",
   "metadata": {},
   "source": [
    "# print each value (exp), for each value in the list(for loop), if the each value is less than 20 (condition)"
   ]
  },
  {
   "cell_type": "code",
   "execution_count": 13,
   "id": "cd903da0",
   "metadata": {},
   "outputs": [
    {
     "data": {
      "text/plain": [
       "[0, 1, 2, 3, 4]"
      ]
     },
     "execution_count": 13,
     "metadata": {},
     "output_type": "execute_result"
    }
   ],
   "source": [
    "# list(range(5))"
   ]
  },
  {
   "cell_type": "code",
   "execution_count": 18,
   "id": "08c6b9f0",
   "metadata": {},
   "outputs": [
    {
     "data": {
      "text/plain": [
       "25"
      ]
     },
     "execution_count": 18,
     "metadata": {},
     "output_type": "execute_result"
    }
   ],
   "source": [
    "list2[2]"
   ]
  },
  {
   "cell_type": "code",
   "execution_count": 29,
   "id": "0fbe5490",
   "metadata": {},
   "outputs": [],
   "source": [
    "power2 = [a**2 for a in range(10) if a%2 == 0]"
   ]
  },
  {
   "cell_type": "code",
   "execution_count": 26,
   "id": "2b431e86",
   "metadata": {},
   "outputs": [
    {
     "data": {
      "text/plain": [
       "[0, 1, 2, 3, 4, 5, 6, 7, 8, 9, 10]"
      ]
     },
     "execution_count": 26,
     "metadata": {},
     "output_type": "execute_result"
    }
   ],
   "source": [
    "list(range(11))"
   ]
  },
  {
   "cell_type": "code",
   "execution_count": 27,
   "id": "f75b5395",
   "metadata": {},
   "outputs": [
    {
     "data": {
      "text/plain": [
       "[0, 1, 4, 9, 16, 25, 36, 49, 64, 81, 100]"
      ]
     },
     "execution_count": 27,
     "metadata": {},
     "output_type": "execute_result"
    }
   ],
   "source": [
    "power2"
   ]
  },
  {
   "cell_type": "markdown",
   "id": "055313ed",
   "metadata": {},
   "source": [
    "## Slicing"
   ]
  },
  {
   "cell_type": "code",
   "execution_count": 42,
   "id": "d5dd739a",
   "metadata": {},
   "outputs": [
    {
     "data": {
      "text/plain": [
       "[0, 2, 4, 6, 8, 10]"
      ]
     },
     "execution_count": 42,
     "metadata": {},
     "output_type": "execute_result"
    }
   ],
   "source": [
    "list(range(0, 12, 2))"
   ]
  },
  {
   "cell_type": "code",
   "execution_count": 30,
   "id": "51a0a53d",
   "metadata": {},
   "outputs": [],
   "source": [
    "list3 = [1, 2, 3, 4, 5, 6, 7, 8, 9, 10]"
   ]
  },
  {
   "cell_type": "code",
   "execution_count": 33,
   "id": "3e092c18",
   "metadata": {},
   "outputs": [
    {
     "data": {
      "text/plain": [
       "1"
      ]
     },
     "execution_count": 33,
     "metadata": {},
     "output_type": "execute_result"
    }
   ],
   "source": [
    "list3[0]"
   ]
  },
  {
   "cell_type": "code",
   "execution_count": 34,
   "id": "a50a02ab",
   "metadata": {},
   "outputs": [
    {
     "data": {
      "text/plain": [
       "[3, 4, 5]"
      ]
     },
     "execution_count": 34,
     "metadata": {},
     "output_type": "execute_result"
    }
   ],
   "source": [
    " list3[2:5]"
   ]
  },
  {
   "cell_type": "code",
   "execution_count": 44,
   "id": "77da40cc",
   "metadata": {},
   "outputs": [
    {
     "data": {
      "text/plain": [
       "[6, 7, 8]"
      ]
     },
     "execution_count": 44,
     "metadata": {},
     "output_type": "execute_result"
    }
   ],
   "source": [
    "list3[-5:-2]"
   ]
  },
  {
   "cell_type": "markdown",
   "id": "d718af30",
   "metadata": {},
   "source": [
    "## List is mutable"
   ]
  },
  {
   "cell_type": "code",
   "execution_count": 37,
   "id": "2b8c9d66",
   "metadata": {},
   "outputs": [],
   "source": [
    "list3[3] = 14"
   ]
  },
  {
   "cell_type": "code",
   "execution_count": 38,
   "id": "82d2904e",
   "metadata": {},
   "outputs": [
    {
     "data": {
      "text/plain": [
       "[1, 2, 3, 14, 5, 6, 7, 8, 9, 10]"
      ]
     },
     "execution_count": 38,
     "metadata": {},
     "output_type": "execute_result"
    }
   ],
   "source": [
    "list3"
   ]
  },
  {
   "cell_type": "markdown",
   "id": "c9aaf6dc",
   "metadata": {},
   "source": [
    "## Tuple is immutable"
   ]
  },
  {
   "cell_type": "code",
   "execution_count": 49,
   "id": "1e7cd043",
   "metadata": {},
   "outputs": [],
   "source": [
    "a = (1, 2, 3, 4, 5, 5, 5, 5)"
   ]
  },
  {
   "cell_type": "code",
   "execution_count": 50,
   "id": "85a92264",
   "metadata": {},
   "outputs": [
    {
     "data": {
      "text/plain": [
       "(3, 4, 5, 5)"
      ]
     },
     "execution_count": 50,
     "metadata": {},
     "output_type": "execute_result"
    }
   ],
   "source": [
    "a[2: 6]"
   ]
  },
  {
   "cell_type": "code",
   "execution_count": 48,
   "id": "5964213e",
   "metadata": {},
   "outputs": [
    {
     "ename": "TypeError",
     "evalue": "'tuple' object does not support item assignment",
     "output_type": "error",
     "traceback": [
      "\u001b[1;31m---------------------------------------------------------------------------\u001b[0m",
      "\u001b[1;31mTypeError\u001b[0m                                 Traceback (most recent call last)",
      "\u001b[1;32m~\\AppData\\Local\\Temp/ipykernel_4992/665090568.py\u001b[0m in \u001b[0;36m<module>\u001b[1;34m\u001b[0m\n\u001b[1;32m----> 1\u001b[1;33m \u001b[0ma\u001b[0m\u001b[1;33m[\u001b[0m\u001b[1;36m2\u001b[0m\u001b[1;33m]\u001b[0m \u001b[1;33m=\u001b[0m \u001b[1;36m13\u001b[0m\u001b[1;33m\u001b[0m\u001b[1;33m\u001b[0m\u001b[0m\n\u001b[0m",
      "\u001b[1;31mTypeError\u001b[0m: 'tuple' object does not support item assignment"
     ]
    }
   ],
   "source": [
    "a[2] = 13"
   ]
  },
  {
   "cell_type": "markdown",
   "id": "c03d1bf1",
   "metadata": {},
   "source": [
    "## String"
   ]
  },
  {
   "cell_type": "code",
   "execution_count": 51,
   "id": "2b4ad089",
   "metadata": {},
   "outputs": [
    {
     "name": "stdout",
     "output_type": "stream",
     "text": [
      "This is a string\n"
     ]
    },
    {
     "data": {
      "text/plain": [
       "str"
      ]
     },
     "execution_count": 51,
     "metadata": {},
     "output_type": "execute_result"
    }
   ],
   "source": [
    "s = \"This is a string\"\n",
    "print(s)\n",
    "type(s)"
   ]
  },
  {
   "cell_type": "code",
   "execution_count": 54,
   "id": "0205a410",
   "metadata": {},
   "outputs": [
    {
     "data": {
      "text/plain": [
       "'string'"
      ]
     },
     "execution_count": 54,
     "metadata": {},
     "output_type": "execute_result"
    }
   ],
   "source": [
    "s[-6:]"
   ]
  },
  {
   "cell_type": "code",
   "execution_count": 55,
   "id": "8740e18d",
   "metadata": {},
   "outputs": [
    {
     "ename": "TypeError",
     "evalue": "'str' object does not support item assignment",
     "output_type": "error",
     "traceback": [
      "\u001b[1;31m---------------------------------------------------------------------------\u001b[0m",
      "\u001b[1;31mTypeError\u001b[0m                                 Traceback (most recent call last)",
      "\u001b[1;32m~\\AppData\\Local\\Temp/ipykernel_4992/135570908.py\u001b[0m in \u001b[0;36m<module>\u001b[1;34m\u001b[0m\n\u001b[1;32m----> 1\u001b[1;33m \u001b[0ms\u001b[0m\u001b[1;33m[\u001b[0m\u001b[1;36m3\u001b[0m\u001b[1;33m]\u001b[0m \u001b[1;33m=\u001b[0m \u001b[1;34m'r'\u001b[0m\u001b[1;33m\u001b[0m\u001b[1;33m\u001b[0m\u001b[0m\n\u001b[0m",
      "\u001b[1;31mTypeError\u001b[0m: 'str' object does not support item assignment"
     ]
    }
   ],
   "source": [
    "s[3] = 'r'"
   ]
  },
  {
   "cell_type": "markdown",
   "id": "837cf0d4",
   "metadata": {},
   "source": [
    "## Set - Unordered\n"
   ]
  },
  {
   "cell_type": "code",
   "execution_count": 56,
   "id": "3f814a25",
   "metadata": {},
   "outputs": [],
   "source": [
    "set1 = {1, 2, 3, 4, 5}"
   ]
  },
  {
   "cell_type": "code",
   "execution_count": 57,
   "id": "693a3815",
   "metadata": {},
   "outputs": [
    {
     "data": {
      "text/plain": [
       "set"
      ]
     },
     "execution_count": 57,
     "metadata": {},
     "output_type": "execute_result"
    }
   ],
   "source": [
    "type(set1)"
   ]
  },
  {
   "cell_type": "code",
   "execution_count": 58,
   "id": "c6091c7a",
   "metadata": {},
   "outputs": [
    {
     "ename": "TypeError",
     "evalue": "'set' object is not subscriptable",
     "output_type": "error",
     "traceback": [
      "\u001b[1;31m---------------------------------------------------------------------------\u001b[0m",
      "\u001b[1;31mTypeError\u001b[0m                                 Traceback (most recent call last)",
      "\u001b[1;32m~\\AppData\\Local\\Temp/ipykernel_4992/2367749814.py\u001b[0m in \u001b[0;36m<module>\u001b[1;34m\u001b[0m\n\u001b[1;32m----> 1\u001b[1;33m \u001b[0mset1\u001b[0m\u001b[1;33m[\u001b[0m\u001b[1;36m2\u001b[0m\u001b[1;33m]\u001b[0m\u001b[1;33m\u001b[0m\u001b[1;33m\u001b[0m\u001b[0m\n\u001b[0m",
      "\u001b[1;31mTypeError\u001b[0m: 'set' object is not subscriptable"
     ]
    }
   ],
   "source": [
    "set1[2]"
   ]
  },
  {
   "cell_type": "code",
   "execution_count": 70,
   "id": "cab28d76",
   "metadata": {},
   "outputs": [],
   "source": [
    "set2 = {1,1,1,1,1, 2,2,2,2,2,4,3,3,3,3, 5, 8, 0, 6, 6 , 'string', 'string'}"
   ]
  },
  {
   "cell_type": "code",
   "execution_count": 71,
   "id": "4bca3516",
   "metadata": {},
   "outputs": [
    {
     "data": {
      "text/plain": [
       "{0, 1, 2, 3, 4, 5, 6, 8, 'string'}"
      ]
     },
     "execution_count": 71,
     "metadata": {},
     "output_type": "execute_result"
    }
   ],
   "source": [
    "set2"
   ]
  },
  {
   "cell_type": "markdown",
   "id": "30b46b43",
   "metadata": {},
   "source": [
    "## Dictionary"
   ]
  },
  {
   "cell_type": "markdown",
   "id": "fa63f55a",
   "metadata": {},
   "source": [
    "#Unordered collection of the key-value pair"
   ]
  },
  {
   "cell_type": "code",
   "execution_count": 74,
   "id": "9a4dee42",
   "metadata": {},
   "outputs": [],
   "source": [
    "dict1 = {1: 'value1', 2:'value2', 3:'value3'}"
   ]
  },
  {
   "cell_type": "code",
   "execution_count": 75,
   "id": "31676327",
   "metadata": {},
   "outputs": [
    {
     "data": {
      "text/plain": [
       "dict"
      ]
     },
     "execution_count": 75,
     "metadata": {},
     "output_type": "execute_result"
    }
   ],
   "source": [
    "type(dict1)"
   ]
  },
  {
   "cell_type": "code",
   "execution_count": 77,
   "id": "43a9edc4",
   "metadata": {},
   "outputs": [
    {
     "data": {
      "text/plain": [
       "('value1', 'value3')"
      ]
     },
     "execution_count": 77,
     "metadata": {},
     "output_type": "execute_result"
    }
   ],
   "source": [
    "dict1[1], dict1[3]"
   ]
  },
  {
   "cell_type": "code",
   "execution_count": 78,
   "id": "64a429e3",
   "metadata": {},
   "outputs": [
    {
     "ename": "KeyError",
     "evalue": "'value2'",
     "output_type": "error",
     "traceback": [
      "\u001b[1;31m---------------------------------------------------------------------------\u001b[0m",
      "\u001b[1;31mKeyError\u001b[0m                                  Traceback (most recent call last)",
      "\u001b[1;32m~\\AppData\\Local\\Temp/ipykernel_4992/647627388.py\u001b[0m in \u001b[0;36m<module>\u001b[1;34m\u001b[0m\n\u001b[1;32m----> 1\u001b[1;33m \u001b[0mdict1\u001b[0m\u001b[1;33m[\u001b[0m\u001b[1;34m'value2'\u001b[0m\u001b[1;33m]\u001b[0m\u001b[1;33m\u001b[0m\u001b[1;33m\u001b[0m\u001b[0m\n\u001b[0m",
      "\u001b[1;31mKeyError\u001b[0m: 'value2'"
     ]
    }
   ],
   "source": [
    "dict1['value2']"
   ]
  },
  {
   "cell_type": "markdown",
   "id": "4df15139",
   "metadata": {},
   "source": [
    "## Data type conversion"
   ]
  },
  {
   "cell_type": "code",
   "execution_count": 1,
   "id": "40735e7b",
   "metadata": {},
   "outputs": [
    {
     "data": {
      "text/plain": [
       "10.0"
      ]
     },
     "execution_count": 1,
     "metadata": {},
     "output_type": "execute_result"
    }
   ],
   "source": [
    "float(10)"
   ]
  },
  {
   "cell_type": "code",
   "execution_count": 2,
   "id": "730afa4c",
   "metadata": {},
   "outputs": [
    {
     "data": {
      "text/plain": [
       "10"
      ]
     },
     "execution_count": 2,
     "metadata": {},
     "output_type": "execute_result"
    }
   ],
   "source": [
    "int(10.5)"
   ]
  },
  {
   "cell_type": "code",
   "execution_count": 3,
   "id": "1f4cd32e",
   "metadata": {},
   "outputs": [
    {
     "data": {
      "text/plain": [
       "5.5"
      ]
     },
     "execution_count": 3,
     "metadata": {},
     "output_type": "execute_result"
    }
   ],
   "source": [
    "float('5.5')"
   ]
  },
  {
   "cell_type": "code",
   "execution_count": 4,
   "id": "40f6c7f7",
   "metadata": {},
   "outputs": [
    {
     "data": {
      "text/plain": [
       "'20'"
      ]
     },
     "execution_count": 4,
     "metadata": {},
     "output_type": "execute_result"
    }
   ],
   "source": [
    "str(20)"
   ]
  },
  {
   "cell_type": "markdown",
   "id": "5e43bd88",
   "metadata": {},
   "source": [
    "## "
   ]
  },
  {
   "cell_type": "markdown",
   "id": "7ea0a1fa",
   "metadata": {},
   "source": [
    "## Conversion of sequences from one to another"
   ]
  },
  {
   "cell_type": "code",
   "execution_count": 7,
   "id": "1468b52d",
   "metadata": {},
   "outputs": [
    {
     "data": {
      "text/plain": [
       "{1, 2, 5, 7}"
      ]
     },
     "execution_count": 7,
     "metadata": {},
     "output_type": "execute_result"
    }
   ],
   "source": [
    "set([1, 2, 5, 7, 7])"
   ]
  },
  {
   "cell_type": "code",
   "execution_count": 9,
   "id": "cc10a9f3",
   "metadata": {},
   "outputs": [
    {
     "data": {
      "text/plain": [
       "(81, 68, 5)"
      ]
     },
     "execution_count": 9,
     "metadata": {},
     "output_type": "execute_result"
    }
   ],
   "source": [
    "tuple({5, 81, 68, 68})"
   ]
  },
  {
   "cell_type": "code",
   "execution_count": 16,
   "id": "f490c9aa",
   "metadata": {},
   "outputs": [
    {
     "data": {
      "text/plain": [
       "['W', 'O', 'R', 'D']"
      ]
     },
     "execution_count": 16,
     "metadata": {},
     "output_type": "execute_result"
    }
   ],
   "source": [
    "list('WORD')"
   ]
  },
  {
   "cell_type": "code",
   "execution_count": 12,
   "id": "e5a84e76",
   "metadata": {},
   "outputs": [
    {
     "name": "stdout",
     "output_type": "stream",
     "text": [
      "{'Name': 'John', 10: 50}\n"
     ]
    }
   ],
   "source": [
    "print(dict([[\"Name\", \"John\"], [10, 50]]))"
   ]
  },
  {
   "cell_type": "markdown",
   "id": "36f05fc7",
   "metadata": {},
   "source": [
    "## Type conversion"
   ]
  },
  {
   "cell_type": "markdown",
   "id": "43e92c95",
   "metadata": {},
   "source": [
    "- Implicit conversion\n",
    "- Explicit conversion"
   ]
  },
  {
   "cell_type": "code",
   "execution_count": 18,
   "id": "392879f9",
   "metadata": {},
   "outputs": [
    {
     "name": "stdout",
     "output_type": "stream",
     "text": [
      "Datatype of int_var is:  <class 'int'>\n",
      "Datatype of float_var is:  <class 'float'>\n",
      "The new value after conversion is:  642.7\n",
      "Datatype of conversion1 is:  <class 'float'>\n"
     ]
    }
   ],
   "source": [
    "int_var = 587\n",
    "float_var = 55.7\n",
    "\n",
    "conversion1 = int_var + float_var\n",
    "\n",
    "print('Datatype of int_var is: ', type(int_var))\n",
    "print('Datatype of float_var is: ', type(float_var))\n",
    "print('The new value after conversion is: ', conversion1)\n",
    "print('Datatype of conversion1 is: ', type(conversion1))"
   ]
  },
  {
   "cell_type": "code",
   "execution_count": 19,
   "id": "5e3e3c5c",
   "metadata": {},
   "outputs": [
    {
     "ename": "TypeError",
     "evalue": "unsupported operand type(s) for +: 'int' and 'str'",
     "output_type": "error",
     "traceback": [
      "\u001b[1;31m---------------------------------------------------------------------------\u001b[0m",
      "\u001b[1;31mTypeError\u001b[0m                                 Traceback (most recent call last)",
      "\u001b[1;32m~\\AppData\\Local\\Temp/ipykernel_19768/1440965163.py\u001b[0m in \u001b[0;36m<module>\u001b[1;34m\u001b[0m\n\u001b[0;32m      2\u001b[0m \u001b[0mstring_var\u001b[0m \u001b[1;33m=\u001b[0m \u001b[1;34m\"55.7\"\u001b[0m\u001b[1;33m\u001b[0m\u001b[1;33m\u001b[0m\u001b[0m\n\u001b[0;32m      3\u001b[0m \u001b[1;33m\u001b[0m\u001b[0m\n\u001b[1;32m----> 4\u001b[1;33m \u001b[0mconversion1\u001b[0m \u001b[1;33m=\u001b[0m \u001b[0mint_var\u001b[0m \u001b[1;33m+\u001b[0m \u001b[0mstring_var\u001b[0m\u001b[1;33m\u001b[0m\u001b[1;33m\u001b[0m\u001b[0m\n\u001b[0m\u001b[0;32m      5\u001b[0m \u001b[1;33m\u001b[0m\u001b[0m\n\u001b[0;32m      6\u001b[0m \u001b[0mprint\u001b[0m\u001b[1;33m(\u001b[0m\u001b[1;34m'Datatype of int_var is: '\u001b[0m\u001b[1;33m,\u001b[0m \u001b[0mtype\u001b[0m\u001b[1;33m(\u001b[0m\u001b[0mint_var\u001b[0m\u001b[1;33m)\u001b[0m\u001b[1;33m)\u001b[0m\u001b[1;33m\u001b[0m\u001b[1;33m\u001b[0m\u001b[0m\n",
      "\u001b[1;31mTypeError\u001b[0m: unsupported operand type(s) for +: 'int' and 'str'"
     ]
    }
   ],
   "source": [
    "int_var = 587\n",
    "string_var = \"55.7\"\n",
    "\n",
    "conversion1 = int_var + string_var\n",
    "\n",
    "print('Datatype of int_var is: ', type(int_var))\n",
    "print('Datatype of string_var is: ', type(float_var))\n",
    "print('The new value after conversion is: ', conversion1)\n",
    "print('Datatype of conversion1 is: ', type(conversion1))"
   ]
  },
  {
   "cell_type": "code",
   "execution_count": 26,
   "id": "6c4695a6",
   "metadata": {},
   "outputs": [
    {
     "name": "stdout",
     "output_type": "stream",
     "text": [
      "Datatype of int_var is:  <class 'int'>\n",
      "Datatype of string_var is:  <class 'float'>\n",
      "The new value after conversion is:  642.7\n",
      "Datatype of conversion1 is:  <class 'float'>\n"
     ]
    }
   ],
   "source": [
    "int_var = 587\n",
    "string_var = \"55.7\"\n",
    "\n",
    "conversion1 =  float(string_var) + (int_var )\n",
    "\n",
    "print('Datatype of int_var is: ', type(int_var))\n",
    "print('Datatype of string_var is: ', type(float_var))\n",
    "print('The new value after conversion is: ', conversion1)\n",
    "print('Datatype of conversion1 is: ', type(conversion1))"
   ]
  },
  {
   "cell_type": "markdown",
   "id": "233c7ab6",
   "metadata": {},
   "source": [
    "## Input\n"
   ]
  },
  {
   "cell_type": "code",
   "execution_count": 35,
   "id": "dc80f5e3",
   "metadata": {},
   "outputs": [
    {
     "name": "stdout",
     "output_type": "stream",
     "text": [
      "Enter the first number: 1\n",
      "Enter the second number: 5\n",
      "15\n"
     ]
    }
   ],
   "source": [
    "num = input('Enter the first number: ')\n",
    "num1 = input('Enter the second number: ')\n",
    "\n",
    "\n",
    "add = num + num1\n",
    "print(add)\n"
   ]
  },
  {
   "cell_type": "code",
   "execution_count": 32,
   "id": "fbc85324",
   "metadata": {},
   "outputs": [
    {
     "name": "stdout",
     "output_type": "stream",
     "text": [
      "18\n"
     ]
    }
   ],
   "source": [
    "a = eval('10+8')\n",
    "print(a)"
   ]
  },
  {
   "cell_type": "markdown",
   "id": "ab07d63a",
   "metadata": {},
   "source": [
    "## Operators\n"
   ]
  },
  {
   "cell_type": "code",
   "execution_count": 42,
   "id": "b575d8b3",
   "metadata": {},
   "outputs": [
    {
     "name": "stdout",
     "output_type": "stream",
     "text": [
      "14\n",
      "6\n",
      "40\n",
      "2.5\n",
      "2\n",
      "10000\n",
      "2\n"
     ]
    }
   ],
   "source": [
    "x = 10\n",
    "y = 4\n",
    "\n",
    "print(x + y)\n",
    "print(x - y)\n",
    "print(x * y)\n",
    "print(x/y)\n",
    "print((x//y))\n",
    "print(x**y)\n",
    "print(x%y)"
   ]
  },
  {
   "cell_type": "code",
   "execution_count": 41,
   "id": "62c28e39",
   "metadata": {},
   "outputs": [
    {
     "data": {
      "text/plain": [
       "3"
      ]
     },
     "execution_count": 41,
     "metadata": {},
     "output_type": "execute_result"
    }
   ],
   "source": [
    "round(2.8)"
   ]
  },
  {
   "cell_type": "markdown",
   "id": "1c7bd3ad",
   "metadata": {},
   "source": [
    "## Logical operators"
   ]
  },
  {
   "cell_type": "code",
   "execution_count": 45,
   "id": "8da4aeb8",
   "metadata": {},
   "outputs": [
    {
     "name": "stdout",
     "output_type": "stream",
     "text": [
      "False\n",
      "True\n",
      "False\n",
      "True\n",
      "False\n"
     ]
    }
   ],
   "source": [
    "x = True\n",
    "y = False\n",
    "z = True\n",
    "\n",
    "print(x and y)\n",
    "print(x or y)\n",
    "print(not x)\n",
    "print( not y)\n",
    "print( not z)"
   ]
  },
  {
   "cell_type": "markdown",
   "id": "f8ff77b2",
   "metadata": {},
   "source": [
    "## Assignment operators"
   ]
  },
  {
   "cell_type": "code",
   "execution_count": 58,
   "id": "5fbd10c7",
   "metadata": {},
   "outputs": [],
   "source": [
    "x1 = 15\n",
    "y1 = 15\n",
    "\n",
    "x2 = 'Hello'\n",
    "y2 = 'Hello'\n",
    "\n",
    "x3 = [15, 2, 3]\n",
    "y3 = [15, 2, 3]\n",
    "\n",
    "x4 = (1, 2, 3)\n",
    "y4 = (1, 2, 3)\n",
    "\n",
    "x5 = {1, 5, 8}\n",
    "y5 = {1, 5, 8}"
   ]
  },
  {
   "cell_type": "code",
   "execution_count": 47,
   "id": "3a23716e",
   "metadata": {},
   "outputs": [
    {
     "name": "stdout",
     "output_type": "stream",
     "text": [
      "True\n"
     ]
    }
   ],
   "source": [
    "print(x1 is y1)\n",
    "# print(x1 is not y1)"
   ]
  },
  {
   "cell_type": "code",
   "execution_count": 49,
   "id": "818fa24c",
   "metadata": {},
   "outputs": [
    {
     "name": "stdout",
     "output_type": "stream",
     "text": [
      "True\n"
     ]
    }
   ],
   "source": [
    "print(x2 is y2)"
   ]
  },
  {
   "cell_type": "code",
   "execution_count": 50,
   "id": "c6d857d6",
   "metadata": {},
   "outputs": [
    {
     "name": "stdout",
     "output_type": "stream",
     "text": [
      "False\n"
     ]
    }
   ],
   "source": [
    "print(x3 is y3)"
   ]
  },
  {
   "cell_type": "code",
   "execution_count": 51,
   "id": "5142ae32",
   "metadata": {},
   "outputs": [
    {
     "name": "stdout",
     "output_type": "stream",
     "text": [
      "False\n"
     ]
    }
   ],
   "source": [
    "print(x4 is y4)"
   ]
  },
  {
   "cell_type": "code",
   "execution_count": 54,
   "id": "f4a34776",
   "metadata": {},
   "outputs": [
    {
     "name": "stdout",
     "output_type": "stream",
     "text": [
      "False\n"
     ]
    }
   ],
   "source": [
    "print(x5 is y5)"
   ]
  },
  {
   "cell_type": "code",
   "execution_count": 55,
   "id": "c32ca8ef",
   "metadata": {},
   "outputs": [
    {
     "data": {
      "text/plain": [
       "(2424839236336, 2424839236336)"
      ]
     },
     "execution_count": 55,
     "metadata": {},
     "output_type": "execute_result"
    }
   ],
   "source": [
    "id(x1), id(y1)"
   ]
  },
  {
   "cell_type": "code",
   "execution_count": 56,
   "id": "81f49d0a",
   "metadata": {},
   "outputs": [
    {
     "data": {
      "text/plain": [
       "(2424920194160, 2424920194160)"
      ]
     },
     "execution_count": 56,
     "metadata": {},
     "output_type": "execute_result"
    }
   ],
   "source": [
    "id(x2), id(y2)"
   ]
  },
  {
   "cell_type": "code",
   "execution_count": 57,
   "id": "994394f7",
   "metadata": {},
   "outputs": [
    {
     "data": {
      "text/plain": [
       "(2424919921152, 2424920276544)"
      ]
     },
     "execution_count": 57,
     "metadata": {},
     "output_type": "execute_result"
    }
   ],
   "source": [
    "id(x3), id(y3)"
   ]
  },
  {
   "cell_type": "code",
   "execution_count": 60,
   "id": "dc8345be",
   "metadata": {},
   "outputs": [
    {
     "data": {
      "text/plain": [
       "(2424839236336, 2424839236336)"
      ]
     },
     "execution_count": 60,
     "metadata": {},
     "output_type": "execute_result"
    }
   ],
   "source": [
    "id(x3[0]), id(y3[0])"
   ]
  },
  {
   "cell_type": "code",
   "execution_count": null,
   "id": "9ef9f73e",
   "metadata": {},
   "outputs": [],
   "source": []
  },
  {
   "cell_type": "markdown",
   "id": "6a163c83",
   "metadata": {},
   "source": [
    "## Membership operators"
   ]
  },
  {
   "cell_type": "code",
   "execution_count": 73,
   "id": "97cae67e",
   "metadata": {},
   "outputs": [],
   "source": [
    "x = 'Hello world'\n",
    "y = {10: 'a', 12: 'b', 10:'d', 12:'l'}\n",
    "\n"
   ]
  },
  {
   "cell_type": "code",
   "execution_count": 74,
   "id": "200d6a40",
   "metadata": {},
   "outputs": [
    {
     "data": {
      "text/plain": [
       "'l'"
      ]
     },
     "execution_count": 74,
     "metadata": {},
     "output_type": "execute_result"
    }
   ],
   "source": [
    "y[12]"
   ]
  },
  {
   "cell_type": "code",
   "execution_count": 62,
   "id": "9010edee",
   "metadata": {
    "scrolled": true
   },
   "outputs": [
    {
     "name": "stdout",
     "output_type": "stream",
     "text": [
      "True\n"
     ]
    }
   ],
   "source": [
    "print('H' in x)"
   ]
  },
  {
   "cell_type": "code",
   "execution_count": 63,
   "id": "736be457",
   "metadata": {},
   "outputs": [
    {
     "name": "stdout",
     "output_type": "stream",
     "text": [
      "True\n"
     ]
    }
   ],
   "source": [
    "print('hello' not in x)"
   ]
  },
  {
   "cell_type": "code",
   "execution_count": 68,
   "id": "927527ec",
   "metadata": {},
   "outputs": [
    {
     "name": "stdout",
     "output_type": "stream",
     "text": [
      "True\n"
     ]
    }
   ],
   "source": [
    "print(10 in y)"
   ]
  },
  {
   "cell_type": "code",
   "execution_count": 65,
   "id": "73125ac5",
   "metadata": {},
   "outputs": [
    {
     "name": "stdout",
     "output_type": "stream",
     "text": [
      "False\n"
     ]
    }
   ],
   "source": [
    "print('a' in y)"
   ]
  },
  {
   "cell_type": "markdown",
   "id": "d1c7ca10",
   "metadata": {},
   "source": [
    "## If statement"
   ]
  },
  {
   "cell_type": "code",
   "execution_count": 76,
   "id": "7db24ca9",
   "metadata": {},
   "outputs": [
    {
     "name": "stdout",
     "output_type": "stream",
     "text": [
      "Enter the value:-5\n",
      "Negative\n"
     ]
    }
   ],
   "source": [
    "num = int(input('Enter the value:'))\n",
    "\n",
    "if num >= 0:\n",
    "    print('Positive')\n",
    "else:\n",
    "    print('Negative')"
   ]
  },
  {
   "cell_type": "markdown",
   "id": "2f1c4cf8",
   "metadata": {},
   "source": [
    "### if else"
   ]
  },
  {
   "cell_type": "code",
   "execution_count": 107,
   "id": "489e2d0d",
   "metadata": {},
   "outputs": [
    {
     "name": "stdout",
     "output_type": "stream",
     "text": [
      "Enter the value:-1\n",
      "Negative\n"
     ]
    }
   ],
   "source": [
    "num = int(input('Enter the value:'))\n",
    "\n",
    "if num > 0:\n",
    "    print('Positive')\n",
    "elif num == 0: #else if\n",
    "    print('Zero')\n",
    "else:\n",
    "    print('Negative')"
   ]
  },
  {
   "cell_type": "markdown",
   "id": "888d5baf",
   "metadata": {},
   "source": [
    "### Nested if"
   ]
  },
  {
   "cell_type": "code",
   "execution_count": 83,
   "id": "a3cadc23",
   "metadata": {},
   "outputs": [
    {
     "name": "stdout",
     "output_type": "stream",
     "text": [
      "Enter the value:-2\n",
      "Negative\n"
     ]
    }
   ],
   "source": [
    "num = int(input('Enter the value:'))\n",
    "\n",
    "if num >= 0:\n",
    "    if num == 0:\n",
    "        print('Zero')\n",
    "    else:\n",
    "        print('Positive')\n",
    "else:\n",
    "    print('Negative')\n"
   ]
  },
  {
   "cell_type": "markdown",
   "id": "2c3d07e7",
   "metadata": {},
   "source": [
    "## For loop"
   ]
  },
  {
   "cell_type": "code",
   "execution_count": 100,
   "id": "9871a611",
   "metadata": {},
   "outputs": [],
   "source": [
    "# list = [1, 2, 3, 4, 5]"
   ]
  },
  {
   "cell_type": "code",
   "execution_count": 103,
   "id": "d8ce4152",
   "metadata": {},
   "outputs": [
    {
     "data": {
      "text/plain": [
       "['Delhi', 'Kolkata', 'Chennai']"
      ]
     },
     "execution_count": 103,
     "metadata": {},
     "output_type": "execute_result"
    }
   ],
   "source": [
    "list({'Delhi', 'Chennai', 'Kolkata'})"
   ]
  },
  {
   "cell_type": "code",
   "execution_count": 102,
   "id": "c364277e",
   "metadata": {},
   "outputs": [],
   "source": [
    "del list"
   ]
  },
  {
   "cell_type": "code",
   "execution_count": 91,
   "id": "9b34ccbf",
   "metadata": {},
   "outputs": [],
   "source": [
    "# del list"
   ]
  },
  {
   "cell_type": "code",
   "execution_count": null,
   "id": "3f103e93",
   "metadata": {},
   "outputs": [],
   "source": [
    "list1[{}]"
   ]
  },
  {
   "cell_type": "code",
   "execution_count": 85,
   "id": "a225c70a",
   "metadata": {},
   "outputs": [],
   "source": [
    "list1 = [5, 6, 8, 10]"
   ]
  },
  {
   "cell_type": "code",
   "execution_count": 86,
   "id": "4a8d2fe3",
   "metadata": {},
   "outputs": [
    {
     "data": {
      "text/plain": [
       "8"
      ]
     },
     "execution_count": 86,
     "metadata": {},
     "output_type": "execute_result"
    }
   ],
   "source": [
    "list1[2]"
   ]
  },
  {
   "cell_type": "code",
   "execution_count": 87,
   "id": "e4e83d91",
   "metadata": {},
   "outputs": [
    {
     "data": {
      "text/plain": [
       "3"
      ]
     },
     "execution_count": 87,
     "metadata": {},
     "output_type": "execute_result"
    }
   ],
   "source": [
    "list[2]"
   ]
  },
  {
   "cell_type": "code",
   "execution_count": 88,
   "id": "81b56f6f",
   "metadata": {},
   "outputs": [],
   "source": [
    "list[0] = 10"
   ]
  },
  {
   "cell_type": "code",
   "execution_count": 89,
   "id": "c599212d",
   "metadata": {},
   "outputs": [
    {
     "data": {
      "text/plain": [
       "[10, 2, 3, 4, 5]"
      ]
     },
     "execution_count": 89,
     "metadata": {},
     "output_type": "execute_result"
    }
   ],
   "source": [
    "list"
   ]
  },
  {
   "cell_type": "code",
   "execution_count": 90,
   "id": "15cb6b2a",
   "metadata": {
    "scrolled": true
   },
   "outputs": [
    {
     "ename": "TypeError",
     "evalue": "'list' object is not callable",
     "output_type": "error",
     "traceback": [
      "\u001b[1;31m---------------------------------------------------------------------------\u001b[0m",
      "\u001b[1;31mTypeError\u001b[0m                                 Traceback (most recent call last)",
      "\u001b[1;32m~\\AppData\\Local\\Temp/ipykernel_19768/4089855967.py\u001b[0m in \u001b[0;36m<module>\u001b[1;34m\u001b[0m\n\u001b[1;32m----> 1\u001b[1;33m \u001b[0mlist\u001b[0m\u001b[1;33m(\u001b[0m\u001b[1;33m[\u001b[0m\u001b[1;36m1\u001b[0m\u001b[1;33m,\u001b[0m \u001b[1;36m52\u001b[0m\u001b[1;33m,\u001b[0m \u001b[1;36m32\u001b[0m\u001b[1;33m]\u001b[0m\u001b[1;33m)\u001b[0m\u001b[1;33m\u001b[0m\u001b[1;33m\u001b[0m\u001b[0m\n\u001b[0m",
      "\u001b[1;31mTypeError\u001b[0m: 'list' object is not callable"
     ]
    }
   ],
   "source": [
    "list([1, 52, 32])"
   ]
  },
  {
   "cell_type": "code",
   "execution_count": 95,
   "id": "3fd23881",
   "metadata": {},
   "outputs": [],
   "source": [
    "var_list = [5, 21, 63]"
   ]
  },
  {
   "cell_type": "code",
   "execution_count": 96,
   "id": "74f48da5",
   "metadata": {},
   "outputs": [
    {
     "data": {
      "text/plain": [
       "list"
      ]
     },
     "execution_count": 96,
     "metadata": {},
     "output_type": "execute_result"
    }
   ],
   "source": [
    "type(var_list)"
   ]
  },
  {
   "cell_type": "code",
   "execution_count": 97,
   "id": "a4cd6d89",
   "metadata": {},
   "outputs": [],
   "source": [
    "var_list2 = list([5, 21, 63])"
   ]
  },
  {
   "cell_type": "code",
   "execution_count": 98,
   "id": "fa5a31c1",
   "metadata": {},
   "outputs": [
    {
     "data": {
      "text/plain": [
       "list"
      ]
     },
     "execution_count": 98,
     "metadata": {},
     "output_type": "execute_result"
    }
   ],
   "source": [
    "type(var_list2)"
   ]
  },
  {
   "cell_type": "code",
   "execution_count": 104,
   "id": "ac2b5bff",
   "metadata": {},
   "outputs": [
    {
     "name": "stdout",
     "output_type": "stream",
     "text": [
      "12\n",
      "25\n",
      "39\n",
      "54\n",
      "The final value of add is  54\n"
     ]
    }
   ],
   "source": [
    "list1 = [12, 13, 14, 15]\n",
    "add = 0\n",
    "\n",
    "for i in list1:\n",
    "    add = add + i # 0 + 12 = 12    \n",
    "    print(add) # loop print statement\n",
    "print('The final value of add is ', add)   "
   ]
  },
  {
   "cell_type": "code",
   "execution_count": 106,
   "id": "28fc96f3",
   "metadata": {},
   "outputs": [
    {
     "name": "stdout",
     "output_type": "stream",
     "text": [
      "12\n",
      "13\n",
      "15\n"
     ]
    }
   ],
   "source": [
    "list1 = [12, 13, 14, 15]\n",
    "add = 0\n",
    "\n",
    "for i in list1:\n",
    "    if i == 14:\n",
    "        continue\n",
    "    print(i)"
   ]
  },
  {
   "cell_type": "code",
   "execution_count": 1,
   "id": "6123ec09",
   "metadata": {},
   "outputs": [
    {
     "data": {
      "text/plain": [
       "3"
      ]
     },
     "execution_count": 1,
     "metadata": {},
     "output_type": "execute_result"
    }
   ],
   "source": [
    "list_city = ['Chennai', 'Kolkata', 'Mumbai']\n",
    "len(list_city)"
   ]
  },
  {
   "cell_type": "code",
   "execution_count": 3,
   "id": "4d81b25f",
   "metadata": {},
   "outputs": [
    {
     "data": {
      "text/plain": [
       "[0, 1, 2]"
      ]
     },
     "execution_count": 3,
     "metadata": {},
     "output_type": "execute_result"
    }
   ],
   "source": [
    "list(range(len(list_city)))"
   ]
  },
  {
   "cell_type": "code",
   "execution_count": 5,
   "id": "2a8c1cdd",
   "metadata": {},
   "outputs": [
    {
     "name": "stdout",
     "output_type": "stream",
     "text": [
      "I like to go to:  Chennai\n",
      "I like to go to:  Kolkata\n",
      "I like to go to:  Mumbai\n"
     ]
    }
   ],
   "source": [
    "for i in range(len(list_city)):\n",
    "    print('I like to go to: ', list_city[i])"
   ]
  },
  {
   "cell_type": "code",
   "execution_count": 6,
   "id": "74e840c5",
   "metadata": {},
   "outputs": [
    {
     "name": "stdout",
     "output_type": "stream",
     "text": [
      "I have  1 days\n",
      "I have  10 days\n",
      "I have  100 days\n",
      "Else block\n"
     ]
    }
   ],
   "source": [
    "num = [1, 10, 100]\n",
    "\n",
    "for i in num:\n",
    "    print('I have ', i, 'days')\n",
    "    \n",
    "else:\n",
    "    print('Else block')"
   ]
  },
  {
   "cell_type": "code",
   "execution_count": 14,
   "id": "e54ca7a3",
   "metadata": {},
   "outputs": [
    {
     "name": "stdout",
     "output_type": "stream",
     "text": [
      "the number is:  1\n"
     ]
    }
   ],
   "source": [
    "num = [1, 10, 100]\n",
    "\n",
    "for i in num:\n",
    "    if i==10:\n",
    "        break\n",
    "    print('the number is: ', i)\n",
    "else:\n",
    "    print('I have', i, 'days')\n"
   ]
  },
  {
   "cell_type": "markdown",
   "id": "8424c186",
   "metadata": {},
   "source": [
    "## While loop"
   ]
  },
  {
   "cell_type": "code",
   "execution_count": 18,
   "id": "5a77f275",
   "metadata": {},
   "outputs": [
    {
     "name": "stdout",
     "output_type": "stream",
     "text": [
      "Enter the number5\n",
      "0\n",
      "1\n",
      "2\n",
      "3\n",
      "4\n",
      "The sum of numbers is : 10\n"
     ]
    }
   ],
   "source": [
    "#sum of numbers\n",
    "\n",
    "num = int(input('Enter the number'))\n",
    "\n",
    "i = 0\n",
    "sum_var = 0\n",
    "\n",
    "while i < num:\n",
    "    sum_var = sum_var + i\n",
    "#     print(i)\n",
    "    i = i + 1 #update this counter\n",
    "\n",
    "\n",
    "print('The sum of numbers is :' ,sum_var)\n",
    "\n",
    "#0+1+2+3+4"
   ]
  },
  {
   "cell_type": "code",
   "execution_count": 19,
   "id": "6382dad5",
   "metadata": {},
   "outputs": [
    {
     "name": "stdout",
     "output_type": "stream",
     "text": [
      "5\n"
     ]
    }
   ],
   "source": [
    "i = 0\n",
    "sum_var = 0\n",
    "\n",
    "while i < num:\n",
    "    i = i + 1\n",
    "else:\n",
    "    print(i)\n"
   ]
  },
  {
   "cell_type": "markdown",
   "id": "e26b9a5e",
   "metadata": {},
   "source": [
    "## Break, continue and pass"
   ]
  },
  {
   "cell_type": "code",
   "execution_count": 23,
   "id": "dde85103",
   "metadata": {},
   "outputs": [
    {
     "name": "stdout",
     "output_type": "stream",
     "text": [
      "C\n",
      "o\n",
      "u\n",
      "n\n",
      "t\n"
     ]
    }
   ],
   "source": [
    "for i in 'Country':\n",
    "    if i in ['r', 'r']:\n",
    "        break\n",
    "    print(i)"
   ]
  },
  {
   "cell_type": "code",
   "execution_count": null,
   "id": "39bc3996",
   "metadata": {},
   "outputs": [],
   "source": [
    "for i in 'Country':\n",
    "    if i == 'r':\n",
    "        continue\n",
    "    print(i)"
   ]
  },
  {
   "cell_type": "code",
   "execution_count": 21,
   "id": "11b81986",
   "metadata": {},
   "outputs": [],
   "source": [
    "#pass statement explanation\n",
    "\n",
    "list_val = ['P', 'a', 's', 's']\n",
    "\n",
    "for i in list_val:\n",
    "    pass #add some logic later"
   ]
  },
  {
   "cell_type": "markdown",
   "id": "71795700",
   "metadata": {},
   "source": [
    "## Functions"
   ]
  },
  {
   "cell_type": "code",
   "execution_count": 24,
   "id": "5b3a85ed",
   "metadata": {},
   "outputs": [],
   "source": [
    "def greetings(name):\n",
    "    \"\"\"Function to greet someone\"\"\"\n",
    "    print(\"Hello\", name, \"How're you\")"
   ]
  },
  {
   "cell_type": "code",
   "execution_count": 25,
   "id": "6fdd6f44",
   "metadata": {},
   "outputs": [
    {
     "name": "stdout",
     "output_type": "stream",
     "text": [
      "Hello guys How're you\n"
     ]
    }
   ],
   "source": [
    "greetings('guys')"
   ]
  },
  {
   "cell_type": "code",
   "execution_count": 26,
   "id": "cf0cb0d4",
   "metadata": {},
   "outputs": [
    {
     "name": "stdout",
     "output_type": "stream",
     "text": [
      "Function to greet someone\n"
     ]
    }
   ],
   "source": [
    "print(greetings.__doc__)"
   ]
  },
  {
   "cell_type": "code",
   "execution_count": 29,
   "id": "d0d1ebe3",
   "metadata": {},
   "outputs": [],
   "source": [
    "def Absoluteval(val):\n",
    "    val1=abs(val)\n",
    "    return val1\n"
   ]
  },
  {
   "cell_type": "code",
   "execution_count": 32,
   "id": "2fe273b2",
   "metadata": {},
   "outputs": [
    {
     "data": {
      "text/plain": [
       "9"
      ]
     },
     "execution_count": 32,
     "metadata": {},
     "output_type": "execute_result"
    }
   ],
   "source": [
    "ret_var = Absoluteval(-9)\n",
    "ret_var"
   ]
  },
  {
   "cell_type": "code",
   "execution_count": 33,
   "id": "e7a55767",
   "metadata": {},
   "outputs": [
    {
     "name": "stdout",
     "output_type": "stream",
     "text": [
      "9\n"
     ]
    }
   ],
   "source": [
    "def value(k):\n",
    "    if k>0 :\n",
    "        print (k)\n",
    "    elif k<0:\n",
    "        t= k * -1\n",
    "        print(t)\n",
    "value(-9)"
   ]
  },
  {
   "cell_type": "code",
   "execution_count": 34,
   "id": "d07ac615",
   "metadata": {},
   "outputs": [],
   "source": [
    "def func1(a):\n",
    "    \"\"\"test\"\"\"\n",
    "    if a>0:\n",
    "        print(a)\n",
    "    else:\n",
    "        a=a*-1\n",
    "        print(a)"
   ]
  },
  {
   "cell_type": "code",
   "execution_count": 35,
   "id": "74d4fa82",
   "metadata": {},
   "outputs": [
    {
     "name": "stdout",
     "output_type": "stream",
     "text": [
      "8\n"
     ]
    }
   ],
   "source": [
    "func1(-8)"
   ]
  },
  {
   "cell_type": "code",
   "execution_count": 36,
   "id": "2aaf366a",
   "metadata": {},
   "outputs": [],
   "source": [
    "def absolute(num):\n",
    "    if(num > 0):\n",
    "        return num\n",
    "    else:\n",
    "        num = -1*num\n",
    "        return num\n"
   ]
  },
  {
   "cell_type": "code",
   "execution_count": 37,
   "id": "5674309d",
   "metadata": {},
   "outputs": [
    {
     "data": {
      "text/plain": [
       "8"
      ]
     },
     "execution_count": 37,
     "metadata": {},
     "output_type": "execute_result"
    }
   ],
   "source": [
    "absolute(-8)"
   ]
  },
  {
   "cell_type": "code",
   "execution_count": 38,
   "id": "5f4e0f3b",
   "metadata": {},
   "outputs": [],
   "source": [
    "def absolute_val(value):\n",
    "    \"\"\"Function to return the absolute value\"\"\"\n",
    "    if value > 0:\n",
    "        return value\n",
    "    else:\n",
    "        return -value"
   ]
  },
  {
   "cell_type": "code",
   "execution_count": 41,
   "id": "9777959b",
   "metadata": {},
   "outputs": [
    {
     "data": {
      "text/plain": [
       "50"
      ]
     },
     "execution_count": 41,
     "metadata": {},
     "output_type": "execute_result"
    }
   ],
   "source": [
    "absolute_val(-50)"
   ]
  },
  {
   "cell_type": "code",
   "execution_count": 42,
   "id": "e0be8052",
   "metadata": {},
   "outputs": [
    {
     "name": "stdout",
     "output_type": "stream",
     "text": [
      "Inside the function  10\n",
      "Outside the function 20\n"
     ]
    }
   ],
   "source": [
    "\n",
    "def func():\n",
    "    a = 10 #local variable\n",
    "    print('Inside the function ', a)\n",
    "    \n",
    "a = 20 #global variable\n",
    "func()\n",
    "\n",
    "print('Outside the function', a)"
   ]
  },
  {
   "cell_type": "markdown",
   "id": "0b7de6b0",
   "metadata": {},
   "source": [
    "## Function arguments"
   ]
  },
  {
   "cell_type": "markdown",
   "id": "a6372754",
   "metadata": {},
   "source": [
    "### Positional arguments"
   ]
  },
  {
   "cell_type": "code",
   "execution_count": 43,
   "id": "e0e7c9bd",
   "metadata": {},
   "outputs": [],
   "source": [
    "def greet(arg1, arg2):\n",
    "    \"\"\"Function with arguments\"\"\"\n",
    "    print(arg1, arg2, 'everyone!')\n"
   ]
  },
  {
   "cell_type": "code",
   "execution_count": 46,
   "id": "d7abdd13",
   "metadata": {},
   "outputs": [
    {
     "ename": "TypeError",
     "evalue": "greet() missing 2 required positional arguments: 'arg1' and 'arg2'",
     "output_type": "error",
     "traceback": [
      "\u001b[1;31m---------------------------------------------------------------------------\u001b[0m",
      "\u001b[1;31mTypeError\u001b[0m                                 Traceback (most recent call last)",
      "\u001b[1;32m~\\AppData\\Local\\Temp/ipykernel_5156/2890983093.py\u001b[0m in \u001b[0;36m<module>\u001b[1;34m\u001b[0m\n\u001b[1;32m----> 1\u001b[1;33m \u001b[0mgreet\u001b[0m\u001b[1;33m(\u001b[0m\u001b[1;33m)\u001b[0m\u001b[1;33m\u001b[0m\u001b[1;33m\u001b[0m\u001b[0m\n\u001b[0m",
      "\u001b[1;31mTypeError\u001b[0m: greet() missing 2 required positional arguments: 'arg1' and 'arg2'"
     ]
    }
   ],
   "source": [
    "greet()"
   ]
  },
  {
   "cell_type": "code",
   "execution_count": 45,
   "id": "bfd2b9a0",
   "metadata": {},
   "outputs": [
    {
     "name": "stdout",
     "output_type": "stream",
     "text": [
      "Good Evening everyone!\n"
     ]
    }
   ],
   "source": [
    "greet('Good', 'Evening')"
   ]
  },
  {
   "cell_type": "markdown",
   "id": "31ba0696",
   "metadata": {},
   "source": [
    "### Default arguments"
   ]
  },
  {
   "cell_type": "code",
   "execution_count": 51,
   "id": "cb580f95",
   "metadata": {},
   "outputs": [],
   "source": [
    "def greet(arg1, arg2 = \"Good morning\"):\n",
    "    print(\"Hello\", arg1, arg2)"
   ]
  },
  {
   "cell_type": "code",
   "execution_count": 48,
   "id": "02415ad7",
   "metadata": {},
   "outputs": [
    {
     "name": "stdout",
     "output_type": "stream",
     "text": [
      "Hello people Good morning\n"
     ]
    }
   ],
   "source": [
    "greet('people')"
   ]
  },
  {
   "cell_type": "code",
   "execution_count": 49,
   "id": "beb7ae07",
   "metadata": {},
   "outputs": [
    {
     "name": "stdout",
     "output_type": "stream",
     "text": [
      "Hello people How are you\n"
     ]
    }
   ],
   "source": [
    "greet('people', \"How are you\")"
   ]
  },
  {
   "cell_type": "code",
   "execution_count": 50,
   "id": "08c08646",
   "metadata": {},
   "outputs": [
    {
     "ename": "SyntaxError",
     "evalue": "non-default argument follows default argument (Temp/ipykernel_5156/2964982374.py, line 1)",
     "output_type": "error",
     "traceback": [
      "\u001b[1;36m  File \u001b[1;32m\"C:\\Users\\moham\\AppData\\Local\\Temp/ipykernel_5156/2964982374.py\"\u001b[1;36m, line \u001b[1;32m1\u001b[0m\n\u001b[1;33m    def greet(arg2 = \"Good morning\", arg1):\u001b[0m\n\u001b[1;37m                                         ^\u001b[0m\n\u001b[1;31mSyntaxError\u001b[0m\u001b[1;31m:\u001b[0m non-default argument follows default argument\n"
     ]
    }
   ],
   "source": [
    "def greet(arg2 = \"Good morning\", arg1):\n",
    "    print(\"Hello\", arg1, arg2)"
   ]
  },
  {
   "cell_type": "markdown",
   "id": "22923637",
   "metadata": {},
   "source": [
    "## Keyword arguments"
   ]
  },
  {
   "cell_type": "code",
   "execution_count": 52,
   "id": "63efe853",
   "metadata": {},
   "outputs": [
    {
     "name": "stdout",
     "output_type": "stream",
     "text": [
      "Hello Hi Everyone\n",
      "Hello Hi Everyone\n",
      "Hello Hi Everyone\n"
     ]
    }
   ],
   "source": [
    "greet(arg1 = \"Hi\", arg2 = \"Everyone\")\n",
    "greet(arg2 = \"Everyone\", arg1 = \"Hi\")\n",
    "greet(\"Hi\", arg2=\"Everyone\")"
   ]
  },
  {
   "cell_type": "code",
   "execution_count": 56,
   "id": "73218aa3",
   "metadata": {
    "scrolled": true
   },
   "outputs": [
    {
     "name": "stdout",
     "output_type": "stream",
     "text": [
      "Hello Hi Everyone\n"
     ]
    }
   ],
   "source": [
    "greet(\"Hi\",  \"Everyone\")"
   ]
  },
  {
   "cell_type": "code",
   "execution_count": 4,
   "id": "fca7083a",
   "metadata": {},
   "outputs": [],
   "source": [
    "def function1(*arg):\n",
    "    for i in arg:\n",
    "        print(\"I am in, :\", i)\n"
   ]
  },
  {
   "cell_type": "code",
   "execution_count": 5,
   "id": "619cec64",
   "metadata": {},
   "outputs": [
    {
     "name": "stdout",
     "output_type": "stream",
     "text": [
      "I am in, : Chennai\n",
      "I am in, : Hyderabad\n",
      "I am in, : Mumbai\n"
     ]
    }
   ],
   "source": [
    "function1('Chennai', 'Hyderabad', 'Mumbai')"
   ]
  },
  {
   "cell_type": "markdown",
   "id": "5ddc2274",
   "metadata": {},
   "source": [
    "## Recursion"
   ]
  },
  {
   "cell_type": "code",
   "execution_count": 58,
   "id": "d4c135b2",
   "metadata": {},
   "outputs": [],
   "source": [
    "# factorial of a number\n",
    "# 5!\n",
    "#1!"
   ]
  },
  {
   "cell_type": "code",
   "execution_count": 57,
   "id": "2e62df27",
   "metadata": {},
   "outputs": [
    {
     "data": {
      "text/plain": [
       "120"
      ]
     },
     "execution_count": 57,
     "metadata": {},
     "output_type": "execute_result"
    }
   ],
   "source": [
    "5 * 4 * 3 * 2 * 1"
   ]
  },
  {
   "cell_type": "code",
   "execution_count": 60,
   "id": "d32b9d95",
   "metadata": {},
   "outputs": [
    {
     "name": "stdout",
     "output_type": "stream",
     "text": [
      "Factorial of 5 is 120\n"
     ]
    }
   ],
   "source": [
    "\n",
    "def recursion(x):\n",
    "    if x == 1:\n",
    "        return x\n",
    "    else:\n",
    "        return (x * recursion(x-1))\n",
    "    \n",
    "num = 5\n",
    "print('Factorial of', num, 'is', recursion(num))"
   ]
  },
  {
   "cell_type": "code",
   "execution_count": null,
   "id": "515d4cb8",
   "metadata": {},
   "outputs": [],
   "source": []
  },
  {
   "cell_type": "markdown",
   "id": "3e39fe23",
   "metadata": {},
   "source": [
    "## Lambda  - Anonymous function"
   ]
  },
  {
   "cell_type": "code",
   "execution_count": 65,
   "id": "e4ceaf24",
   "metadata": {},
   "outputs": [
    {
     "data": {
      "text/plain": [
       "50"
      ]
     },
     "execution_count": 65,
     "metadata": {},
     "output_type": "execute_result"
    }
   ],
   "source": [
    "cube = lambda x, y : x*  y\n",
    "cube(10, 5)"
   ]
  },
  {
   "cell_type": "markdown",
   "id": "c7926760",
   "metadata": {},
   "source": [
    "## Filter"
   ]
  },
  {
   "cell_type": "markdown",
   "id": "09fa955c",
   "metadata": {},
   "source": [
    "- Filter takes in a function and a list of argument/dict\n",
    "- The function is called with the items in the list, and a new list is returned containing the items for which the functions evaluates to True"
   ]
  },
  {
   "cell_type": "code",
   "execution_count": 68,
   "id": "d2f2fe17",
   "metadata": {},
   "outputs": [
    {
     "name": "stdout",
     "output_type": "stream",
     "text": [
      "[0, 1, 2, 3, 4, 5, 6, 7, 8, 9]\n"
     ]
    }
   ],
   "source": [
    "my_list = list(range(10))\n",
    "print(my_list)"
   ]
  },
  {
   "cell_type": "code",
   "execution_count": 75,
   "id": "8d450e8e",
   "metadata": {},
   "outputs": [
    {
     "name": "stdout",
     "output_type": "stream",
     "text": [
      "Applying the filter operation:  [0, 2, 4, 6, 8]\n"
     ]
    }
   ],
   "source": [
    "fil = list(filter(lambda x : x % 2 == 0, my_list))\n",
    "print('Applying the filter operation: ', fil)"
   ]
  },
  {
   "cell_type": "markdown",
   "id": "fd646c95",
   "metadata": {},
   "source": [
    "## Map"
   ]
  },
  {
   "cell_type": "markdown",
   "id": "98131c30",
   "metadata": {},
   "source": [
    "- Map takes in a function and a list of argument/dict\n",
    "- Every items in the list will be returned based on the function that we're performing"
   ]
  },
  {
   "cell_type": "code",
   "execution_count": 80,
   "id": "fc8289bf",
   "metadata": {},
   "outputs": [
    {
     "name": "stdout",
     "output_type": "stream",
     "text": [
      "[1, 1, 0, 0, 0, 1, 1, 0]\n"
     ]
    }
   ],
   "source": [
    "my_list = [1, 5, 4, 6, 8, 11, 3, 12]\n",
    "\n",
    "new_list = list(map(lambda x: x%2, my_list))\n",
    "print(new_list)"
   ]
  },
  {
   "cell_type": "code",
   "execution_count": 81,
   "id": "d8cdc176",
   "metadata": {},
   "outputs": [
    {
     "name": "stdout",
     "output_type": "stream",
     "text": [
      "['A', 'B', 'C']\n"
     ]
    }
   ],
   "source": [
    "fil11 = list(map(lambda x : x.upper(), ['a', 'b', 'c']))\n",
    "print(fil11)"
   ]
  },
  {
   "cell_type": "code",
   "execution_count": 82,
   "id": "f8df9479",
   "metadata": {},
   "outputs": [
    {
     "name": "stdout",
     "output_type": "stream",
     "text": [
      "[20, 30, 40, 50]\n"
     ]
    }
   ],
   "source": [
    "my_dict = {10: 'B', 20: 'A', 30: 'A', 40: 'B', 50: 'A'}  \n",
    "\n",
    "filt1 = list((filter(lambda x : x > 10, my_dict)))\n",
    "print(filt1)\n"
   ]
  },
  {
   "cell_type": "code",
   "execution_count": 84,
   "id": "44d148b4",
   "metadata": {},
   "outputs": [
    {
     "name": "stdout",
     "output_type": "stream",
     "text": [
      "['a', 'e']\n"
     ]
    }
   ],
   "source": [
    "def fun(var):\n",
    "    letters = ['a', 'e', 'i', 'o', 'u']\n",
    "    if (var in letters):\n",
    "        return True\n",
    "    else:\n",
    "        return False\n",
    "    \n",
    "seq = ['a', 'b', 'c', 'd', 'e']\n",
    "fil = list(filter(fun,seq))\n",
    "print (fil)\n"
   ]
  },
  {
   "cell_type": "markdown",
   "id": "1140e2d6",
   "metadata": {},
   "source": [
    "## Global variables"
   ]
  },
  {
   "cell_type": "code",
   "execution_count": 1,
   "id": "05137f6e",
   "metadata": {},
   "outputs": [
    {
     "name": "stdout",
     "output_type": "stream",
     "text": [
      "Inside the function:  Global variable\n",
      "Outside the function:  Global variable\n"
     ]
    }
   ],
   "source": [
    "c = \"Global variable\"\n",
    "\n",
    "def function1():\n",
    "#     x = 100\n",
    "    print('Inside the function: ', c)\n",
    "\n",
    "function1()\n",
    "print('Outside the function: ', c)"
   ]
  },
  {
   "cell_type": "code",
   "execution_count": 4,
   "id": "96082b82",
   "metadata": {},
   "outputs": [
    {
     "name": "stdout",
     "output_type": "stream",
     "text": [
      "Inside\n"
     ]
    },
    {
     "ename": "NameError",
     "evalue": "name 'local_Var' is not defined",
     "output_type": "error",
     "traceback": [
      "\u001b[1;31m---------------------------------------------------------------------------\u001b[0m",
      "\u001b[1;31mNameError\u001b[0m                                 Traceback (most recent call last)",
      "\u001b[1;32m~\\AppData\\Local\\Temp/ipykernel_21428/3131985632.py\u001b[0m in \u001b[0;36m<module>\u001b[1;34m\u001b[0m\n\u001b[0;32m      4\u001b[0m \u001b[1;33m\u001b[0m\u001b[0m\n\u001b[0;32m      5\u001b[0m \u001b[0mfunction2\u001b[0m\u001b[1;33m(\u001b[0m\u001b[1;33m)\u001b[0m\u001b[1;33m\u001b[0m\u001b[1;33m\u001b[0m\u001b[0m\n\u001b[1;32m----> 6\u001b[1;33m \u001b[0mlocal_Var\u001b[0m\u001b[1;33m\u001b[0m\u001b[1;33m\u001b[0m\u001b[0m\n\u001b[0m",
      "\u001b[1;31mNameError\u001b[0m: name 'local_Var' is not defined"
     ]
    }
   ],
   "source": [
    "def function2():\n",
    "    local_Var = \"Inside\"\n",
    "    print(local_Var)\n",
    "\n",
    "function2()\n",
    "local_Var"
   ]
  },
  {
   "cell_type": "markdown",
   "id": "75912545",
   "metadata": {},
   "source": [
    "## Local and global in same code"
   ]
  },
  {
   "cell_type": "code",
   "execution_count": 21,
   "id": "5d898051",
   "metadata": {},
   "outputs": [],
   "source": [
    "var = 20\n",
    "\n",
    "def glob_var_eg():\n",
    "    y = 10\n",
    "    global var\n",
    "    var = var * 5\n",
    "    print('This is my local variable: ', y)\n",
    "    print('This is my global variable: ', var) \n",
    "     "
   ]
  },
  {
   "cell_type": "code",
   "execution_count": 22,
   "id": "0ca5d35a",
   "metadata": {},
   "outputs": [
    {
     "name": "stdout",
     "output_type": "stream",
     "text": [
      "This is my local variable:  10\n",
      "This is my global variable:  100\n"
     ]
    }
   ],
   "source": [
    "glob_var_eg()"
   ]
  },
  {
   "cell_type": "code",
   "execution_count": 16,
   "id": "fc454812",
   "metadata": {},
   "outputs": [
    {
     "data": {
      "text/plain": [
       "100"
      ]
     },
     "execution_count": 16,
     "metadata": {},
     "output_type": "execute_result"
    }
   ],
   "source": [
    "var"
   ]
  },
  {
   "cell_type": "markdown",
   "id": "2bc1644a",
   "metadata": {},
   "source": [
    "Nested indexing"
   ]
  },
  {
   "cell_type": "code",
   "execution_count": 32,
   "id": "e54111a9",
   "metadata": {},
   "outputs": [
    {
     "data": {
      "text/plain": [
       "[1, 2, [3, 4], ['five', 'six', 'seven']]"
      ]
     },
     "execution_count": 32,
     "metadata": {},
     "output_type": "execute_result"
    }
   ],
   "source": [
    "nested_list = [1, 2, [3, 4], ['five', 'six', 'seven']]\n",
    "nested_list"
   ]
  },
  {
   "cell_type": "code",
   "execution_count": 41,
   "id": "2fe6aec7",
   "metadata": {},
   "outputs": [
    {
     "data": {
      "text/plain": [
       "['five', 'six', 'seven']"
      ]
     },
     "execution_count": 41,
     "metadata": {},
     "output_type": "execute_result"
    }
   ],
   "source": [
    "nested_list[3]\n"
   ]
  },
  {
   "cell_type": "code",
   "execution_count": 34,
   "id": "93b3e1ba",
   "metadata": {},
   "outputs": [
    {
     "data": {
      "text/plain": [
       "4"
      ]
     },
     "execution_count": 34,
     "metadata": {},
     "output_type": "execute_result"
    }
   ],
   "source": [
    "nested_list[2][1]\n"
   ]
  },
  {
   "cell_type": "code",
   "execution_count": 36,
   "id": "fc13ea49",
   "metadata": {},
   "outputs": [
    {
     "data": {
      "text/plain": [
       "4"
      ]
     },
     "execution_count": 36,
     "metadata": {},
     "output_type": "execute_result"
    }
   ],
   "source": [
    "nested_list[-2][-1]"
   ]
  },
  {
   "cell_type": "code",
   "execution_count": 37,
   "id": "e7c3e929",
   "metadata": {},
   "outputs": [
    {
     "data": {
      "text/plain": [
       "['five', 'six', 'seven']"
      ]
     },
     "execution_count": 37,
     "metadata": {},
     "output_type": "execute_result"
    }
   ],
   "source": [
    "nested_list[-1]"
   ]
  },
  {
   "cell_type": "code",
   "execution_count": 44,
   "id": "654a829d",
   "metadata": {},
   "outputs": [
    {
     "data": {
      "text/plain": [
       "'six'"
      ]
     },
     "execution_count": 44,
     "metadata": {},
     "output_type": "execute_result"
    }
   ],
   "source": [
    "nested_list[-1][1]\n"
   ]
  },
  {
   "cell_type": "markdown",
   "id": "b72772c0",
   "metadata": {},
   "source": [
    "Append and extend"
   ]
  },
  {
   "cell_type": "code",
   "execution_count": 63,
   "id": "3cc6d9bf",
   "metadata": {},
   "outputs": [
    {
     "name": "stdout",
     "output_type": "stream",
     "text": [
      "[5, 4, 3, [15, 18, 20]]\n"
     ]
    }
   ],
   "source": [
    "list_1 = [5, 4, 3]\n",
    "list_1.append([15, 18, 20])\n",
    "print(list_1)"
   ]
  },
  {
   "cell_type": "code",
   "execution_count": 64,
   "id": "82ef1d52",
   "metadata": {},
   "outputs": [
    {
     "name": "stdout",
     "output_type": "stream",
     "text": [
      "[5, 4, 3, [15, 18, 20], 15]\n"
     ]
    }
   ],
   "source": [
    "list_1.extend([15])\n",
    "print(list_1)"
   ]
  },
  {
   "cell_type": "code",
   "execution_count": 67,
   "id": "890d959b",
   "metadata": {},
   "outputs": [
    {
     "name": "stdout",
     "output_type": "stream",
     "text": [
      "[15, 5, 4, 3, [25, 65, 85], 25, [15, 18, 20], 15]\n"
     ]
    }
   ],
   "source": [
    "var = [25, 65, 85]\n",
    "\n",
    "list_1.insert(4, var)\n",
    "print(list_1)"
   ]
  },
  {
   "cell_type": "code",
   "execution_count": 68,
   "id": "f343f0c8",
   "metadata": {},
   "outputs": [
    {
     "name": "stdout",
     "output_type": "stream",
     "text": [
      "[15, 5, 4, 3, [25, 65, 85], 25, [15, 18, 20], 15]\n",
      "[5, 4, 3, [25, 65, 85], 25, [15, 18, 20], 15]\n"
     ]
    }
   ],
   "source": [
    "print(list_1)\n",
    "\n",
    "list_1.remove(15)\n",
    "print(list_1)"
   ]
  },
  {
   "cell_type": "code",
   "execution_count": 69,
   "id": "596ac24f",
   "metadata": {},
   "outputs": [
    {
     "name": "stdout",
     "output_type": "stream",
     "text": [
      "Object `remove` not found.\n"
     ]
    }
   ],
   "source": [
    "list_1."
   ]
  },
  {
   "cell_type": "markdown",
   "id": "b604e5c3",
   "metadata": {},
   "source": []
  },
  {
   "cell_type": "code",
   "execution_count": 70,
   "id": "bb887655",
   "metadata": {},
   "outputs": [],
   "source": [
    "list_1.append(15)"
   ]
  },
  {
   "cell_type": "code",
   "execution_count": 71,
   "id": "233aacbe",
   "metadata": {},
   "outputs": [
    {
     "data": {
      "text/plain": [
       "[5, 4, 3, [25, 65, 85], 25, [15, 18, 20], 15, 15]"
      ]
     },
     "execution_count": 71,
     "metadata": {},
     "output_type": "execute_result"
    }
   ],
   "source": [
    "list_1"
   ]
  },
  {
   "cell_type": "code",
   "execution_count": 76,
   "id": "86521fe7",
   "metadata": {},
   "outputs": [],
   "source": [
    "del list_1"
   ]
  },
  {
   "cell_type": "code",
   "execution_count": 81,
   "id": "0919f887",
   "metadata": {},
   "outputs": [],
   "source": [
    "del var"
   ]
  },
  {
   "cell_type": "code",
   "execution_count": 82,
   "id": "e60def33",
   "metadata": {},
   "outputs": [
    {
     "ename": "NameError",
     "evalue": "name 'var' is not defined",
     "output_type": "error",
     "traceback": [
      "\u001b[1;31m---------------------------------------------------------------------------\u001b[0m",
      "\u001b[1;31mNameError\u001b[0m                                 Traceback (most recent call last)",
      "\u001b[1;32m~\\AppData\\Local\\Temp/ipykernel_21428/4138207136.py\u001b[0m in \u001b[0;36m<module>\u001b[1;34m\u001b[0m\n\u001b[1;32m----> 1\u001b[1;33m \u001b[0mvar\u001b[0m\u001b[1;33m\u001b[0m\u001b[1;33m\u001b[0m\u001b[0m\n\u001b[0m",
      "\u001b[1;31mNameError\u001b[0m: name 'var' is not defined"
     ]
    }
   ],
   "source": [
    "var"
   ]
  },
  {
   "cell_type": "code",
   "execution_count": 77,
   "id": "1dd0a422",
   "metadata": {},
   "outputs": [
    {
     "ename": "NameError",
     "evalue": "name 'list_1' is not defined",
     "output_type": "error",
     "traceback": [
      "\u001b[1;31m---------------------------------------------------------------------------\u001b[0m",
      "\u001b[1;31mNameError\u001b[0m                                 Traceback (most recent call last)",
      "\u001b[1;32m~\\AppData\\Local\\Temp/ipykernel_21428/3718752200.py\u001b[0m in \u001b[0;36m<module>\u001b[1;34m\u001b[0m\n\u001b[1;32m----> 1\u001b[1;33m \u001b[0mprint\u001b[0m\u001b[1;33m(\u001b[0m\u001b[0mlist_1\u001b[0m\u001b[1;33m)\u001b[0m\u001b[1;33m\u001b[0m\u001b[1;33m\u001b[0m\u001b[0m\n\u001b[0m",
      "\u001b[1;31mNameError\u001b[0m: name 'list_1' is not defined"
     ]
    }
   ],
   "source": [
    "print(list_1)"
   ]
  },
  {
   "cell_type": "markdown",
   "id": "3d9dc92e",
   "metadata": {},
   "source": [
    "list concatenation"
   ]
  },
  {
   "cell_type": "code",
   "execution_count": 80,
   "id": "3ad5e90e",
   "metadata": {},
   "outputs": [
    {
     "name": "stdout",
     "output_type": "stream",
     "text": [
      "[1, 3, 5, 9, 7, 6]\n"
     ]
    }
   ],
   "source": [
    "list1 = [1, 3, 5]\n",
    "print(list1 + [9, 7, 6])\n"
   ]
  },
  {
   "cell_type": "code",
   "execution_count": 78,
   "id": "16347354",
   "metadata": {},
   "outputs": [
    {
     "name": "stdout",
     "output_type": "stream",
     "text": [
      "['five', 'five', 'five', 'five', 'five']\n"
     ]
    }
   ],
   "source": [
    "print(['five'] * 5)"
   ]
  },
  {
   "cell_type": "markdown",
   "id": "617c5f05",
   "metadata": {},
   "source": [
    "remove and pop"
   ]
  },
  {
   "cell_type": "code",
   "execution_count": 99,
   "id": "0888de4f",
   "metadata": {},
   "outputs": [
    {
     "data": {
      "text/plain": [
       "['D', 'a', 't', 'a', 'S', 'c', 'i', 'e', 'n', 'c', 'e']"
      ]
     },
     "execution_count": 99,
     "metadata": {},
     "output_type": "execute_result"
    }
   ],
   "source": [
    "String = 'DataScience'\n",
    "list(String)\n",
    "\n"
   ]
  },
  {
   "cell_type": "code",
   "execution_count": 83,
   "id": "c1534579",
   "metadata": {},
   "outputs": [
    {
     "name": "stdout",
     "output_type": "stream",
     "text": [
      "[2, 3, 5, 0]\n"
     ]
    }
   ],
   "source": [
    "myList = [2, 1, 3, 5, 1, 1, 1, 0]\n",
    "myList = list(filter((1).__ne__, myList))\n",
    "print(myList)\n"
   ]
  },
  {
   "cell_type": "code",
   "execution_count": 100,
   "id": "95140880",
   "metadata": {},
   "outputs": [],
   "source": [
    "list1 = list(String)"
   ]
  },
  {
   "cell_type": "code",
   "execution_count": 86,
   "id": "39adf7da",
   "metadata": {},
   "outputs": [
    {
     "data": {
      "text/plain": [
       "['D', 'a', 't', 'a', 'S', 'c', 'i', 'e', 'n', 'c', 'e']"
      ]
     },
     "execution_count": 86,
     "metadata": {},
     "output_type": "execute_result"
    }
   ],
   "source": [
    "list1"
   ]
  },
  {
   "cell_type": "code",
   "execution_count": 87,
   "id": "0b1c5502",
   "metadata": {},
   "outputs": [
    {
     "ename": "ValueError",
     "evalue": "list.remove(x): x not in list",
     "output_type": "error",
     "traceback": [
      "\u001b[1;31m---------------------------------------------------------------------------\u001b[0m",
      "\u001b[1;31mValueError\u001b[0m                                Traceback (most recent call last)",
      "\u001b[1;32m~\\AppData\\Local\\Temp/ipykernel_21428/3951286052.py\u001b[0m in \u001b[0;36m<module>\u001b[1;34m\u001b[0m\n\u001b[1;32m----> 1\u001b[1;33m \u001b[0mlist1\u001b[0m\u001b[1;33m.\u001b[0m\u001b[0mremove\u001b[0m\u001b[1;33m(\u001b[0m\u001b[1;34m's'\u001b[0m\u001b[1;33m)\u001b[0m\u001b[1;33m\u001b[0m\u001b[1;33m\u001b[0m\u001b[0m\n\u001b[0m",
      "\u001b[1;31mValueError\u001b[0m: list.remove(x): x not in list"
     ]
    }
   ],
   "source": [
    "list1.remove('s')"
   ]
  },
  {
   "cell_type": "code",
   "execution_count": 89,
   "id": "6b9bef1a",
   "metadata": {},
   "outputs": [
    {
     "data": {
      "text/plain": [
       "'a'"
      ]
     },
     "execution_count": 89,
     "metadata": {},
     "output_type": "execute_result"
    }
   ],
   "source": [
    "list1.pop(3)"
   ]
  },
  {
   "cell_type": "code",
   "execution_count": 101,
   "id": "4ed1ed81",
   "metadata": {},
   "outputs": [
    {
     "data": {
      "text/plain": [
       "['D', 'a', 't', 'a', 'S', 'c', 'i', 'e', 'n', 'c', 'e']"
      ]
     },
     "execution_count": 101,
     "metadata": {},
     "output_type": "execute_result"
    }
   ],
   "source": [
    "list1"
   ]
  },
  {
   "cell_type": "code",
   "execution_count": 92,
   "id": "d693facc",
   "metadata": {},
   "outputs": [
    {
     "name": "stdout",
     "output_type": "stream",
     "text": [
      "5\n"
     ]
    }
   ],
   "source": [
    "print(list1.index('i'))"
   ]
  },
  {
   "cell_type": "code",
   "execution_count": 95,
   "id": "63523fb5",
   "metadata": {},
   "outputs": [],
   "source": [
    "list1 = [1, 2, 4, 5, 8]"
   ]
  },
  {
   "cell_type": "code",
   "execution_count": 97,
   "id": "19dd77e9",
   "metadata": {},
   "outputs": [
    {
     "name": "stdout",
     "output_type": "stream",
     "text": [
      "4\n"
     ]
    }
   ],
   "source": [
    "print(list1.index(8))"
   ]
  },
  {
   "cell_type": "code",
   "execution_count": 103,
   "id": "00858741",
   "metadata": {},
   "outputs": [
    {
     "name": "stdout",
     "output_type": "stream",
     "text": [
      "1\n"
     ]
    }
   ],
   "source": [
    "print(list1.count('i'))"
   ]
  },
  {
   "cell_type": "code",
   "execution_count": 104,
   "id": "a29ba2b4",
   "metadata": {},
   "outputs": [
    {
     "name": "stdout",
     "output_type": "stream",
     "text": [
      "[0, 1, 4, 9, 16, 25, 36, 49, 64, 81]\n"
     ]
    }
   ],
   "source": [
    "list_1 = []\n",
    "for i in range(10):\n",
    "    list_1.append(i**2)\n",
    "print (list_1)\n"
   ]
  },
  {
   "cell_type": "code",
   "execution_count": 105,
   "id": "a2bd2f1e",
   "metadata": {},
   "outputs": [
    {
     "data": {
      "text/plain": [
       "[0, 1, 4, 9, 16, 25, 36, 49, 64, 81]"
      ]
     },
     "execution_count": 105,
     "metadata": {},
     "output_type": "execute_result"
    }
   ],
   "source": [
    "[i**2 for i in range(10)]"
   ]
  },
  {
   "cell_type": "code",
   "execution_count": 106,
   "id": "4fff9026",
   "metadata": {},
   "outputs": [
    {
     "data": {
      "text/plain": [
       "[0, 10, 20, 30, 40, 50, 60, 70, 80, 90]"
      ]
     },
     "execution_count": 106,
     "metadata": {},
     "output_type": "execute_result"
    }
   ],
   "source": [
    "[i for i in range(100) if i%2 == 0 and i%5 == 0]\n"
   ]
  },
  {
   "cell_type": "code",
   "execution_count": 107,
   "id": "24ab15c8",
   "metadata": {},
   "outputs": [
    {
     "data": {
      "text/plain": [
       "['EVEN', 'ODD', 'EVEN', 'ODD', 'EVEN', 'ODD', 'EVEN', 'ODD', 'EVEN', 'ODD']"
      ]
     },
     "execution_count": 107,
     "metadata": {},
     "output_type": "execute_result"
    }
   ],
   "source": [
    "[\"EVEN\" if i%2==0 else \"ODD\" for i in range(10)]"
   ]
  },
  {
   "cell_type": "markdown",
   "id": "3d8296c4",
   "metadata": {},
   "source": [
    "Enumerate"
   ]
  },
  {
   "cell_type": "code",
   "execution_count": 108,
   "id": "8bd33b0c",
   "metadata": {},
   "outputs": [
    {
     "data": {
      "text/plain": [
       "[(0, 'Data'), (1, 'Functions'), (2, 'Stats')]"
      ]
     },
     "execution_count": 108,
     "metadata": {},
     "output_type": "execute_result"
    }
   ],
   "source": [
    "x1 = ['Data', 'Functions', 'Stats']\n",
    "list(enumerate(x1))"
   ]
  },
  {
   "cell_type": "code",
   "execution_count": 109,
   "id": "03314d5e",
   "metadata": {},
   "outputs": [
    {
     "data": {
      "text/plain": [
       "[(200, 'Data'), (201, 'Functions'), (202, 'Stats')]"
      ]
     },
     "execution_count": 109,
     "metadata": {},
     "output_type": "execute_result"
    }
   ],
   "source": [
    "x1 = ['Data', 'Functions', 'Stats']\n",
    "list(enumerate(x1, 200))"
   ]
  },
  {
   "cell_type": "code",
   "execution_count": 110,
   "id": "f796d745",
   "metadata": {},
   "outputs": [
    {
     "data": {
      "text/plain": [
       "[(2, 2), (3, 3), (4, 4), (5, 5), (6, 5)]"
      ]
     },
     "execution_count": 110,
     "metadata": {},
     "output_type": "execute_result"
    }
   ],
   "source": [
    "list1 = [2,3,4,5,5]\n",
    "list(enumerate(list1,2))"
   ]
  },
  {
   "cell_type": "markdown",
   "id": "2ff65b9d",
   "metadata": {},
   "source": [
    "Tuple operations"
   ]
  },
  {
   "cell_type": "code",
   "execution_count": 114,
   "id": "787ffb32",
   "metadata": {},
   "outputs": [
    {
     "name": "stdout",
     "output_type": "stream",
     "text": [
      "(3, 5.5, 'nine')\n"
     ]
    }
   ],
   "source": [
    "tuple1 = 3, 5.5, 'nine'\n",
    "\n",
    "print(tuple1)"
   ]
  },
  {
   "cell_type": "code",
   "execution_count": 115,
   "id": "e6f39dae",
   "metadata": {},
   "outputs": [
    {
     "data": {
      "text/plain": [
       "tuple"
      ]
     },
     "execution_count": 115,
     "metadata": {},
     "output_type": "execute_result"
    }
   ],
   "source": [
    "type(tuple1)"
   ]
  },
  {
   "cell_type": "markdown",
   "id": "aefe11dc",
   "metadata": {},
   "source": [
    "Tuple unpacking"
   ]
  },
  {
   "cell_type": "code",
   "execution_count": 116,
   "id": "a69f884a",
   "metadata": {},
   "outputs": [
    {
     "name": "stdout",
     "output_type": "stream",
     "text": [
      "3\n",
      "5.5\n",
      "nine\n"
     ]
    }
   ],
   "source": [
    "a, b, c = tuple1\n",
    "print(a)\n",
    "print(b)\n",
    "print(c)"
   ]
  },
  {
   "cell_type": "code",
   "execution_count": 118,
   "id": "131b2407",
   "metadata": {},
   "outputs": [
    {
     "data": {
      "text/plain": [
       "str"
      ]
     },
     "execution_count": 118,
     "metadata": {},
     "output_type": "execute_result"
    }
   ],
   "source": [
    "tuple2 = ('tuple')\n",
    "type(tuple2)"
   ]
  },
  {
   "cell_type": "code",
   "execution_count": 117,
   "id": "1f8928d4",
   "metadata": {},
   "outputs": [
    {
     "data": {
      "text/plain": [
       "str"
      ]
     },
     "execution_count": 117,
     "metadata": {},
     "output_type": "execute_result"
    }
   ],
   "source": [
    "string_va = 'String'\n",
    "type(string_va)"
   ]
  },
  {
   "cell_type": "code",
   "execution_count": 119,
   "id": "8f880880",
   "metadata": {},
   "outputs": [
    {
     "data": {
      "text/plain": [
       "tuple"
      ]
     },
     "execution_count": 119,
     "metadata": {},
     "output_type": "execute_result"
    }
   ],
   "source": [
    "tuple2 = ('tuple',)\n",
    "type(tuple2)"
   ]
  },
  {
   "cell_type": "code",
   "execution_count": 120,
   "id": "048ebfcd",
   "metadata": {},
   "outputs": [
    {
     "data": {
      "text/plain": [
       "tuple"
      ]
     },
     "execution_count": 120,
     "metadata": {},
     "output_type": "execute_result"
    }
   ],
   "source": [
    "tuple2 = 'tuple',\n",
    "type(tuple2)"
   ]
  },
  {
   "cell_type": "markdown",
   "id": "769f3528",
   "metadata": {},
   "source": [
    "## Changing a tuple"
   ]
  },
  {
   "cell_type": "code",
   "execution_count": 121,
   "id": "f343e67a",
   "metadata": {},
   "outputs": [
    {
     "data": {
      "text/plain": [
       "(1, 2, [2, 2, 3])"
      ]
     },
     "execution_count": 121,
     "metadata": {},
     "output_type": "execute_result"
    }
   ],
   "source": [
    "tupl1 = (1,2,[1,2,3])\n",
    "\n",
    "tupl1[2][0]= 2\n",
    "tupl1\n"
   ]
  },
  {
   "cell_type": "markdown",
   "id": "d7462aab",
   "metadata": {},
   "source": [
    "A \"set\" of mixed data types"
   ]
  },
  {
   "cell_type": "code",
   "execution_count": 125,
   "id": "1dd12445",
   "metadata": {},
   "outputs": [
    {
     "name": "stdout",
     "output_type": "stream",
     "text": [
      "{(2, 5, 8), 'Hey', 1.0}\n"
     ]
    }
   ],
   "source": [
    "my_set1 = {1.0, \"Hey\", (2, 5, 8)}\n",
    "print(my_set1)"
   ]
  },
  {
   "cell_type": "code",
   "execution_count": 123,
   "id": "f2887979",
   "metadata": {},
   "outputs": [
    {
     "ename": "TypeError",
     "evalue": "unhashable type: 'list'",
     "output_type": "error",
     "traceback": [
      "\u001b[1;31m---------------------------------------------------------------------------\u001b[0m",
      "\u001b[1;31mTypeError\u001b[0m                                 Traceback (most recent call last)",
      "\u001b[1;32m~\\AppData\\Local\\Temp/ipykernel_21428/4058713363.py\u001b[0m in \u001b[0;36m<module>\u001b[1;34m\u001b[0m\n\u001b[1;32m----> 1\u001b[1;33m \u001b[0mmy_set2\u001b[0m \u001b[1;33m=\u001b[0m \u001b[1;33m{\u001b[0m\u001b[1;36m1.0\u001b[0m\u001b[1;33m,\u001b[0m \u001b[1;34m\"Hello\"\u001b[0m\u001b[1;33m,\u001b[0m \u001b[1;33m[\u001b[0m\u001b[1;36m2\u001b[0m\u001b[1;33m,\u001b[0m \u001b[1;36m5\u001b[0m\u001b[1;33m,\u001b[0m \u001b[1;36m8\u001b[0m\u001b[1;33m]\u001b[0m\u001b[1;33m}\u001b[0m\u001b[1;33m\u001b[0m\u001b[1;33m\u001b[0m\u001b[0m\n\u001b[0m\u001b[0;32m      2\u001b[0m \u001b[0mprint\u001b[0m\u001b[1;33m(\u001b[0m\u001b[0mmy_set2\u001b[0m\u001b[1;33m)\u001b[0m\u001b[1;33m\u001b[0m\u001b[1;33m\u001b[0m\u001b[0m\n",
      "\u001b[1;31mTypeError\u001b[0m: unhashable type: 'list'"
     ]
    }
   ],
   "source": [
    "my_set2 = {1.0, \"Hello\", [2, 5, 8]}\n",
    "print(my_set2)"
   ]
  },
  {
   "cell_type": "code",
   "execution_count": 128,
   "id": "f228881e",
   "metadata": {},
   "outputs": [
    {
     "name": "stdout",
     "output_type": "stream",
     "text": [
      "{0, 1, 4, 8, 9, 10}\n",
      "{0, 1, 4, 8, 9, 10}\n"
     ]
    },
    {
     "ename": "KeyError",
     "evalue": "3",
     "output_type": "error",
     "traceback": [
      "\u001b[1;31m---------------------------------------------------------------------------\u001b[0m",
      "\u001b[1;31mKeyError\u001b[0m                                  Traceback (most recent call last)",
      "\u001b[1;32m~\\AppData\\Local\\Temp/ipykernel_21428/698838943.py\u001b[0m in \u001b[0;36m<module>\u001b[1;34m\u001b[0m\n\u001b[0;32m      5\u001b[0m \u001b[0mprint\u001b[0m\u001b[1;33m(\u001b[0m\u001b[0mmy_set\u001b[0m\u001b[1;33m)\u001b[0m\u001b[1;33m\u001b[0m\u001b[1;33m\u001b[0m\u001b[0m\n\u001b[0;32m      6\u001b[0m \u001b[1;33m\u001b[0m\u001b[0m\n\u001b[1;32m----> 7\u001b[1;33m \u001b[0mmy_set\u001b[0m\u001b[1;33m.\u001b[0m\u001b[0mremove\u001b[0m\u001b[1;33m(\u001b[0m\u001b[1;36m3\u001b[0m\u001b[1;33m)\u001b[0m\u001b[1;33m\u001b[0m\u001b[1;33m\u001b[0m\u001b[0m\n\u001b[0m\u001b[0;32m      8\u001b[0m \u001b[0mprint\u001b[0m\u001b[1;33m(\u001b[0m\u001b[0mmy_set\u001b[0m\u001b[1;33m)\u001b[0m\u001b[1;33m\u001b[0m\u001b[1;33m\u001b[0m\u001b[0m\n",
      "\u001b[1;31mKeyError\u001b[0m: 3"
     ]
    }
   ],
   "source": [
    "my_set = {1, 8, 9, 4, 0, 10}\n",
    "print(my_set)\n",
    "\n",
    "my_set.discard(3)\n",
    "print(my_set)\n",
    "\n",
    "my_set.remove(3)\n",
    "print(my_set)\n"
   ]
  },
  {
   "cell_type": "code",
   "execution_count": 140,
   "id": "729f0910",
   "metadata": {},
   "outputs": [
    {
     "name": "stdout",
     "output_type": "stream",
     "text": [
      "{8, 1, 4, 9}\n"
     ]
    }
   ],
   "source": [
    "my_set = {1, 8, 9, 4}\n",
    "print(my_set)\n"
   ]
  },
  {
   "cell_type": "code",
   "execution_count": 144,
   "id": "b8a7f9af",
   "metadata": {},
   "outputs": [
    {
     "name": "stdout",
     "output_type": "stream",
     "text": [
      "{1, 4, 9, 7}\n",
      "{1, 4, 7}\n"
     ]
    }
   ],
   "source": [
    "my_set = {1, 7, 9, 4}\n",
    "print(my_set)\n",
    "my_set.discard(9)\n",
    "print(my_set)"
   ]
  },
  {
   "cell_type": "markdown",
   "id": "cdafc4ac",
   "metadata": {},
   "source": [
    "## Iterators"
   ]
  },
  {
   "cell_type": "code",
   "execution_count": 145,
   "id": "e96867e3",
   "metadata": {},
   "outputs": [
    {
     "name": "stdout",
     "output_type": "stream",
     "text": [
      "2\n"
     ]
    }
   ],
   "source": [
    "my_list = [2, 9, 8, 3]\n",
    "\n",
    "my_iter = iter(my_list)\n",
    "\n",
    "print(next(my_iter))"
   ]
  },
  {
   "cell_type": "code",
   "execution_count": 146,
   "id": "1f2a7623",
   "metadata": {},
   "outputs": [
    {
     "name": "stdout",
     "output_type": "stream",
     "text": [
      "9\n"
     ]
    }
   ],
   "source": [
    "print(next(my_iter))\n"
   ]
  },
  {
   "cell_type": "code",
   "execution_count": 147,
   "id": "b1410959",
   "metadata": {},
   "outputs": [
    {
     "name": "stdout",
     "output_type": "stream",
     "text": [
      "8\n"
     ]
    }
   ],
   "source": [
    "print(next(my_iter))"
   ]
  },
  {
   "cell_type": "code",
   "execution_count": 148,
   "id": "778157fd",
   "metadata": {},
   "outputs": [
    {
     "name": "stdout",
     "output_type": "stream",
     "text": [
      "3\n"
     ]
    }
   ],
   "source": [
    "print(next(my_iter))"
   ]
  },
  {
   "cell_type": "code",
   "execution_count": 149,
   "id": "014c2966",
   "metadata": {},
   "outputs": [
    {
     "ename": "StopIteration",
     "evalue": "",
     "output_type": "error",
     "traceback": [
      "\u001b[1;31m---------------------------------------------------------------------------\u001b[0m",
      "\u001b[1;31mStopIteration\u001b[0m                             Traceback (most recent call last)",
      "\u001b[1;32m~\\AppData\\Local\\Temp/ipykernel_21428/1757294138.py\u001b[0m in \u001b[0;36m<module>\u001b[1;34m\u001b[0m\n\u001b[1;32m----> 1\u001b[1;33m \u001b[0mprint\u001b[0m\u001b[1;33m(\u001b[0m\u001b[0mnext\u001b[0m\u001b[1;33m(\u001b[0m\u001b[0mmy_iter\u001b[0m\u001b[1;33m)\u001b[0m\u001b[1;33m)\u001b[0m\u001b[1;33m\u001b[0m\u001b[1;33m\u001b[0m\u001b[0m\n\u001b[0m",
      "\u001b[1;31mStopIteration\u001b[0m: "
     ]
    }
   ],
   "source": [
    "print(next(my_iter))"
   ]
  },
  {
   "cell_type": "code",
   "execution_count": 150,
   "id": "59fae364",
   "metadata": {},
   "outputs": [
    {
     "name": "stdout",
     "output_type": "stream",
     "text": [
      "2\n",
      "9\n",
      "8\n",
      "3\n"
     ]
    }
   ],
   "source": [
    "my_list = [2, 9, 8, 3]\n",
    "\n",
    "my_iter = iter(my_list)\n",
    "\n",
    "for i in range(len(my_list)):\n",
    "    print(next(my_iter))\n"
   ]
  },
  {
   "cell_type": "markdown",
   "id": "9908dd28",
   "metadata": {},
   "source": [
    "## Generators"
   ]
  },
  {
   "cell_type": "code",
   "execution_count": null,
   "id": "70c50994",
   "metadata": {},
   "outputs": [],
   "source": [
    "#yield"
   ]
  },
  {
   "cell_type": "code",
   "execution_count": null,
   "id": "f4dc0bf2",
   "metadata": {},
   "outputs": [],
   "source": [
    "def addition_function(a, b):\n",
    "    \"\"\"Function to add two number\"\"\"\n",
    "    return a + b\n"
   ]
  },
  {
   "cell_type": "code",
   "execution_count": 19,
   "id": "05ff250e",
   "metadata": {},
   "outputs": [],
   "source": [
    "def generator_fun():\n",
    "    num = 1\n",
    "    print('The first number: ')\n",
    "    yield num\n",
    "    num += 1 #n = n+1\n",
    "    print('The second number')\n",
    "    yield num\n",
    "    num += 1 #n = n+1\n",
    "    print('The third number:')\n",
    "    yield num"
   ]
  },
  {
   "cell_type": "code",
   "execution_count": 20,
   "id": "94a8b7db",
   "metadata": {},
   "outputs": [
    {
     "data": {
      "text/plain": [
       "<generator object generator_fun at 0x00000150BDE44AC0>"
      ]
     },
     "execution_count": 20,
     "metadata": {},
     "output_type": "execute_result"
    }
   ],
   "source": [
    "generator_fun()"
   ]
  },
  {
   "cell_type": "code",
   "execution_count": 21,
   "id": "71c8abbc",
   "metadata": {},
   "outputs": [],
   "source": [
    "var1 = generator_fun()"
   ]
  },
  {
   "cell_type": "code",
   "execution_count": 22,
   "id": "c9b10ed7",
   "metadata": {},
   "outputs": [
    {
     "name": "stdout",
     "output_type": "stream",
     "text": [
      "The first number: \n"
     ]
    },
    {
     "data": {
      "text/plain": [
       "1"
      ]
     },
     "execution_count": 22,
     "metadata": {},
     "output_type": "execute_result"
    }
   ],
   "source": [
    "next(var1)"
   ]
  },
  {
   "cell_type": "code",
   "execution_count": 23,
   "id": "9e946420",
   "metadata": {},
   "outputs": [
    {
     "name": "stdout",
     "output_type": "stream",
     "text": [
      "The second number\n"
     ]
    },
    {
     "data": {
      "text/plain": [
       "2"
      ]
     },
     "execution_count": 23,
     "metadata": {},
     "output_type": "execute_result"
    }
   ],
   "source": [
    "next(var1)"
   ]
  },
  {
   "cell_type": "code",
   "execution_count": 24,
   "id": "9eec6abe",
   "metadata": {},
   "outputs": [
    {
     "name": "stdout",
     "output_type": "stream",
     "text": [
      "The third number:\n"
     ]
    },
    {
     "data": {
      "text/plain": [
       "3"
      ]
     },
     "execution_count": 24,
     "metadata": {},
     "output_type": "execute_result"
    }
   ],
   "source": [
    "next(var1)"
   ]
  },
  {
   "cell_type": "code",
   "execution_count": 25,
   "id": "06d24355",
   "metadata": {},
   "outputs": [
    {
     "ename": "StopIteration",
     "evalue": "",
     "output_type": "error",
     "traceback": [
      "\u001b[1;31m---------------------------------------------------------------------------\u001b[0m",
      "\u001b[1;31mStopIteration\u001b[0m                             Traceback (most recent call last)",
      "\u001b[1;32m~\\AppData\\Local\\Temp/ipykernel_9068/1695450877.py\u001b[0m in \u001b[0;36m<module>\u001b[1;34m\u001b[0m\n\u001b[1;32m----> 1\u001b[1;33m \u001b[0mnext\u001b[0m\u001b[1;33m(\u001b[0m\u001b[0mvar1\u001b[0m\u001b[1;33m)\u001b[0m\u001b[1;33m\u001b[0m\u001b[1;33m\u001b[0m\u001b[0m\n\u001b[0m",
      "\u001b[1;31mStopIteration\u001b[0m: "
     ]
    }
   ],
   "source": [
    "next(var1)"
   ]
  },
  {
   "cell_type": "code",
   "execution_count": 31,
   "id": "b7aee0bc",
   "metadata": {},
   "outputs": [],
   "source": [
    "def generator_func1():\n",
    "    for i in range(10):\n",
    "        print(\"hi\")\n",
    "        yield i\n"
   ]
  },
  {
   "cell_type": "code",
   "execution_count": 32,
   "id": "0099344f",
   "metadata": {},
   "outputs": [
    {
     "name": "stdout",
     "output_type": "stream",
     "text": [
      "hi\n",
      "hi\n",
      "hi\n",
      "hi\n",
      "hi\n",
      "hi\n",
      "hi\n",
      "hi\n",
      "hi\n",
      "hi\n"
     ]
    },
    {
     "data": {
      "text/plain": [
       "9"
      ]
     },
     "execution_count": 32,
     "metadata": {},
     "output_type": "execute_result"
    }
   ],
   "source": [
    "var3 = generator_func1()\n",
    "next(var3)\n",
    "next(var3)\n",
    "next(var3)\n",
    "next(var3)\n",
    "next(var3)\n",
    "next(var3)\n",
    "next(var3)\n",
    "next(var3)\n",
    "next(var3)\n",
    "next(var3)"
   ]
  },
  {
   "cell_type": "code",
   "execution_count": 38,
   "id": "d1ccb01d",
   "metadata": {},
   "outputs": [],
   "source": [
    "def generator_func5(arg):\n",
    "  ##  arg_len = len(arg)\n",
    "    for i in range(len(arg)-1,0,-1):\n",
    "        print(arg[i])\n",
    "        yield i\n",
    "\n"
   ]
  },
  {
   "cell_type": "code",
   "execution_count": 37,
   "id": "c7f8a3cb",
   "metadata": {},
   "outputs": [
    {
     "name": "stdout",
     "output_type": "stream",
     "text": [
      "E\n",
      "10\n",
      "C\n",
      "9\n",
      "N\n",
      "8\n",
      "E\n",
      "7\n",
      "I\n",
      "6\n"
     ]
    }
   ],
   "source": [
    "var3 = generator_func5('DATASCIENCE')\n",
    "print(next(var3))\n",
    "print(next(var3))\n",
    "print(next(var3))\n",
    "print(next(var3))\n",
    "print(next(var3))"
   ]
  },
  {
   "cell_type": "code",
   "execution_count": 39,
   "id": "27ba7519",
   "metadata": {},
   "outputs": [],
   "source": [
    "def generator_1(st):\n",
    "    l=len(st)\n",
    "    for i in range(l-1,0,-1):        \n",
    "        yield st[i]\n",
    "String=\"Data Science\"\n",
    "\n"
   ]
  },
  {
   "cell_type": "code",
   "execution_count": 40,
   "id": "335acc7b",
   "metadata": {},
   "outputs": [
    {
     "name": "stdout",
     "output_type": "stream",
     "text": [
      "e\n",
      "c\n",
      "n\n",
      "e\n",
      "i\n"
     ]
    }
   ],
   "source": [
    "var3=generator_1(String)\n",
    "print(next(var3))\n",
    "print(next(var3))\n",
    "print(next(var3))\n",
    "print(next(var3))\n",
    "print(next(var3))"
   ]
  },
  {
   "cell_type": "markdown",
   "id": "ab42e4f9",
   "metadata": {},
   "source": [
    "# #range (start, stop, step)\n"
   ]
  },
  {
   "cell_type": "code",
   "execution_count": 50,
   "id": "8b83ef51",
   "metadata": {},
   "outputs": [
    {
     "name": "stdout",
     "output_type": "stream",
     "text": [
      "[]\n"
     ]
    }
   ],
   "source": [
    "print(list(range(10)))"
   ]
  },
  {
   "cell_type": "code",
   "execution_count": 42,
   "id": "28693150",
   "metadata": {},
   "outputs": [],
   "source": [
    "def rev_str(my_str):\n",
    "    length = len(my_str)\n",
    "    for i in range(length - 1, -1, -1): #reverse order\n",
    "        yield my_str[i]"
   ]
  },
  {
   "cell_type": "code",
   "execution_count": 74,
   "id": "e0c6b57b",
   "metadata": {},
   "outputs": [
    {
     "name": "stdout",
     "output_type": "stream",
     "text": [
      "ecneicSataD"
     ]
    }
   ],
   "source": [
    "my_str = \"DataScience\"\n",
    "\n",
    "for char in rev_str(my_str):\n",
    "    print(char, end = '')"
   ]
  },
  {
   "cell_type": "code",
   "execution_count": 75,
   "id": "4043ef6e",
   "metadata": {},
   "outputs": [],
   "source": [
    "def reverse(s):\n",
    "    for i in s:\n",
    "        global st\n",
    "        st = i + st\n",
    "        yield st\n",
    "        "
   ]
  },
  {
   "cell_type": "code",
   "execution_count": 76,
   "id": "e6b0bd5a",
   "metadata": {
    "collapsed": true
   },
   "outputs": [
    {
     "name": "stdout",
     "output_type": "stream",
     "text": [
      "SString\n",
      "tSString\n",
      "rtSString\n",
      "irtSString\n",
      "nirtSString\n",
      "gnirtSString\n"
     ]
    }
   ],
   "source": [
    "st = 'String' #0, 1, 2, 3, 4, 5\n",
    "for i in reverse(st):\n",
    "    print(i)"
   ]
  },
  {
   "cell_type": "code",
   "execution_count": 83,
   "id": "b520d226",
   "metadata": {},
   "outputs": [],
   "source": [
    "def gene_func2(stringval):\n",
    "    for i in range(len(stringval)-1,0,-1):\n",
    "        print(stringval[i])\n",
    "        yield i\n"
   ]
  },
  {
   "cell_type": "code",
   "execution_count": 84,
   "id": "727dbe2c",
   "metadata": {},
   "outputs": [
    {
     "name": "stdout",
     "output_type": "stream",
     "text": [
      "e\n"
     ]
    },
    {
     "data": {
      "text/plain": [
       "10"
      ]
     },
     "execution_count": 84,
     "metadata": {},
     "output_type": "execute_result"
    }
   ],
   "source": [
    "stringvar = \"DataScience\"\n",
    "varr=gene_func2(stringvar)\n",
    "next(varr)"
   ]
  },
  {
   "cell_type": "code",
   "execution_count": 85,
   "id": "585236ce",
   "metadata": {
    "collapsed": true
   },
   "outputs": [
    {
     "name": "stdout",
     "output_type": "stream",
     "text": [
      "c\n",
      "n\n",
      "e\n",
      "i\n",
      "c\n",
      "S\n",
      "a\n",
      "t\n",
      "a\n"
     ]
    },
    {
     "data": {
      "text/plain": [
       "1"
      ]
     },
     "execution_count": 85,
     "metadata": {},
     "output_type": "execute_result"
    }
   ],
   "source": [
    "next(varr)\n",
    "next(varr)\n",
    "next(varr)\n",
    "next(varr)\n",
    "next(varr)\n",
    "next(varr)\n",
    "next(varr)\n",
    "next(varr)\n",
    "next(varr)"
   ]
  },
  {
   "cell_type": "markdown",
   "id": "8dd3375f",
   "metadata": {},
   "source": [
    "## Generator expression"
   ]
  },
  {
   "cell_type": "code",
   "execution_count": 86,
   "id": "43b6f342",
   "metadata": {},
   "outputs": [],
   "source": [
    "list1 = [2, 4, 5, 10]\n"
   ]
  },
  {
   "cell_type": "code",
   "execution_count": 90,
   "id": "173cd231",
   "metadata": {},
   "outputs": [
    {
     "data": {
      "text/plain": [
       "[8, 64, 125, 1000]"
      ]
     },
     "execution_count": 90,
     "metadata": {},
     "output_type": "execute_result"
    }
   ],
   "source": [
    "[i**3 for i in list1]"
   ]
  },
  {
   "cell_type": "code",
   "execution_count": 92,
   "id": "05f5274b",
   "metadata": {},
   "outputs": [],
   "source": [
    "gen_var = (i**3 for i in list1)"
   ]
  },
  {
   "cell_type": "code",
   "execution_count": 93,
   "id": "1266a51b",
   "metadata": {},
   "outputs": [
    {
     "name": "stdout",
     "output_type": "stream",
     "text": [
      "8\n",
      "64\n",
      "125\n",
      "1000\n"
     ]
    }
   ],
   "source": [
    "print(next(gen_var))\n",
    "print(next(gen_var))\n",
    "print(next(gen_var))\n",
    "print(next(gen_var))\n"
   ]
  },
  {
   "cell_type": "code",
   "execution_count": 94,
   "id": "ad3d7711",
   "metadata": {},
   "outputs": [
    {
     "data": {
      "text/plain": [
       "8"
      ]
     },
     "execution_count": 94,
     "metadata": {},
     "output_type": "execute_result"
    }
   ],
   "source": [
    "min(i**3 for i in list1)"
   ]
  },
  {
   "cell_type": "code",
   "execution_count": 95,
   "id": "500aa2a6",
   "metadata": {},
   "outputs": [
    {
     "data": {
      "text/plain": [
       "1000"
      ]
     },
     "execution_count": 95,
     "metadata": {},
     "output_type": "execute_result"
    }
   ],
   "source": [
    "max(i**3 for i in list1)"
   ]
  },
  {
   "cell_type": "markdown",
   "id": "b27604ce",
   "metadata": {},
   "source": [
    "## Closures"
   ]
  },
  {
   "cell_type": "code",
   "execution_count": 105,
   "id": "484af683",
   "metadata": {},
   "outputs": [],
   "source": [
    "def outer_fun(arg):\n",
    "    var3 = 5\n",
    "    def inner_fun():\n",
    "        var1 = arg * 5 + var3\n",
    "        print(var1)\n",
    "    inner_fun()"
   ]
  },
  {
   "cell_type": "code",
   "execution_count": 106,
   "id": "33a190c8",
   "metadata": {},
   "outputs": [
    {
     "name": "stdout",
     "output_type": "stream",
     "text": [
      "105\n"
     ]
    }
   ],
   "source": [
    "outer_fun(20)"
   ]
  },
  {
   "cell_type": "code",
   "execution_count": 126,
   "id": "5d842648",
   "metadata": {},
   "outputs": [],
   "source": [
    "def outer_fun(arg):\n",
    "    var3 = 5\n",
    "    def inner_fun():\n",
    "        var1 = arg * 5 + var3\n",
    "        print(var1)\n",
    "    return inner_fun()"
   ]
  },
  {
   "cell_type": "code",
   "execution_count": 127,
   "id": "e5b25f04",
   "metadata": {},
   "outputs": [
    {
     "name": "stdout",
     "output_type": "stream",
     "text": [
      "105\n"
     ]
    }
   ],
   "source": [
    "outer_fun(20)"
   ]
  },
  {
   "cell_type": "code",
   "execution_count": 131,
   "id": "4abd30a4",
   "metadata": {},
   "outputs": [],
   "source": [
    "def outer_fun(arg):\n",
    "    var3 = 5\n",
    "    def inner_fun():\n",
    "        var1 = arg * 5 + var3\n",
    "        var2 = 5\n",
    "#         print(var2)\n",
    "        return var2\n",
    "    return inner_fun()"
   ]
  },
  {
   "cell_type": "code",
   "execution_count": 132,
   "id": "c96ff2f1",
   "metadata": {},
   "outputs": [],
   "source": [
    "varn = outer_fun(10)"
   ]
  },
  {
   "cell_type": "code",
   "execution_count": 133,
   "id": "9669d5a0",
   "metadata": {},
   "outputs": [
    {
     "name": "stdout",
     "output_type": "stream",
     "text": [
      "5\n"
     ]
    }
   ],
   "source": [
    "print(varn)"
   ]
  },
  {
   "cell_type": "code",
   "execution_count": 134,
   "id": "317430d4",
   "metadata": {},
   "outputs": [],
   "source": [
    "def outer_fun(arg):\n",
    "    def inner_fun():\n",
    "        var1 = arg * 5 \n",
    "        print(var1)\n",
    "    return inner_fun"
   ]
  },
  {
   "cell_type": "code",
   "execution_count": 137,
   "id": "5de4cc9a",
   "metadata": {},
   "outputs": [],
   "source": [
    "fun_ret = outer_fun(50)"
   ]
  },
  {
   "cell_type": "code",
   "execution_count": 138,
   "id": "cb3cb571",
   "metadata": {},
   "outputs": [
    {
     "name": "stdout",
     "output_type": "stream",
     "text": [
      "250\n"
     ]
    }
   ],
   "source": [
    "fun_ret()"
   ]
  },
  {
   "cell_type": "markdown",
   "id": "66b49163",
   "metadata": {},
   "source": [
    "## Decorators"
   ]
  },
  {
   "cell_type": "code",
   "execution_count": 141,
   "id": "de383486",
   "metadata": {},
   "outputs": [
    {
     "name": "stdout",
     "output_type": "stream",
     "text": [
      "Print  function 1\n"
     ]
    }
   ],
   "source": [
    "def funct1():\n",
    "    print('Print  function 1')\n",
    "funct1()"
   ]
  },
  {
   "cell_type": "code",
   "execution_count": 142,
   "id": "2d78875c",
   "metadata": {},
   "outputs": [
    {
     "name": "stdout",
     "output_type": "stream",
     "text": [
      "Print  function 1\n"
     ]
    }
   ],
   "source": [
    "funct2 = funct1\n",
    "funct2()"
   ]
  },
  {
   "cell_type": "code",
   "execution_count": 143,
   "id": "1e7643a4",
   "metadata": {},
   "outputs": [],
   "source": [
    "def square(a):\n",
    "    return a*a\n",
    "\n",
    "def cube(c):\n",
    "    return c*c*c\n",
    "\n",
    "def calculation(function, val):\n",
    "    result = function(val)\n",
    "    return result"
   ]
  },
  {
   "cell_type": "code",
   "execution_count": 144,
   "id": "6406d0d9",
   "metadata": {},
   "outputs": [
    {
     "data": {
      "text/plain": [
       "16"
      ]
     },
     "execution_count": 144,
     "metadata": {},
     "output_type": "execute_result"
    }
   ],
   "source": [
    "calculation(square, 4)"
   ]
  },
  {
   "cell_type": "code",
   "execution_count": 145,
   "id": "15fb091d",
   "metadata": {},
   "outputs": [
    {
     "data": {
      "text/plain": [
       "27"
      ]
     },
     "execution_count": 145,
     "metadata": {},
     "output_type": "execute_result"
    }
   ],
   "source": [
    "calculation(cube, 3)"
   ]
  },
  {
   "cell_type": "code",
   "execution_count": 146,
   "id": "5a239852",
   "metadata": {},
   "outputs": [],
   "source": [
    "def is_called():\n",
    "    def is_returned():\n",
    "        print('Nested function is returned')\n",
    "    return is_returned"
   ]
  },
  {
   "cell_type": "code",
   "execution_count": 148,
   "id": "003b4774",
   "metadata": {},
   "outputs": [
    {
     "name": "stdout",
     "output_type": "stream",
     "text": [
      "Nested function is returned\n"
     ]
    }
   ],
   "source": [
    "fn = is_called()\n",
    "fn()"
   ]
  },
  {
   "cell_type": "code",
   "execution_count": 149,
   "id": "d79251e7",
   "metadata": {},
   "outputs": [
    {
     "name": "stdout",
     "output_type": "stream",
     "text": [
      "This is an ordinary function\n",
      "This is decorated now\n"
     ]
    }
   ],
   "source": [
    "def decorting_fun(fn):\n",
    "    def nested_fn():\n",
    "        fn()\n",
    "        print('This is decorated now')\n",
    "    return nested_fn\n",
    "\n",
    "def ordinary_fn():\n",
    "    print('This is an ordinary function')\n",
    "    \n",
    "deco = decorting_fun(ordinary_fn)\n",
    "deco()"
   ]
  },
  {
   "cell_type": "code",
   "execution_count": null,
   "id": "54344db5",
   "metadata": {},
   "outputs": [],
   "source": [
    "@decorting_fun\n",
    "def ordinary_fn():\n",
    "    print('This is an ordinary function')"
   ]
  },
  {
   "cell_type": "markdown",
   "id": "b0f067f2",
   "metadata": {},
   "source": [
    "The above function is equivalent to below function"
   ]
  },
  {
   "cell_type": "code",
   "execution_count": null,
   "id": "8f26e4f6",
   "metadata": {},
   "outputs": [],
   "source": [
    "def ordinary_fn():\n",
    "    print('This is an ordinary function')\n",
    "    \n",
    "ordinary_fn = decorting_fun(ordinary_fn)"
   ]
  },
  {
   "cell_type": "code",
   "execution_count": 163,
   "id": "7ce5765c",
   "metadata": {},
   "outputs": [],
   "source": [
    "def decorting_fn(func):\n",
    "    def nested_fn(a, b):\n",
    "        print('Dividing', a, 'and', b)\n",
    "        if b == 0:\n",
    "            print('Can NOT divide')\n",
    "            return\n",
    "        return func(a, b)\n",
    "#     print('The decoration done')\n",
    "    return nested_fn"
   ]
  },
  {
   "cell_type": "code",
   "execution_count": 164,
   "id": "c5f747c8",
   "metadata": {},
   "outputs": [
    {
     "name": "stdout",
     "output_type": "stream",
     "text": [
      "The decoration done\n"
     ]
    }
   ],
   "source": [
    "@decorting_fn #Place the decorating function on top of the function that needs to be decorated\n",
    "def ordinary_fn(c, d):\n",
    "    return c/d"
   ]
  },
  {
   "cell_type": "code",
   "execution_count": 166,
   "id": "256b2354",
   "metadata": {},
   "outputs": [
    {
     "name": "stdout",
     "output_type": "stream",
     "text": [
      "Dividing 64 and 8\n"
     ]
    },
    {
     "data": {
      "text/plain": [
       "8.0"
      ]
     },
     "execution_count": 166,
     "metadata": {},
     "output_type": "execute_result"
    }
   ],
   "source": [
    "ordinary_fn(64, 8)"
   ]
  },
  {
   "cell_type": "code",
   "execution_count": null,
   "id": "6f4f48c2",
   "metadata": {},
   "outputs": [],
   "source": []
  },
  {
   "cell_type": "code",
   "execution_count": null,
   "id": "5ee51cf7",
   "metadata": {},
   "outputs": [],
   "source": []
  },
  {
   "cell_type": "code",
   "execution_count": null,
   "id": "23b1e222",
   "metadata": {},
   "outputs": [],
   "source": []
  },
  {
   "cell_type": "code",
   "execution_count": null,
   "id": "cfe9232b",
   "metadata": {},
   "outputs": [],
   "source": []
  }
 ],
 "metadata": {
  "kernelspec": {
   "display_name": "Python 3 (ipykernel)",
   "language": "python",
   "name": "python3"
  },
  "language_info": {
   "codemirror_mode": {
    "name": "ipython",
    "version": 3
   },
   "file_extension": ".py",
   "mimetype": "text/x-python",
   "name": "python",
   "nbconvert_exporter": "python",
   "pygments_lexer": "ipython3",
   "version": "3.9.7"
  }
 },
 "nbformat": 4,
 "nbformat_minor": 5
}
