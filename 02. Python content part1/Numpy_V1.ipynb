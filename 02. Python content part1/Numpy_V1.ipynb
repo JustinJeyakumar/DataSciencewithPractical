{
 "cells": [
  {
   "cell_type": "markdown",
   "id": "d716c4a8",
   "metadata": {},
   "source": [
    "### Numpy"
   ]
  },
  {
   "cell_type": "code",
   "execution_count": 1,
   "id": "8cab8ba6",
   "metadata": {},
   "outputs": [],
   "source": [
    "import numpy as np"
   ]
  },
  {
   "cell_type": "code",
   "execution_count": 2,
   "id": "d36640c5",
   "metadata": {},
   "outputs": [],
   "source": [
    "array1 = np.array([1, 2, 3, 4, 5])"
   ]
  },
  {
   "cell_type": "code",
   "execution_count": 3,
   "id": "39700109",
   "metadata": {},
   "outputs": [
    {
     "data": {
      "text/plain": [
       "array([1, 2, 3, 4, 5])"
      ]
     },
     "execution_count": 3,
     "metadata": {},
     "output_type": "execute_result"
    }
   ],
   "source": [
    "array1"
   ]
  },
  {
   "cell_type": "code",
   "execution_count": 4,
   "id": "0e8403b2",
   "metadata": {},
   "outputs": [
    {
     "data": {
      "text/plain": [
       "numpy.ndarray"
      ]
     },
     "execution_count": 4,
     "metadata": {},
     "output_type": "execute_result"
    }
   ],
   "source": [
    "type(array1)"
   ]
  },
  {
   "cell_type": "code",
   "execution_count": 5,
   "id": "b36fa9c5",
   "metadata": {},
   "outputs": [
    {
     "data": {
      "text/plain": [
       "(5,)"
      ]
     },
     "execution_count": 5,
     "metadata": {},
     "output_type": "execute_result"
    }
   ],
   "source": [
    "array1.shape"
   ]
  },
  {
   "cell_type": "code",
   "execution_count": 6,
   "id": "689ad57b",
   "metadata": {},
   "outputs": [
    {
     "data": {
      "text/plain": [
       "1"
      ]
     },
     "execution_count": 6,
     "metadata": {},
     "output_type": "execute_result"
    }
   ],
   "source": [
    "array1.ndim"
   ]
  },
  {
   "cell_type": "code",
   "execution_count": 7,
   "id": "8f194fad",
   "metadata": {},
   "outputs": [],
   "source": [
    "array2 = np.array([[1, 2, 3, 4, 5], [11, 22, 33, 44, 55]])"
   ]
  },
  {
   "cell_type": "code",
   "execution_count": 8,
   "id": "4bcc5e16",
   "metadata": {},
   "outputs": [
    {
     "data": {
      "text/plain": [
       "(2, 5)"
      ]
     },
     "execution_count": 8,
     "metadata": {},
     "output_type": "execute_result"
    }
   ],
   "source": [
    "array2.shape"
   ]
  },
  {
   "cell_type": "code",
   "execution_count": 10,
   "id": "4e69450a",
   "metadata": {},
   "outputs": [
    {
     "data": {
      "text/plain": [
       "2"
      ]
     },
     "execution_count": 10,
     "metadata": {},
     "output_type": "execute_result"
    }
   ],
   "source": [
    "array2.ndim"
   ]
  },
  {
   "cell_type": "code",
   "execution_count": 12,
   "id": "f4a6c2bc",
   "metadata": {},
   "outputs": [
    {
     "name": "stdout",
     "output_type": "stream",
     "text": [
      "<class 'numpy.ndarray'>\n",
      "(2, 5)\n",
      "2\n"
     ]
    }
   ],
   "source": [
    "array1 = np.array([[1,2,3,4,5],[1,2,3,4,5]])\n",
    "array1\n",
    "print(type(array1))\n",
    "print(array1.shape)\n",
    "print(array1.ndim)\n"
   ]
  },
  {
   "cell_type": "code",
   "execution_count": 24,
   "id": "db0a0174",
   "metadata": {},
   "outputs": [],
   "source": [
    "array2 = np.array([[1,2,3],[11,22,np.nan]], dtype = float)\n"
   ]
  },
  {
   "cell_type": "code",
   "execution_count": 25,
   "id": "b4f8727c",
   "metadata": {},
   "outputs": [
    {
     "data": {
      "text/plain": [
       "array([[ 1.,  2.,  3.],\n",
       "       [11., 22., nan]])"
      ]
     },
     "execution_count": 25,
     "metadata": {},
     "output_type": "execute_result"
    }
   ],
   "source": [
    "array2"
   ]
  },
  {
   "cell_type": "code",
   "execution_count": 18,
   "id": "e926592b",
   "metadata": {},
   "outputs": [
    {
     "data": {
      "text/plain": [
       "(2, 3)"
      ]
     },
     "execution_count": 18,
     "metadata": {},
     "output_type": "execute_result"
    }
   ],
   "source": [
    "array2.shape"
   ]
  },
  {
   "cell_type": "code",
   "execution_count": 21,
   "id": "8dcbacc0",
   "metadata": {},
   "outputs": [],
   "source": [
    "array_reshape = array2.reshape(3,2)"
   ]
  },
  {
   "cell_type": "code",
   "execution_count": 22,
   "id": "3e1bb63f",
   "metadata": {},
   "outputs": [
    {
     "data": {
      "text/plain": [
       "array([[ 1.,  2.],\n",
       "       [ 3., 11.],\n",
       "       [22., 33.]])"
      ]
     },
     "execution_count": 22,
     "metadata": {},
     "output_type": "execute_result"
    }
   ],
   "source": [
    "array_reshape"
   ]
  },
  {
   "cell_type": "code",
   "execution_count": 23,
   "id": "9844b412",
   "metadata": {},
   "outputs": [
    {
     "data": {
      "text/plain": [
       "(3, 2)"
      ]
     },
     "execution_count": 23,
     "metadata": {},
     "output_type": "execute_result"
    }
   ],
   "source": [
    "array_reshape.shape"
   ]
  },
  {
   "cell_type": "code",
   "execution_count": 27,
   "id": "9f2274dd",
   "metadata": {},
   "outputs": [],
   "source": [
    "array2 = np.array([[[[1,2,3,4,5],[4,5,6,7,8],[1.2,3.4,5.6,7.8,9.1],[4,4,4,4,5]]]])\n"
   ]
  },
  {
   "cell_type": "code",
   "execution_count": 33,
   "id": "bb41911a",
   "metadata": {},
   "outputs": [],
   "source": [
    "array2 = np.array([[1,2,3,4,5],[4,5,6,7,8],[1.2,3.4,5.6,7.8,9.1],[4,4,4,4,5]])"
   ]
  },
  {
   "cell_type": "code",
   "execution_count": 34,
   "id": "8705fcc8",
   "metadata": {},
   "outputs": [
    {
     "data": {
      "text/plain": [
       "(4, 5)"
      ]
     },
     "execution_count": 34,
     "metadata": {},
     "output_type": "execute_result"
    }
   ],
   "source": [
    "array2.shape"
   ]
  },
  {
   "cell_type": "code",
   "execution_count": 32,
   "id": "a9f33c82",
   "metadata": {},
   "outputs": [
    {
     "data": {
      "text/plain": [
       "array([[[[1. , 2. , 3. , 4. , 5. ],\n",
       "         [4. , 5. , 6. , 7. , 8. ],\n",
       "         [1.2, 3.4, 5.6, 7.8, 9.1],\n",
       "         [4. , 4. , 4. , 4. , 5. ]]]])"
      ]
     },
     "execution_count": 32,
     "metadata": {},
     "output_type": "execute_result"
    }
   ],
   "source": [
    "array2"
   ]
  },
  {
   "cell_type": "code",
   "execution_count": 31,
   "id": "35306152",
   "metadata": {},
   "outputs": [],
   "source": [
    "np.shape?"
   ]
  },
  {
   "cell_type": "code",
   "execution_count": 28,
   "id": "bea81689",
   "metadata": {},
   "outputs": [
    {
     "data": {
      "text/plain": [
       "(1, 1, 4, 5)"
      ]
     },
     "execution_count": 28,
     "metadata": {},
     "output_type": "execute_result"
    }
   ],
   "source": [
    "array2.shape"
   ]
  },
  {
   "cell_type": "code",
   "execution_count": 29,
   "id": "85a0d861",
   "metadata": {},
   "outputs": [
    {
     "data": {
      "text/plain": [
       "4"
      ]
     },
     "execution_count": 29,
     "metadata": {},
     "output_type": "execute_result"
    }
   ],
   "source": [
    "array2.ndim"
   ]
  },
  {
   "cell_type": "code",
   "execution_count": 30,
   "id": "d27d33f4",
   "metadata": {},
   "outputs": [],
   "source": [
    "array2.shape?"
   ]
  },
  {
   "cell_type": "code",
   "execution_count": 35,
   "id": "b6824b1f",
   "metadata": {},
   "outputs": [
    {
     "ename": "TypeError",
     "evalue": "Field elements must be 2- or 3-tuples, got '4'",
     "output_type": "error",
     "traceback": [
      "\u001b[1;31m---------------------------------------------------------------------------\u001b[0m",
      "\u001b[1;31mTypeError\u001b[0m                                 Traceback (most recent call last)",
      "\u001b[1;32m~\\AppData\\Local\\Temp/ipykernel_17708/3146669886.py\u001b[0m in \u001b[0;36m<module>\u001b[1;34m\u001b[0m\n\u001b[1;32m----> 1\u001b[1;33m \u001b[0marray6\u001b[0m \u001b[1;33m=\u001b[0m \u001b[0mnp\u001b[0m\u001b[1;33m.\u001b[0m\u001b[0marray\u001b[0m\u001b[1;33m(\u001b[0m\u001b[1;33m[\u001b[0m\u001b[1;36m1\u001b[0m\u001b[1;33m,\u001b[0m\u001b[1;36m2\u001b[0m\u001b[1;33m,\u001b[0m\u001b[1;36m3.3\u001b[0m\u001b[1;33m]\u001b[0m\u001b[1;33m,\u001b[0m\u001b[1;33m[\u001b[0m\u001b[1;36m4\u001b[0m\u001b[1;33m,\u001b[0m\u001b[1;36m5\u001b[0m\u001b[1;33m,\u001b[0m\u001b[1;36m6\u001b[0m\u001b[1;33m]\u001b[0m\u001b[1;33m)\u001b[0m\u001b[1;33m\u001b[0m\u001b[1;33m\u001b[0m\u001b[0m\n\u001b[0m",
      "\u001b[1;31mTypeError\u001b[0m: Field elements must be 2- or 3-tuples, got '4'"
     ]
    }
   ],
   "source": [
    "array6 = np.array([[1,2,3.3],[4,5,6]])\n"
   ]
  },
  {
   "cell_type": "code",
   "execution_count": 45,
   "id": "673797cc",
   "metadata": {},
   "outputs": [],
   "source": [
    "array2 = np.array([[1,2,3,4,5],[4,5,6,7,8],[1.2,3.4,5.6,7.8,9.1],[4,4,4,4,5]], dtype = int)\n"
   ]
  },
  {
   "cell_type": "code",
   "execution_count": null,
   "id": "74eda55b",
   "metadata": {},
   "outputs": [],
   "source": []
  },
  {
   "cell_type": "code",
   "execution_count": 36,
   "id": "62c86a31",
   "metadata": {},
   "outputs": [],
   "source": [
    "array_Zero = np.zeros(8)"
   ]
  },
  {
   "cell_type": "code",
   "execution_count": 37,
   "id": "f9614592",
   "metadata": {},
   "outputs": [
    {
     "data": {
      "text/plain": [
       "array([0., 0., 0., 0., 0., 0., 0., 0.])"
      ]
     },
     "execution_count": 37,
     "metadata": {},
     "output_type": "execute_result"
    }
   ],
   "source": [
    "array_Zero"
   ]
  },
  {
   "cell_type": "code",
   "execution_count": 40,
   "id": "9d758228",
   "metadata": {},
   "outputs": [],
   "source": [
    "array_ones = np.ones([3, 3], dtype=int)"
   ]
  },
  {
   "cell_type": "code",
   "execution_count": 41,
   "id": "e8e05ec1",
   "metadata": {},
   "outputs": [
    {
     "data": {
      "text/plain": [
       "array([[1, 1, 1],\n",
       "       [1, 1, 1],\n",
       "       [1, 1, 1]])"
      ]
     },
     "execution_count": 41,
     "metadata": {},
     "output_type": "execute_result"
    }
   ],
   "source": [
    "array_ones"
   ]
  },
  {
   "cell_type": "markdown",
   "id": "dc0eca5b",
   "metadata": {},
   "source": [
    "### Creating an array with existing data"
   ]
  },
  {
   "cell_type": "code",
   "execution_count": 42,
   "id": "2263f1cf",
   "metadata": {},
   "outputs": [],
   "source": [
    "x1 = ([3, 5], [5, 4], [6, 7])\n",
    "a1 = np.asarray(x1, dtype=float)"
   ]
  },
  {
   "cell_type": "code",
   "execution_count": 46,
   "id": "e211206a",
   "metadata": {},
   "outputs": [
    {
     "data": {
      "text/plain": [
       "array([[3, 5],\n",
       "       [5, 4],\n",
       "       [6, 7]])"
      ]
     },
     "execution_count": 46,
     "metadata": {},
     "output_type": "execute_result"
    }
   ],
   "source": [
    "np.array(x1)"
   ]
  },
  {
   "cell_type": "code",
   "execution_count": 44,
   "id": "4e73e8b3",
   "metadata": {},
   "outputs": [
    {
     "data": {
      "text/plain": [
       "tuple"
      ]
     },
     "execution_count": 44,
     "metadata": {},
     "output_type": "execute_result"
    }
   ],
   "source": [
    "type(x1)"
   ]
  },
  {
   "cell_type": "code",
   "execution_count": 43,
   "id": "69a5a3c5",
   "metadata": {
    "scrolled": true
   },
   "outputs": [
    {
     "data": {
      "text/plain": [
       "array([[3., 5.],\n",
       "       [5., 4.],\n",
       "       [6., 7.]])"
      ]
     },
     "execution_count": 43,
     "metadata": {},
     "output_type": "execute_result"
    }
   ],
   "source": [
    "a1"
   ]
  },
  {
   "cell_type": "markdown",
   "id": "4e1ac6ef",
   "metadata": {},
   "source": [
    "### Array from numerical ranges\n"
   ]
  },
  {
   "cell_type": "code",
   "execution_count": 47,
   "id": "7ec3bb62",
   "metadata": {},
   "outputs": [],
   "source": [
    "a1 = np.arange(0, 20, 3)"
   ]
  },
  {
   "cell_type": "code",
   "execution_count": 48,
   "id": "d5863bda",
   "metadata": {},
   "outputs": [
    {
     "data": {
      "text/plain": [
       "array([ 0,  3,  6,  9, 12, 15, 18])"
      ]
     },
     "execution_count": 48,
     "metadata": {},
     "output_type": "execute_result"
    }
   ],
   "source": [
    "a1"
   ]
  },
  {
   "cell_type": "code",
   "execution_count": 53,
   "id": "fef6898a",
   "metadata": {},
   "outputs": [],
   "source": [
    "a1 = np.linspace(10, 20, 3)"
   ]
  },
  {
   "cell_type": "code",
   "execution_count": 54,
   "id": "f9e916e6",
   "metadata": {},
   "outputs": [
    {
     "data": {
      "text/plain": [
       "array([10., 15., 20.])"
      ]
     },
     "execution_count": 54,
     "metadata": {},
     "output_type": "execute_result"
    }
   ],
   "source": [
    "a1"
   ]
  },
  {
   "cell_type": "markdown",
   "id": "f0f6b0a2",
   "metadata": {},
   "source": [
    "## Slicing"
   ]
  },
  {
   "cell_type": "code",
   "execution_count": 60,
   "id": "43992345",
   "metadata": {},
   "outputs": [
    {
     "data": {
      "text/plain": [
       "array([2, 5, 8])"
      ]
     },
     "execution_count": 60,
     "metadata": {},
     "output_type": "execute_result"
    }
   ],
   "source": [
    "list1 = np.arange(10)\n",
    "array1 = slice(2, 9, 3)\n",
    "list1[array1]"
   ]
  },
  {
   "cell_type": "code",
   "execution_count": 58,
   "id": "d1ff359d",
   "metadata": {},
   "outputs": [
    {
     "data": {
      "text/plain": [
       "array([2, 3, 4, 5, 6, 7, 8])"
      ]
     },
     "execution_count": 58,
     "metadata": {},
     "output_type": "execute_result"
    }
   ],
   "source": [
    "list1 = np.arange(10)\n",
    "array1 = slice(2, 9)\n",
    "list1[array1]"
   ]
  },
  {
   "cell_type": "code",
   "execution_count": 57,
   "id": "26afa0c4",
   "metadata": {},
   "outputs": [
    {
     "data": {
      "text/plain": [
       "array([0, 1, 2, 3, 4, 5, 6, 7, 8, 9])"
      ]
     },
     "execution_count": 57,
     "metadata": {},
     "output_type": "execute_result"
    }
   ],
   "source": [
    "list1"
   ]
  },
  {
   "cell_type": "code",
   "execution_count": 61,
   "id": "6b9b254b",
   "metadata": {},
   "outputs": [
    {
     "data": {
      "text/plain": [
       "array([2, 3, 4, 5, 6, 7, 8])"
      ]
     },
     "execution_count": 61,
     "metadata": {},
     "output_type": "execute_result"
    }
   ],
   "source": [
    "list1 = np.arange(10)\n",
    "array1 = list1[2: 9]\n",
    "list1[array1]"
   ]
  },
  {
   "cell_type": "code",
   "execution_count": 62,
   "id": "9aee95cf",
   "metadata": {},
   "outputs": [
    {
     "data": {
      "text/plain": [
       "array([2, 4, 6, 8])"
      ]
     },
     "execution_count": 62,
     "metadata": {},
     "output_type": "execute_result"
    }
   ],
   "source": [
    "list1 = np.arange(10)\n",
    "array1 = list1[2: 9: 2]\n",
    "list1[array1]"
   ]
  },
  {
   "cell_type": "code",
   "execution_count": 63,
   "id": "be7db1a4",
   "metadata": {},
   "outputs": [
    {
     "data": {
      "text/plain": [
       "10"
      ]
     },
     "execution_count": 63,
     "metadata": {},
     "output_type": "execute_result"
    }
   ],
   "source": [
    "len(list1)"
   ]
  },
  {
   "cell_type": "code",
   "execution_count": 65,
   "id": "1d1ab11f",
   "metadata": {},
   "outputs": [
    {
     "data": {
      "text/plain": [
       "array([2, 4, 6, 8])"
      ]
     },
     "execution_count": 65,
     "metadata": {},
     "output_type": "execute_result"
    }
   ],
   "source": [
    "array1"
   ]
  },
  {
   "cell_type": "code",
   "execution_count": 64,
   "id": "669b484a",
   "metadata": {},
   "outputs": [
    {
     "data": {
      "text/plain": [
       "(4,)"
      ]
     },
     "execution_count": 64,
     "metadata": {},
     "output_type": "execute_result"
    }
   ],
   "source": [
    "array1.shape"
   ]
  },
  {
   "cell_type": "code",
   "execution_count": 67,
   "id": "da4f6c6c",
   "metadata": {},
   "outputs": [
    {
     "data": {
      "text/plain": [
       "1"
      ]
     },
     "execution_count": 67,
     "metadata": {},
     "output_type": "execute_result"
    }
   ],
   "source": [
    "array1.ndim"
   ]
  },
  {
   "cell_type": "code",
   "execution_count": 72,
   "id": "72d81302",
   "metadata": {},
   "outputs": [
    {
     "name": "stdout",
     "output_type": "stream",
     "text": [
      "2\n",
      "3\n"
     ]
    }
   ],
   "source": [
    "array7 = np.array([[[1,2,3,4,5],[4,5,6,7,8]],[[1,3,5,7,9],[4,4,4,4,5]]])\n",
    "print(len(array7))\n",
    "print(array7.ndim)"
   ]
  },
  {
   "cell_type": "code",
   "execution_count": 71,
   "id": "3b543198",
   "metadata": {},
   "outputs": [
    {
     "data": {
      "text/plain": [
       "array([[[1, 2, 3, 4, 5],\n",
       "        [4, 5, 6, 7, 8]],\n",
       "\n",
       "       [[1, 3, 5, 7, 9],\n",
       "        [4, 4, 4, 4, 5]]])"
      ]
     },
     "execution_count": 71,
     "metadata": {},
     "output_type": "execute_result"
    }
   ],
   "source": [
    "array7"
   ]
  },
  {
   "cell_type": "code",
   "execution_count": 82,
   "id": "59749949",
   "metadata": {},
   "outputs": [],
   "source": [
    "array7= np.array([[[1,3,4,5],[3,4,5,6]],[[5,4,5,6],[3,4,5,6]]])\n"
   ]
  },
  {
   "cell_type": "code",
   "execution_count": 83,
   "id": "defed529",
   "metadata": {},
   "outputs": [
    {
     "data": {
      "text/plain": [
       "(2, 2, 4)"
      ]
     },
     "execution_count": 83,
     "metadata": {},
     "output_type": "execute_result"
    }
   ],
   "source": [
    "array7.shape"
   ]
  },
  {
   "cell_type": "code",
   "execution_count": 84,
   "id": "dcac0ab6",
   "metadata": {},
   "outputs": [
    {
     "data": {
      "text/plain": [
       "3"
      ]
     },
     "execution_count": 84,
     "metadata": {},
     "output_type": "execute_result"
    }
   ],
   "source": [
    "array7.ndim"
   ]
  },
  {
   "cell_type": "code",
   "execution_count": 85,
   "id": "003fc6e0",
   "metadata": {},
   "outputs": [],
   "source": [
    "array7= np.array([[[1,3,4,5],[3,4,5,6],[3,4,5,6]],[[5,4,5,6],[3,4,5,6],[3,4,5,6]],[[5,4,5,6],[3,4,5,6],[3,4,5,6]],[[5,4,5,6],[3,4,5,6],[3,4,5,6]]])\n"
   ]
  },
  {
   "cell_type": "code",
   "execution_count": 86,
   "id": "e5aadb76",
   "metadata": {},
   "outputs": [
    {
     "name": "stdout",
     "output_type": "stream",
     "text": [
      "(4, 3, 4)\n",
      "3\n"
     ]
    }
   ],
   "source": [
    "print(array7.shape)\n",
    "print(array7.ndim)"
   ]
  },
  {
   "cell_type": "code",
   "execution_count": 87,
   "id": "f69c0389",
   "metadata": {},
   "outputs": [
    {
     "name": "stdout",
     "output_type": "stream",
     "text": [
      "[[[1 3 4 5]\n",
      "  [3 4 5 6]\n",
      "  [3 4 5 6]]\n",
      "\n",
      " [[5 4 5 6]\n",
      "  [3 4 5 6]\n",
      "  [3 4 5 6]]\n",
      "\n",
      " [[5 4 5 6]\n",
      "  [3 4 5 6]\n",
      "  [3 4 5 6]]\n",
      "\n",
      " [[5 4 5 6]\n",
      "  [3 4 5 6]\n",
      "  [3 4 5 6]]]\n"
     ]
    }
   ],
   "source": [
    "print(array7)"
   ]
  },
  {
   "cell_type": "markdown",
   "id": "9c676d8a",
   "metadata": {},
   "source": [
    "### Integer indexing"
   ]
  },
  {
   "cell_type": "code",
   "execution_count": 88,
   "id": "2aa923fd",
   "metadata": {},
   "outputs": [],
   "source": [
    "a = np.array([[1, 2], [3, 4], [5, 6]])\n",
    "b = a[[0, 1, 2], [0, 1, 0]]"
   ]
  },
  {
   "cell_type": "code",
   "execution_count": 90,
   "id": "8b53c22d",
   "metadata": {},
   "outputs": [
    {
     "data": {
      "text/plain": [
       "array([[1, 2],\n",
       "       [3, 4],\n",
       "       [5, 6]])"
      ]
     },
     "execution_count": 90,
     "metadata": {},
     "output_type": "execute_result"
    }
   ],
   "source": [
    "a"
   ]
  },
  {
   "cell_type": "code",
   "execution_count": 89,
   "id": "547c0da2",
   "metadata": {},
   "outputs": [
    {
     "name": "stdout",
     "output_type": "stream",
     "text": [
      "[1 4 5]\n"
     ]
    }
   ],
   "source": [
    "print(b)"
   ]
  },
  {
   "cell_type": "code",
   "execution_count": 91,
   "id": "d5bc331d",
   "metadata": {},
   "outputs": [],
   "source": [
    "b = a[[0], [0]]"
   ]
  },
  {
   "cell_type": "code",
   "execution_count": 92,
   "id": "7e33ae90",
   "metadata": {},
   "outputs": [
    {
     "data": {
      "text/plain": [
       "array([1])"
      ]
     },
     "execution_count": 92,
     "metadata": {},
     "output_type": "execute_result"
    }
   ],
   "source": [
    "b"
   ]
  },
  {
   "cell_type": "code",
   "execution_count": 140,
   "id": "749e87c6",
   "metadata": {},
   "outputs": [
    {
     "data": {
      "text/plain": [
       "array([[ 5.,  6.],\n",
       "       [ 8.,  9.],\n",
       "       [nan, 12.]])"
      ]
     },
     "execution_count": 140,
     "metadata": {},
     "output_type": "execute_result"
    }
   ],
   "source": [
    "a1 = np.array([[1,2,3, 5, np.nan, 9],[4, 5,6, 1,2,3],[7,8, 9, 5,6, 1],[10,np.nan,12, 9, 5,6]])\n",
    "z = a1[1:4, 1:3]\n",
    "z\n"
   ]
  },
  {
   "cell_type": "code",
   "execution_count": 95,
   "id": "f949ae01",
   "metadata": {},
   "outputs": [
    {
     "data": {
      "text/plain": [
       "array([[ 1,  2,  3,  4],\n",
       "       [ 5,  6,  7,  8],\n",
       "       [ 9, 10, 11, 12]])"
      ]
     },
     "execution_count": 95,
     "metadata": {},
     "output_type": "execute_result"
    }
   ],
   "source": [
    "a1"
   ]
  },
  {
   "cell_type": "code",
   "execution_count": 94,
   "id": "fd58e193",
   "metadata": {},
   "outputs": [
    {
     "data": {
      "text/plain": [
       "array([[ 6,  7,  8],\n",
       "       [10, 11, 12]])"
      ]
     },
     "execution_count": 94,
     "metadata": {},
     "output_type": "execute_result"
    }
   ],
   "source": [
    "z = a1[1:, 1:]\n",
    "z"
   ]
  },
  {
   "cell_type": "code",
   "execution_count": 101,
   "id": "8cf949fe",
   "metadata": {},
   "outputs": [
    {
     "data": {
      "text/plain": [
       "array([[ 1,  2,  3,  5,  8,  9],\n",
       "       [ 4,  5,  6,  1,  2,  3],\n",
       "       [ 7,  8,  9,  5,  6,  1],\n",
       "       [10, 11, 12,  9,  5,  6]])"
      ]
     },
     "execution_count": 101,
     "metadata": {},
     "output_type": "execute_result"
    }
   ],
   "source": [
    "a1"
   ]
  },
  {
   "cell_type": "code",
   "execution_count": 104,
   "id": "3686ae06",
   "metadata": {},
   "outputs": [
    {
     "data": {
      "text/plain": [
       "(4, 6)"
      ]
     },
     "execution_count": 104,
     "metadata": {},
     "output_type": "execute_result"
    }
   ],
   "source": [
    "a1.shape"
   ]
  },
  {
   "cell_type": "code",
   "execution_count": 103,
   "id": "5de6c489",
   "metadata": {},
   "outputs": [
    {
     "data": {
      "text/plain": [
       "array([[ 1,  2,  3],\n",
       "       [ 4,  5,  6],\n",
       "       [ 7,  8,  9],\n",
       "       [10, 11, 12]])"
      ]
     },
     "execution_count": 103,
     "metadata": {},
     "output_type": "execute_result"
    }
   ],
   "source": [
    "z = a1[:4, :3]\n",
    "z"
   ]
  },
  {
   "cell_type": "code",
   "execution_count": 108,
   "id": "4bd7f70b",
   "metadata": {},
   "outputs": [
    {
     "data": {
      "text/plain": [
       "array([[ 1,  2,  3,  5,  8,  9],\n",
       "       [ 4,  5,  6,  1,  2,  3],\n",
       "       [ 7,  8,  9,  5,  6,  1],\n",
       "       [10, 11, 12,  9,  5,  6]])"
      ]
     },
     "execution_count": 108,
     "metadata": {},
     "output_type": "execute_result"
    }
   ],
   "source": [
    "a1"
   ]
  },
  {
   "cell_type": "code",
   "execution_count": 110,
   "id": "00ef342c",
   "metadata": {},
   "outputs": [
    {
     "data": {
      "text/plain": [
       "array([[ 5,  6,  1],\n",
       "       [ 8,  9,  5],\n",
       "       [11, 12,  9]])"
      ]
     },
     "execution_count": 110,
     "metadata": {},
     "output_type": "execute_result"
    }
   ],
   "source": [
    "y = a1[1:4, [1, 2, 3]]\n",
    "y"
   ]
  },
  {
   "cell_type": "code",
   "execution_count": 112,
   "id": "4a96df23",
   "metadata": {},
   "outputs": [
    {
     "data": {
      "text/plain": [
       "array([5, 9, 9])"
      ]
     },
     "execution_count": 112,
     "metadata": {},
     "output_type": "execute_result"
    }
   ],
   "source": [
    "a1[[1, 2, 3], [1, 2, 3]]"
   ]
  },
  {
   "cell_type": "code",
   "execution_count": 114,
   "id": "011f1feb",
   "metadata": {},
   "outputs": [
    {
     "data": {
      "text/plain": [
       "array([[5, 6, 1],\n",
       "       [8, 9, 5]])"
      ]
     },
     "execution_count": 114,
     "metadata": {},
     "output_type": "execute_result"
    }
   ],
   "source": [
    "a1[1:3, 1:4]"
   ]
  },
  {
   "cell_type": "code",
   "execution_count": 122,
   "id": "4494fa09",
   "metadata": {},
   "outputs": [
    {
     "data": {
      "text/plain": [
       "array([[ 1,  2,  3,  5,  8,  9],\n",
       "       [ 4,  5,  6,  1,  2,  3],\n",
       "       [ 7,  8,  9,  5,  6,  1],\n",
       "       [10, 11, 12,  9,  5,  6]])"
      ]
     },
     "execution_count": 122,
     "metadata": {},
     "output_type": "execute_result"
    }
   ],
   "source": [
    "a1"
   ]
  },
  {
   "cell_type": "code",
   "execution_count": 125,
   "id": "4aae68b9",
   "metadata": {},
   "outputs": [
    {
     "data": {
      "text/plain": [
       "array([1, 2, 3, 1, 2, 3, 1])"
      ]
     },
     "execution_count": 125,
     "metadata": {},
     "output_type": "execute_result"
    }
   ],
   "source": [
    "a1[a1<4]"
   ]
  },
  {
   "cell_type": "code",
   "execution_count": 120,
   "id": "880f27be",
   "metadata": {},
   "outputs": [],
   "source": [
    "arr1 = np.array([[ 8,  9,  6,  7,  8,  9,  6, 10, 11, 12,  9,  6], [ 8,  9,  6,  7,  8,  9,  6, 10, 11, 12,  9,  6]])"
   ]
  },
  {
   "cell_type": "code",
   "execution_count": 121,
   "id": "e959384f",
   "metadata": {},
   "outputs": [
    {
     "data": {
      "text/plain": [
       "(2, 12)"
      ]
     },
     "execution_count": 121,
     "metadata": {},
     "output_type": "execute_result"
    }
   ],
   "source": [
    "arr1.shape"
   ]
  },
  {
   "cell_type": "code",
   "execution_count": 139,
   "id": "5130cad0",
   "metadata": {},
   "outputs": [
    {
     "data": {
      "text/plain": [
       "array([ 1.,  5.,  8., nan, 52., 65., nan])"
      ]
     },
     "execution_count": 139,
     "metadata": {},
     "output_type": "execute_result"
    }
   ],
   "source": [
    "a = np.array([1, 5,  8, np.nan, 52, 65, np.nan])\n",
    "a"
   ]
  },
  {
   "cell_type": "code",
   "execution_count": 138,
   "id": "6fd5986c",
   "metadata": {},
   "outputs": [
    {
     "data": {
      "text/plain": [
       "array([nan, nan])"
      ]
     },
     "execution_count": 138,
     "metadata": {},
     "output_type": "execute_result"
    }
   ],
   "source": [
    "a[np.isnan(a)]"
   ]
  },
  {
   "cell_type": "code",
   "execution_count": 135,
   "id": "203d8c98",
   "metadata": {},
   "outputs": [
    {
     "data": {
      "text/plain": [
       "array([ 1.,  5.,  8., 52., 65.])"
      ]
     },
     "execution_count": 135,
     "metadata": {},
     "output_type": "execute_result"
    }
   ],
   "source": [
    "a[~np.isnan(a)]"
   ]
  },
  {
   "cell_type": "code",
   "execution_count": 142,
   "id": "55747f0c",
   "metadata": {},
   "outputs": [
    {
     "data": {
      "text/plain": [
       "array([nan, nan])"
      ]
     },
     "execution_count": 142,
     "metadata": {},
     "output_type": "execute_result"
    }
   ],
   "source": [
    "a1[np.isnan(a1)]"
   ]
  },
  {
   "cell_type": "code",
   "execution_count": 131,
   "id": "c8d297ce",
   "metadata": {},
   "outputs": [],
   "source": [
    "a= np.array([[1,2,'dd'],[5,6,7],[1,2,3],[5,6,7]])\n",
    "b= a[1:4,1:3]\n"
   ]
  },
  {
   "cell_type": "code",
   "execution_count": 143,
   "id": "bb66778a",
   "metadata": {},
   "outputs": [
    {
     "data": {
      "text/plain": [
       "array([['6', '7'],\n",
       "       ['2', '3'],\n",
       "       ['6', '7']], dtype='<U11')"
      ]
     },
     "execution_count": 143,
     "metadata": {},
     "output_type": "execute_result"
    }
   ],
   "source": [
    "b"
   ]
  },
  {
   "cell_type": "code",
   "execution_count": 144,
   "id": "ce8732eb",
   "metadata": {},
   "outputs": [
    {
     "data": {
      "text/plain": [
       "dtype('<U11')"
      ]
     },
     "execution_count": 144,
     "metadata": {},
     "output_type": "execute_result"
    }
   ],
   "source": [
    "b.dtype"
   ]
  },
  {
   "cell_type": "code",
   "execution_count": 133,
   "id": "0ed77139",
   "metadata": {},
   "outputs": [
    {
     "data": {
      "text/plain": [
       "array([['1', '2', 'dd'],\n",
       "       ['5', '6', '7'],\n",
       "       ['1', '2', '3'],\n",
       "       ['5', '6', '7']], dtype='<U11')"
      ]
     },
     "execution_count": 133,
     "metadata": {},
     "output_type": "execute_result"
    }
   ],
   "source": [
    "a"
   ]
  },
  {
   "cell_type": "code",
   "execution_count": 145,
   "id": "d6e12411",
   "metadata": {},
   "outputs": [],
   "source": [
    "a= np.array([[1,2,1],[5,6,7],[1,2,3],[5,6,7]])\n",
    "b= np.array([[1,2,1],[5,6,7],[1,2,3],[5,6,7]])\n"
   ]
  },
  {
   "cell_type": "code",
   "execution_count": 146,
   "id": "850b0379",
   "metadata": {},
   "outputs": [
    {
     "data": {
      "text/plain": [
       "array([[1, 2, 1],\n",
       "       [5, 6, 7],\n",
       "       [1, 2, 3],\n",
       "       [5, 6, 7]])"
      ]
     },
     "execution_count": 146,
     "metadata": {},
     "output_type": "execute_result"
    }
   ],
   "source": [
    "a"
   ]
  },
  {
   "cell_type": "code",
   "execution_count": 147,
   "id": "c76eab38",
   "metadata": {},
   "outputs": [
    {
     "data": {
      "text/plain": [
       "array([[1, 2, 1],\n",
       "       [5, 6, 7],\n",
       "       [1, 2, 3],\n",
       "       [5, 6, 7]])"
      ]
     },
     "execution_count": 147,
     "metadata": {},
     "output_type": "execute_result"
    }
   ],
   "source": [
    "b"
   ]
  },
  {
   "cell_type": "code",
   "execution_count": 148,
   "id": "41590913",
   "metadata": {},
   "outputs": [
    {
     "data": {
      "text/plain": [
       "array([[ 2,  4,  2],\n",
       "       [10, 12, 14],\n",
       "       [ 2,  4,  6],\n",
       "       [10, 12, 14]])"
      ]
     },
     "execution_count": 148,
     "metadata": {},
     "output_type": "execute_result"
    }
   ],
   "source": [
    "a+b"
   ]
  },
  {
   "cell_type": "code",
   "execution_count": null,
   "id": "da81a29b",
   "metadata": {},
   "outputs": [],
   "source": []
  }
 ],
 "metadata": {
  "kernelspec": {
   "display_name": "Python 3 (ipykernel)",
   "language": "python",
   "name": "python3"
  },
  "language_info": {
   "codemirror_mode": {
    "name": "ipython",
    "version": 3
   },
   "file_extension": ".py",
   "mimetype": "text/x-python",
   "name": "python",
   "nbconvert_exporter": "python",
   "pygments_lexer": "ipython3",
   "version": "3.9.7"
  }
 },
 "nbformat": 4,
 "nbformat_minor": 5
}
