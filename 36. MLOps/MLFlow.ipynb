{
 "cells": [
  {
   "cell_type": "code",
   "execution_count": 1,
   "id": "b6a83b42",
   "metadata": {},
   "outputs": [
    {
     "name": "stdout",
     "output_type": "stream",
     "text": [
      "Requirement already satisfied: mlflow in /opt/homebrew/anaconda3/lib/python3.8/site-packages (1.29.0)\n",
      "Requirement already satisfied: protobuf<5,>=3.12.0 in /opt/homebrew/anaconda3/lib/python3.8/site-packages (from mlflow) (4.21.7)\n",
      "Requirement already satisfied: scipy<2 in /opt/homebrew/anaconda3/lib/python3.8/site-packages (from mlflow) (1.7.3)\n",
      "Requirement already satisfied: cloudpickle<3 in /opt/homebrew/anaconda3/lib/python3.8/site-packages (from mlflow) (2.0.0)\n",
      "Requirement already satisfied: Flask<3 in /opt/homebrew/anaconda3/lib/python3.8/site-packages (from mlflow) (1.1.2)\n",
      "Requirement already satisfied: alembic<2 in /opt/homebrew/anaconda3/lib/python3.8/site-packages (from mlflow) (1.8.1)\n",
      "Requirement already satisfied: querystring-parser<2 in /opt/homebrew/anaconda3/lib/python3.8/site-packages (from mlflow) (1.2.4)\n",
      "Requirement already satisfied: sqlalchemy<2,>=1.4.0 in /opt/homebrew/anaconda3/lib/python3.8/site-packages (from mlflow) (1.4.32)\n",
      "Requirement already satisfied: docker<7,>=4.0.0 in /opt/homebrew/anaconda3/lib/python3.8/site-packages (from mlflow) (6.0.0)\n",
      "Requirement already satisfied: prometheus-flask-exporter<1 in /opt/homebrew/anaconda3/lib/python3.8/site-packages (from mlflow) (0.20.3)\n",
      "Requirement already satisfied: sqlparse<1,>=0.4.0 in /opt/homebrew/anaconda3/lib/python3.8/site-packages (from mlflow) (0.4.3)\n",
      "Requirement already satisfied: entrypoints<1 in /opt/homebrew/anaconda3/lib/python3.8/site-packages (from mlflow) (0.4)\n",
      "Requirement already satisfied: importlib-metadata!=4.7.0,<5,>=3.7.0 in /opt/homebrew/anaconda3/lib/python3.8/site-packages (from mlflow) (4.11.3)\n",
      "Requirement already satisfied: databricks-cli<1,>=0.8.7 in /opt/homebrew/anaconda3/lib/python3.8/site-packages (from mlflow) (0.17.3)\n",
      "Requirement already satisfied: pyyaml<7,>=5.1 in /opt/homebrew/anaconda3/lib/python3.8/site-packages (from mlflow) (6.0)\n",
      "Requirement already satisfied: click<9,>=7.0 in /opt/homebrew/anaconda3/lib/python3.8/site-packages (from mlflow) (8.0.4)\n",
      "Requirement already satisfied: packaging<22 in /opt/homebrew/anaconda3/lib/python3.8/site-packages (from mlflow) (21.3)\n",
      "Requirement already satisfied: gitpython<4,>=2.1.0 in /opt/homebrew/anaconda3/lib/python3.8/site-packages (from mlflow) (3.1.29)\n",
      "Requirement already satisfied: pytz<2023 in /opt/homebrew/anaconda3/lib/python3.8/site-packages (from mlflow) (2021.3)\n",
      "Requirement already satisfied: numpy<2 in /opt/homebrew/anaconda3/lib/python3.8/site-packages (from mlflow) (1.21.5)\n",
      "Requirement already satisfied: requests<3,>=2.17.3 in /opt/homebrew/anaconda3/lib/python3.8/site-packages (from mlflow) (2.27.1)\n",
      "Requirement already satisfied: pandas<2 in /opt/homebrew/anaconda3/lib/python3.8/site-packages (from mlflow) (1.4.2)\n",
      "Requirement already satisfied: gunicorn<21 in /opt/homebrew/anaconda3/lib/python3.8/site-packages (from mlflow) (20.1.0)\n",
      "Requirement already satisfied: Mako in /opt/homebrew/anaconda3/lib/python3.8/site-packages (from alembic<2->mlflow) (1.2.3)\n",
      "Requirement already satisfied: importlib-resources in /opt/homebrew/anaconda3/lib/python3.8/site-packages (from alembic<2->mlflow) (5.2.0)\n",
      "Requirement already satisfied: oauthlib>=3.1.0 in /opt/homebrew/anaconda3/lib/python3.8/site-packages (from databricks-cli<1,>=0.8.7->mlflow) (3.2.1)\n",
      "Requirement already satisfied: pyjwt>=1.7.0 in /opt/homebrew/anaconda3/lib/python3.8/site-packages (from databricks-cli<1,>=0.8.7->mlflow) (2.5.0)\n",
      "Requirement already satisfied: tabulate>=0.7.7 in /opt/homebrew/anaconda3/lib/python3.8/site-packages (from databricks-cli<1,>=0.8.7->mlflow) (0.8.9)\n",
      "Requirement already satisfied: six>=1.10.0 in /opt/homebrew/anaconda3/lib/python3.8/site-packages (from databricks-cli<1,>=0.8.7->mlflow) (1.16.0)\n",
      "Requirement already satisfied: urllib3>=1.26.0 in /opt/homebrew/anaconda3/lib/python3.8/site-packages (from docker<7,>=4.0.0->mlflow) (1.26.9)\n",
      "Requirement already satisfied: websocket-client>=0.32.0 in /opt/homebrew/anaconda3/lib/python3.8/site-packages (from docker<7,>=4.0.0->mlflow) (0.58.0)\n",
      "Requirement already satisfied: itsdangerous>=0.24 in /opt/homebrew/anaconda3/lib/python3.8/site-packages (from Flask<3->mlflow) (2.0.1)\n",
      "Requirement already satisfied: Jinja2>=2.10.1 in /opt/homebrew/anaconda3/lib/python3.8/site-packages (from Flask<3->mlflow) (2.11.3)\n",
      "Requirement already satisfied: Werkzeug>=0.15 in /opt/homebrew/anaconda3/lib/python3.8/site-packages (from Flask<3->mlflow) (2.0.3)\n",
      "Requirement already satisfied: gitdb<5,>=4.0.1 in /opt/homebrew/anaconda3/lib/python3.8/site-packages (from gitpython<4,>=2.1.0->mlflow) (4.0.9)\n",
      "Requirement already satisfied: smmap<6,>=3.0.1 in /opt/homebrew/anaconda3/lib/python3.8/site-packages (from gitdb<5,>=4.0.1->gitpython<4,>=2.1.0->mlflow) (5.0.0)\n",
      "Requirement already satisfied: setuptools>=3.0 in /opt/homebrew/anaconda3/lib/python3.8/site-packages (from gunicorn<21->mlflow) (61.2.0)\n",
      "Requirement already satisfied: zipp>=0.5 in /opt/homebrew/anaconda3/lib/python3.8/site-packages (from importlib-metadata!=4.7.0,<5,>=3.7.0->mlflow) (3.8.0)\n",
      "Requirement already satisfied: MarkupSafe>=0.23 in /opt/homebrew/anaconda3/lib/python3.8/site-packages (from Jinja2>=2.10.1->Flask<3->mlflow) (2.0.1)\n",
      "Requirement already satisfied: pyparsing!=3.0.5,>=2.0.2 in /opt/homebrew/anaconda3/lib/python3.8/site-packages (from packaging<22->mlflow) (3.0.4)\n",
      "Requirement already satisfied: python-dateutil>=2.8.1 in /opt/homebrew/anaconda3/lib/python3.8/site-packages (from pandas<2->mlflow) (2.8.2)\n",
      "Requirement already satisfied: prometheus-client in /opt/homebrew/anaconda3/lib/python3.8/site-packages (from prometheus-flask-exporter<1->mlflow) (0.13.1)\n",
      "Requirement already satisfied: idna<4,>=2.5 in /opt/homebrew/anaconda3/lib/python3.8/site-packages (from requests<3,>=2.17.3->mlflow) (3.3)\n",
      "Requirement already satisfied: certifi>=2017.4.17 in /opt/homebrew/anaconda3/lib/python3.8/site-packages (from requests<3,>=2.17.3->mlflow) (2022.5.18.1)\n",
      "Requirement already satisfied: charset-normalizer~=2.0.0 in /opt/homebrew/anaconda3/lib/python3.8/site-packages (from requests<3,>=2.17.3->mlflow) (2.0.4)\n"
     ]
    }
   ],
   "source": [
    "!pip install mlflow"
   ]
  },
  {
   "cell_type": "code",
   "execution_count": 2,
   "id": "810ea35a",
   "metadata": {},
   "outputs": [],
   "source": [
    "import mlflow"
   ]
  },
  {
   "cell_type": "code",
   "execution_count": 2,
   "id": "55b06af5",
   "metadata": {},
   "outputs": [
    {
     "name": "stdout",
     "output_type": "stream",
     "text": [
      "Score: 0.6666666666666666\n",
      "Model saved in run d813b96afead4d3998f27f5feafbfeb5\n"
     ]
    },
    {
     "name": "stderr",
     "output_type": "stream",
     "text": [
      "/opt/homebrew/anaconda3/lib/python3.8/site-packages/_distutils_hack/__init__.py:30: UserWarning: Setuptools is replacing distutils.\n",
      "  warnings.warn(\"Setuptools is replacing distutils.\")\n"
     ]
    }
   ],
   "source": [
    "import numpy as np\n",
    "from sklearn.linear_model import LogisticRegression\n",
    "\n",
    "import mlflow\n",
    "import mlflow.sklearn\n",
    "\n",
    "if __name__ == \"__main__\":\n",
    "    X = np.array([-2, -1, 0, 1, 2, 1]).reshape(-1, 1)\n",
    "    y = np.array([0, 0, 1, 1, 1, 0])\n",
    "    lr = LogisticRegression()\n",
    "    lr.fit(X, y)\n",
    "    score = lr.score(X, y)\n",
    "    print(\"Score: %s\" % score)\n",
    "    mlflow.log_metric(\"score\", score)\n",
    "    mlflow.sklearn.log_model(lr, \"model\")\n",
    "    print(\"Model saved in run %s\" % mlflow.active_run().info.run_uuid)"
   ]
  },
  {
   "cell_type": "code",
   "execution_count": 12,
   "id": "f761a714",
   "metadata": {},
   "outputs": [],
   "source": [
    "\n",
    "import os\n",
    "import warnings\n",
    "import sys\n",
    "\n",
    "import pandas as pd\n",
    "import numpy as np\n",
    "from sklearn.metrics import mean_squared_error, mean_absolute_error, r2_score\n",
    "from sklearn.model_selection import train_test_split\n",
    "from sklearn.linear_model import ElasticNet, LinearRegression\n",
    "from sklearn.tree import DecisionTreeRegressor\n",
    "from sklearn.neighbors import KNeighborsRegressor\n",
    "from sklearn.ensemble import RandomForestRegressor\n",
    "from urllib.parse import urlparse\n",
    "import mlflow\n",
    "import mlflow.sklearn\n",
    "\n",
    "import logging\n",
    "\n",
    "logging.basicConfig(level=logging.WARN)\n",
    "logger = logging.getLogger(__name__)\n",
    "\n",
    "\n",
    "def eval_metrics(actual, pred):\n",
    "    rmse = np.sqrt(mean_squared_error(actual, pred))\n",
    "    mae = mean_absolute_error(actual, pred)\n",
    "    r2 = r2_score(actual, pred)\n",
    "    return rmse, mae, r2\n",
    "\n",
    "\n",
    "if __name__ == \"__main__\":\n",
    "    warnings.filterwarnings(\"ignore\")\n",
    "    np.random.seed(40)\n",
    "\n",
    "    # Read the wine-quality csv file from the URL\n",
    "    csv_url = (\n",
    "        \"http://archive.ics.uci.edu/ml/machine-learning-databases/wine-quality/winequality-red.csv\"\n",
    "    )\n",
    "    try:\n",
    "        data = pd.read_csv(csv_url, sep=\";\")\n",
    "    except Exception as e:\n",
    "        logger.exception(\n",
    "            \"Unable to download training & test CSV, check your internet connection. Error: %s\", e\n",
    "        )\n",
    "\n",
    "    # Split the data into training and test sets. (0.75, 0.25) split.\n",
    "    train, test = train_test_split(data)\n",
    "\n",
    "    # The predicted column is \"quality\" which is a scalar from [3, 9]\n",
    "    train_x = train.drop([\"quality\"], axis=1)\n",
    "    test_x = test.drop([\"quality\"], axis=1)\n",
    "    train_y = train[[\"quality\"]]\n",
    "    test_y = test[[\"quality\"]]\n",
    "\n",
    "    alpha = 0.01\n",
    "    l1_ratio = 0.5\n",
    "    \n",
    "#     models = [ElasticNet(), LinearRegression(), KNeighborsRegressor(), DecisionTreeRegressor(), RandomForestRegressor()]\n",
    "\n",
    "#     with mlflow.start_run():\n",
    "        \n",
    "#         for alg in models:\n",
    "            \n",
    "        \n",
    "#             alg.fit(train_x, train_y)\n",
    "\n",
    "#             predicted_qualities = alg.predict(test_x)\n",
    "\n",
    "#             (rmse, mae, r2) = eval_metrics(test_y, predicted_qualities)\n",
    "\n",
    "#             print(\"Model = \",alg)\n",
    "#             print(\"  RMSE: %s\" % rmse)\n",
    "#             print(\"  MAE: %s\" % mae)\n",
    "#             print(\"  R2: %s\" % r2)\n",
    "\n",
    "#             mlflow.log_metric(\"rmse\", rmse)\n",
    "#             mlflow.log_metric(\"r2\", r2)\n",
    "#             mlflow.log_metric(\"mae\", mae)\n",
    "\n",
    "#             tracking_url_type_store = urlparse(mlflow.get_tracking_uri()).scheme\n",
    "\n",
    "#             # Model registry does not work with file store\n",
    "#             if tracking_url_type_store != \"file\":\n",
    "\n",
    "#                 # Register the model\n",
    "#                 # There are other ways to use the Model Registry, which depends on the use case,\n",
    "#                 # please refer to the doc for more information:\n",
    "#                 # https://mlflow.org/docs/latest/model-registry.html#api-workflow\n",
    "#                 mlflow.sklearn.log_model(alg, \"model\", registered_model_name=alg)\n",
    "#             else:\n",
    "#                 mlflow.sklearn.log_model(alg, \"model\")"
   ]
  },
  {
   "cell_type": "code",
   "execution_count": 5,
   "id": "d2a91c00",
   "metadata": {},
   "outputs": [
    {
     "data": {
      "text/plain": [
       "'1'"
      ]
     },
     "execution_count": 5,
     "metadata": {},
     "output_type": "execute_result"
    }
   ],
   "source": [
    "mlflow.set_experiment(\"wine experiment\").experiment_id"
   ]
  },
  {
   "cell_type": "code",
   "execution_count": 9,
   "id": "6d01dbdc",
   "metadata": {},
   "outputs": [],
   "source": [
    "mlflow.end_run()\n",
    "from sklearn.neighbors import KNeighborsRegressor\n"
   ]
  },
  {
   "cell_type": "code",
   "execution_count": 16,
   "id": "773e2a38",
   "metadata": {},
   "outputs": [],
   "source": [
    "experiment_id = mlflow.set_experiment(\"wine experiment\").experiment_id\n",
    "k = [1,3,5,7,9,11,13,15,16]\n",
    "for n_neigh in k:\n",
    "        with mlflow.start_run(experiment_id=experiment_id):\n",
    "            \n",
    "            model = KNeighborsRegressor(n_neighbors=n_neigh)\n",
    "            model.fit(train_x, train_y)\n",
    "            y_pred = model.predict(test_x)\n",
    "            mse = mean_squared_error(test_y, y_pred)\n",
    "            r2 = r2_score(test_y, y_pred)       \n",
    "            mlflow.log_param(\"n_neighbors\",n_neigh)\n",
    "\n",
    "            mlflow.log_metric(\"mse\", mse)\n",
    "            mlflow.log_metric(\"r2\", r2)\n",
    "            \n",
    "            mlflow.sklearn.log_model(model,\"model\")"
   ]
  },
  {
   "cell_type": "code",
   "execution_count": 20,
   "id": "d47812ae",
   "metadata": {},
   "outputs": [
    {
     "name": "stdout",
     "output_type": "stream",
     "text": [
      "Model =  ElasticNet()\n",
      "  RMSE: 0.8328241218819784\n",
      "  MAE: 0.6681571546815984\n",
      "  R2: 0.017256182227355366\n",
      "Model =  LinearRegression()\n",
      "  RMSE: 0.6603811224461613\n",
      "  MAE: 0.5073644199888914\n",
      "  R2: 0.3820931219110172\n",
      "Model =  KNeighborsRegressor()\n",
      "  RMSE: 0.7721398836998384\n",
      "  MAE: 0.581\n",
      "  R2: 0.15525486167688018\n",
      "Model =  DecisionTreeRegressor()\n",
      "  RMSE: 0.8108637370113427\n",
      "  MAE: 0.4625\n",
      "  R2: 0.06839998583117868\n",
      "Model =  RandomForestRegressor()\n",
      "  RMSE: 0.5783521850914025\n",
      "  MAE: 0.41662499999999997\n",
      "  R2: 0.5260653182671533\n"
     ]
    }
   ],
   "source": [
    "models = [ElasticNet(), LinearRegression(), KNeighborsRegressor(), DecisionTreeRegressor(), RandomForestRegressor()]\n",
    "\n",
    "for alg in models:\n",
    "        with mlflow.start_run(experiment_id=experiment_id):\n",
    "\n",
    "                    alg.fit(train_x, train_y)\n",
    "\n",
    "                    predicted_qualities = alg.predict(test_x)\n",
    "\n",
    "                    (rmse, mae, r2) = eval_metrics(test_y, predicted_qualities)\n",
    "\n",
    "                    print(\"Model = \",alg)\n",
    "                    print(\"  RMSE: %s\" % rmse)\n",
    "                    print(\"  MAE: %s\" % mae)\n",
    "                    print(\"  R2: %s\" % r2)\n",
    "                    mlflow.log_param(\"model\",alg)\n",
    "                    mlflow.log_metric(\"rmse\", rmse)\n",
    "                    mlflow.log_metric(\"r2\", r2)\n",
    "                    mlflow.log_metric(\"mae\", mae)\n",
    "\n",
    "                    mlflow.sklearn.log_model(alg, \"model\")\n"
   ]
  },
  {
   "cell_type": "code",
   "execution_count": 22,
   "id": "5be68c4a",
   "metadata": {},
   "outputs": [
    {
     "data": {
      "text/plain": [
       "array([6.22, 5.41, 5.77, 6.25, 5.86, 5.13, 6.09, 6.84, 5.11, 5.28, 6.22,\n",
       "       5.51, 5.53, 6.72, 5.12, 6.25, 5.61, 5.54, 5.14, 5.04, 5.07, 5.68,\n",
       "       5.22, 5.09, 6.84, 5.34, 5.9 , 5.21, 5.34, 5.37, 5.42, 5.76, 5.18,\n",
       "       5.13, 5.06, 5.79, 5.99, 4.79, 5.13, 5.9 , 5.08, 5.97, 5.05, 6.  ,\n",
       "       6.15, 5.24, 5.79, 6.01, 5.88, 5.07, 6.84, 5.11, 5.05, 5.42, 5.85,\n",
       "       5.12, 5.74, 5.28, 6.02, 5.31, 5.71, 5.74, 5.67, 5.62, 5.26, 4.98,\n",
       "       4.79, 5.58, 6.5 , 6.59, 5.2 , 5.1 , 4.91, 6.81, 6.17, 5.6 , 5.12,\n",
       "       5.85, 5.19, 6.51, 5.8 , 6.02, 5.81, 5.17, 5.83, 5.04, 5.73, 4.97,\n",
       "       5.89, 5.06, 5.69, 6.91, 5.66, 4.82, 6.03, 5.58, 5.22, 6.54, 5.46,\n",
       "       5.82, 5.4 , 5.56, 5.25, 5.96, 6.9 , 5.42, 6.19, 5.69, 5.18, 5.99,\n",
       "       6.98, 5.08, 5.42, 5.95, 5.54, 5.26, 5.49, 6.02, 6.16, 5.2 , 5.16,\n",
       "       5.44, 4.91, 5.21, 5.31, 5.82, 5.32, 5.25, 6.05, 5.27, 5.47, 5.45,\n",
       "       6.38, 5.04, 5.69, 5.41, 5.56, 5.82, 5.31, 5.08, 5.95, 5.13, 5.77,\n",
       "       5.45, 5.22, 6.04, 5.33, 5.52, 6.79, 6.74, 5.79, 5.95, 5.43, 5.84,\n",
       "       5.94, 5.31, 5.59, 6.97, 6.52, 5.59, 6.16, 5.07, 6.94, 6.89, 5.9 ,\n",
       "       5.06, 5.37, 5.51, 6.07, 5.99, 5.15, 6.89, 5.21, 5.11, 4.97, 5.15,\n",
       "       6.03, 5.19, 5.38, 5.44, 6.57, 5.39, 5.44, 6.15, 5.01, 5.01, 5.56,\n",
       "       6.03, 5.96, 6.36, 6.52, 4.96, 5.17, 5.2 , 5.56, 5.23, 5.4 , 5.16,\n",
       "       6.09, 6.62, 5.23, 5.61, 6.48, 5.53, 6.22, 5.93, 6.09, 5.21, 5.52,\n",
       "       5.95, 6.58, 5.58, 5.3 , 6.12, 5.  , 5.4 , 6.73, 5.45, 6.32, 5.86,\n",
       "       6.35, 6.78, 4.96, 5.72, 5.92, 5.62, 5.12, 5.69, 4.96, 5.03, 4.83,\n",
       "       5.46, 6.3 , 6.58, 5.78, 6.  , 5.55, 5.23, 5.89, 5.46, 6.86, 6.35,\n",
       "       6.8 , 5.57, 5.9 , 6.03, 6.69, 5.95, 6.17, 5.03, 5.97, 5.25, 5.27,\n",
       "       5.2 , 5.09, 6.6 , 6.02, 5.3 , 5.73, 6.51, 4.97, 5.08, 5.65, 5.57,\n",
       "       5.19, 5.04, 5.74, 5.12, 5.63, 5.04, 4.76, 5.03, 4.99, 5.74, 5.59,\n",
       "       6.72, 6.  , 5.36, 4.77, 4.57, 5.31, 5.35, 5.27, 5.1 , 5.19, 5.15,\n",
       "       5.38, 5.95, 6.79, 6.08, 5.88, 5.73, 5.49, 6.13, 5.16, 4.64, 5.16,\n",
       "       5.2 , 5.09, 5.15, 6.34, 6.09, 6.08, 5.39, 5.01, 5.07, 5.37, 6.91,\n",
       "       5.64, 5.75, 5.91, 5.68, 5.93, 5.11, 5.89, 6.33, 5.9 , 5.31, 6.48,\n",
       "       5.1 , 6.21, 5.43, 5.11, 5.87, 5.95, 6.42, 6.08, 5.77, 6.07, 5.32,\n",
       "       5.79, 5.34, 7.03, 5.41, 6.26, 5.67, 5.51, 5.3 , 5.91, 6.23, 6.75,\n",
       "       6.62, 5.46, 5.18, 5.1 , 5.41, 7.05, 5.51, 6.82, 5.22, 6.8 , 5.15,\n",
       "       5.7 , 5.18, 5.5 , 5.22, 6.85, 5.67, 5.08, 6.25, 6.37, 6.13, 4.99,\n",
       "       5.07, 5.12, 5.99, 5.77, 5.52, 5.24, 5.17, 5.61, 6.  , 6.12, 5.06,\n",
       "       5.17, 6.06, 5.64, 6.4 , 5.13, 5.49, 6.28, 6.33, 6.79, 4.86, 6.12,\n",
       "       5.08, 5.15, 6.2 , 5.2 , 5.1 , 5.95, 5.1 , 6.99, 5.44, 5.66, 6.52,\n",
       "       5.33, 6.03, 5.2 , 5.12])"
      ]
     },
     "execution_count": 22,
     "metadata": {},
     "output_type": "execute_result"
    }
   ],
   "source": [
    "logged_model = 'runs:/dc410285d1f949f7b695b1eeecd2ee49/model'\n",
    "\n",
    "# Load model as a PyFuncModel.\n",
    "loaded_model = mlflow.pyfunc.load_model(logged_model)\n",
    "\n",
    "# Predict on a Pandas DataFrame.\n",
    "import pandas as pd\n",
    "loaded_model.predict(pd.DataFrame(test_x))"
   ]
  },
  {
   "cell_type": "code",
   "execution_count": null,
   "id": "1fec24aa",
   "metadata": {},
   "outputs": [],
   "source": []
  }
 ],
 "metadata": {
  "kernelspec": {
   "display_name": "Python 3 (ipykernel)",
   "language": "python",
   "name": "python3"
  },
  "language_info": {
   "codemirror_mode": {
    "name": "ipython",
    "version": 3
   },
   "file_extension": ".py",
   "mimetype": "text/x-python",
   "name": "python",
   "nbconvert_exporter": "python",
   "pygments_lexer": "ipython3",
   "version": "3.8.13"
  }
 },
 "nbformat": 4,
 "nbformat_minor": 5
}
