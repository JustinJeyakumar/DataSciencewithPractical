{
  "nbformat": 4,
  "nbformat_minor": 0,
  "metadata": {
    "colab": {
      "provenance": [],
      "collapsed_sections": []
    },
    "kernelspec": {
      "name": "python3",
      "display_name": "Python 3"
    },
    "language_info": {
      "name": "python"
    }
  },
  "cells": [
    {
      "cell_type": "code",
      "execution_count": 159,
      "metadata": {
        "id": "sDPjaRnzPHo_"
      },
      "outputs": [],
      "source": [
        "import numpy as np\n",
        "import pandas as pd\n",
        "from keras.datasets import reuters\n",
        "from tensorflow.keras.preprocessing.sequence import pad_sequences\n",
        "from keras.utils import to_categorical\n",
        "import matplotlib.pyplot as plt"
      ]
    },
    {
      "cell_type": "code",
      "source": [
        "(x_train, y_train), (x_test, y_test) = reuters.load_data(num_words= 30000, maxlen = 100, test_split = 0.3 )"
      ],
      "metadata": {
        "id": "FpuAiuRPPNJg"
      },
      "execution_count": 308,
      "outputs": []
    },
    {
      "cell_type": "code",
      "source": [
        "(x_train.shape, x_test.shape),( y_train.shape, y_test.shape)"
      ],
      "metadata": {
        "colab": {
          "base_uri": "https://localhost:8080/"
        },
        "id": "D-hvloyrPkA1",
        "outputId": "ddbaa2bc-56d4-4990-bba9-77f4123f62ce"
      },
      "execution_count": 309,
      "outputs": [
        {
          "output_type": "execute_result",
          "data": {
            "text/plain": [
              "(((4180,), (1792,)), ((4180,), (1792,)))"
            ]
          },
          "metadata": {},
          "execution_count": 309
        }
      ]
    },
    {
      "cell_type": "code",
      "source": [
        "np.unique(y_test)"
      ],
      "metadata": {
        "colab": {
          "base_uri": "https://localhost:8080/"
        },
        "id": "rIx0sKAMP5ew",
        "outputId": "583347ec-89a3-4479-99f2-663c974929ec"
      },
      "execution_count": 310,
      "outputs": [
        {
          "output_type": "execute_result",
          "data": {
            "text/plain": [
              "array([ 0,  1,  2,  3,  4,  5,  6,  7,  8,  9, 10, 11, 12, 13, 14, 15, 16,\n",
              "       17, 18, 19, 20, 21, 22, 23, 24, 25, 26, 27, 28, 29, 30, 31, 32, 33,\n",
              "       34, 35, 36, 37, 38, 39, 40, 41, 42, 43, 44])"
            ]
          },
          "metadata": {},
          "execution_count": 310
        }
      ]
    },
    {
      "cell_type": "code",
      "source": [
        "len(x_train[0]),len(x_train[1]), len(x_train[2])"
      ],
      "metadata": {
        "colab": {
          "base_uri": "https://localhost:8080/"
        },
        "id": "6ZS2qyMWQbzp",
        "outputId": "6bfd78f9-9d4c-407e-a170-402e2f9b7a2f"
      },
      "execution_count": 311,
      "outputs": [
        {
          "output_type": "execute_result",
          "data": {
            "text/plain": [
              "(87, 56, 82)"
            ]
          },
          "metadata": {},
          "execution_count": 311
        }
      ]
    },
    {
      "cell_type": "code",
      "source": [
        "# 1,2,5\n",
        "# 5\n",
        "# 6,8\n",
        "# 6,1,2,4"
      ],
      "metadata": {
        "id": "DmYvmPMYSwSH"
      },
      "execution_count": 312,
      "outputs": []
    },
    {
      "cell_type": "code",
      "source": [
        "# maxsize = 4\n",
        "# 1,2,5,0\n",
        "# 5,0,0,0\n",
        "# 6,8,0,0\n",
        "# 6,1,2,4\n"
      ],
      "metadata": {
        "id": "1t3R1kG2SwHg"
      },
      "execution_count": 313,
      "outputs": []
    },
    {
      "cell_type": "code",
      "source": [
        "x_train = pad_sequences(x_train, padding = 'post')\n",
        "\n",
        "x_test = pad_sequences(x_test, padding = 'post')\n"
      ],
      "metadata": {
        "id": "eA_RT9mRUPUg"
      },
      "execution_count": 314,
      "outputs": []
    },
    {
      "cell_type": "code",
      "source": [
        "data_y = np.concatenate([y_train, y_test])"
      ],
      "metadata": {
        "id": "cFZPSguNXCVA"
      },
      "execution_count": 315,
      "outputs": []
    },
    {
      "cell_type": "code",
      "source": [
        "data_y = to_categorical(data_y)"
      ],
      "metadata": {
        "id": "KgmOIS5bXowY"
      },
      "execution_count": 316,
      "outputs": []
    },
    {
      "cell_type": "code",
      "source": [
        "y_train_ = data_y[:4180]\n",
        "y_test_ = data_y[4180:]"
      ],
      "metadata": {
        "id": "96j3DVUrXufR"
      },
      "execution_count": 317,
      "outputs": []
    },
    {
      "cell_type": "code",
      "source": [
        "x_train.shape, y_train.shape"
      ],
      "metadata": {
        "colab": {
          "base_uri": "https://localhost:8080/"
        },
        "id": "J44sR6jlXuVa",
        "outputId": "c345017a-5427-4bc1-dbc5-166b577b9c38"
      },
      "execution_count": 318,
      "outputs": [
        {
          "output_type": "execute_result",
          "data": {
            "text/plain": [
              "((4180, 99), (4180,))"
            ]
          },
          "metadata": {},
          "execution_count": 318
        }
      ]
    },
    {
      "cell_type": "code",
      "source": [
        "x_test.shape, y_test.shape"
      ],
      "metadata": {
        "colab": {
          "base_uri": "https://localhost:8080/"
        },
        "id": "gFpwwR8kUann",
        "outputId": "a71d0853-9087-44de-de31-6df8496642c4"
      },
      "execution_count": 319,
      "outputs": [
        {
          "output_type": "execute_result",
          "data": {
            "text/plain": [
              "((1792, 99), (1792,))"
            ]
          },
          "metadata": {},
          "execution_count": 319
        }
      ]
    },
    {
      "cell_type": "code",
      "source": [],
      "metadata": {
        "id": "WKuSpgkbU60Q"
      },
      "execution_count": 319,
      "outputs": []
    },
    {
      "cell_type": "code",
      "source": [],
      "metadata": {
        "id": "EIxTttDeW6EH"
      },
      "execution_count": 319,
      "outputs": []
    },
    {
      "cell_type": "code",
      "source": [
        "x_train =np.array(x_train).reshape((x_train.shape[0],x_train.shape[1],1))\n",
        "x_test = np.array(x_test).reshape(x_test.shape[0],x_test.shape[1],1)"
      ],
      "metadata": {
        "id": "rLraRX7xVDnw"
      },
      "execution_count": 320,
      "outputs": []
    },
    {
      "cell_type": "code",
      "source": [
        "x_train.shape, x_test.shape, y_train_.shape, y_test_.shape"
      ],
      "metadata": {
        "colab": {
          "base_uri": "https://localhost:8080/"
        },
        "id": "9paalpYbVbBV",
        "outputId": "56d8d99f-7282-4cdb-d451-376d3881ef6f"
      },
      "execution_count": 321,
      "outputs": [
        {
          "output_type": "execute_result",
          "data": {
            "text/plain": [
              "((4180, 99, 1), (1792, 99, 1), (4180, 46), (1792, 46))"
            ]
          },
          "metadata": {},
          "execution_count": 321
        }
      ]
    },
    {
      "cell_type": "code",
      "source": [
        "# Vanilla Simple RNN\n"
      ],
      "metadata": {
        "id": "y4m3tyWKVa-u"
      },
      "execution_count": 322,
      "outputs": []
    },
    {
      "cell_type": "code",
      "source": [
        "from keras.models import Model, Sequential\n",
        "from keras.layers import Dense, SimpleRNN, LSTM, GRU\n",
        "\n",
        "from keras import optimizers\n",
        "from sklearn.metrics import accuracy_score"
      ],
      "metadata": {
        "id": "Wpoqu3X-Va73"
      },
      "execution_count": 323,
      "outputs": []
    },
    {
      "cell_type": "code",
      "source": [],
      "metadata": {
        "id": "OSULYzW5Va4w"
      },
      "execution_count": 323,
      "outputs": []
    },
    {
      "cell_type": "code",
      "source": [
        "from keras.layers.core.activation import Activation\n",
        "model = Sequential()\n",
        "model.add(SimpleRNN(50, input_shape = (99,1), return_sequences = False))\n",
        "model.add(Dense(46))\n",
        "model.add(Activation('softmax'))\n",
        "\n",
        "\n",
        "adam = optimizers.Adam()\n",
        "model.compile(loss = 'categorical_crossentropy', optimizer = adam, metrics= ['accuracy'])"
      ],
      "metadata": {
        "id": "gxweHpjHVa2I"
      },
      "execution_count": 329,
      "outputs": []
    },
    {
      "cell_type": "code",
      "source": [
        "y_train_.shape, x_train.shape"
      ],
      "metadata": {
        "colab": {
          "base_uri": "https://localhost:8080/"
        },
        "id": "AGyX1g-ob1Y8",
        "outputId": "47fd2b21-cf64-4500-c512-1e8fbb3feddd"
      },
      "execution_count": 330,
      "outputs": [
        {
          "output_type": "execute_result",
          "data": {
            "text/plain": [
              "((4180, 46), (4180, 99, 1))"
            ]
          },
          "metadata": {},
          "execution_count": 330
        }
      ]
    },
    {
      "cell_type": "code",
      "source": [
        "history_ = model.fit(x_train,y_train_, epochs = 10, batch_size = 10, validation_split=0.3 ,verbose = 1)"
      ],
      "metadata": {
        "colab": {
          "base_uri": "https://localhost:8080/"
        },
        "id": "PWsqRaFYVazQ",
        "outputId": "1e3dc4cd-1c16-4b36-cc77-938cee25ce5c"
      },
      "execution_count": 331,
      "outputs": [
        {
          "output_type": "stream",
          "name": "stdout",
          "text": [
            "Epoch 1/10\n",
            "293/293 [==============================] - 5s 14ms/step - loss: 2.1132 - accuracy: 0.4822 - val_loss: 1.7828 - val_accuracy: 0.5295\n",
            "Epoch 2/10\n",
            "293/293 [==============================] - 4s 13ms/step - loss: 1.9366 - accuracy: 0.4891 - val_loss: 1.7641 - val_accuracy: 0.5215\n",
            "Epoch 3/10\n",
            "293/293 [==============================] - 4s 13ms/step - loss: 1.9219 - accuracy: 0.4915 - val_loss: 1.7701 - val_accuracy: 0.5215\n",
            "Epoch 4/10\n",
            "293/293 [==============================] - 4s 14ms/step - loss: 1.9211 - accuracy: 0.4891 - val_loss: 1.7642 - val_accuracy: 0.5215\n",
            "Epoch 5/10\n",
            "293/293 [==============================] - 4s 13ms/step - loss: 1.9120 - accuracy: 0.4901 - val_loss: 1.7557 - val_accuracy: 0.5215\n",
            "Epoch 6/10\n",
            "293/293 [==============================] - 4s 13ms/step - loss: 1.9114 - accuracy: 0.4874 - val_loss: 1.7654 - val_accuracy: 0.5215\n",
            "Epoch 7/10\n",
            "293/293 [==============================] - 4s 13ms/step - loss: 1.8961 - accuracy: 0.4942 - val_loss: 1.7332 - val_accuracy: 0.5239\n",
            "Epoch 8/10\n",
            "293/293 [==============================] - 4s 14ms/step - loss: 1.9140 - accuracy: 0.4921 - val_loss: 1.7936 - val_accuracy: 0.5247\n",
            "Epoch 9/10\n",
            "293/293 [==============================] - 5s 15ms/step - loss: 1.9250 - accuracy: 0.4942 - val_loss: 1.8069 - val_accuracy: 0.5263\n",
            "Epoch 10/10\n",
            "293/293 [==============================] - 4s 14ms/step - loss: 1.9049 - accuracy: 0.4945 - val_loss: 1.7814 - val_accuracy: 0.5271\n"
          ]
        }
      ]
    },
    {
      "cell_type": "code",
      "source": [
        "plt.plot(history_.history['accuracy'])\n",
        "plt.plot(history_.history['val_accuracy'])\n",
        "plt.legend(['training', 'validation'])\n",
        "plt.show()"
      ],
      "metadata": {
        "colab": {
          "base_uri": "https://localhost:8080/",
          "height": 265
        },
        "id": "lp_FMAU4aBMp",
        "outputId": "cfd72373-0194-4702-a92b-e6856fdc3b91"
      },
      "execution_count": 332,
      "outputs": [
        {
          "output_type": "display_data",
          "data": {
            "text/plain": [
              "<Figure size 432x288 with 1 Axes>"
            ],
            "image/png": "[encoded data removed]"
          },
          "metadata": {
            "needs_background": "light"
          }
        }
      ]
    },
    {
      "cell_type": "code",
      "source": [
        "pred = model.predict(x_test)"
      ],
      "metadata": {
        "colab": {
          "base_uri": "https://localhost:8080/"
        },
        "id": "GFhVH8DzadRs",
        "outputId": "03fd43d3-d6f6-4673-ab19-7b248fb38478"
      },
      "execution_count": 333,
      "outputs": [
        {
          "output_type": "stream",
          "name": "stdout",
          "text": [
            "56/56 [==============================] - 0s 4ms/step\n"
          ]
        }
      ]
    },
    {
      "cell_type": "code",
      "source": [
        "y_test_pred = np.argmax(pred,1)"
      ],
      "metadata": {
        "id": "RODYLRAyan0w"
      },
      "execution_count": 334,
      "outputs": []
    },
    {
      "cell_type": "code",
      "source": [
        "accuracy_score(y_test,y_test_pred )"
      ],
      "metadata": {
        "colab": {
          "base_uri": "https://localhost:8080/"
        },
        "id": "YNt7LNHca-RD",
        "outputId": "4874d997-555d-44b6-c02b-3b1e25d19653"
      },
      "execution_count": 336,
      "outputs": [
        {
          "output_type": "execute_result",
          "data": {
            "text/plain": [
              "0.5100446428571429"
            ]
          },
          "metadata": {},
          "execution_count": 336
        }
      ]
    },
    {
      "cell_type": "code",
      "source": [],
      "metadata": {
        "id": "G-UcD0-NcsKm"
      },
      "execution_count": null,
      "outputs": []
    },
    {
      "cell_type": "code",
      "source": [],
      "metadata": {
        "id": "yEgmdXgSc9IU"
      },
      "execution_count": null,
      "outputs": []
    },
    {
      "cell_type": "code",
      "source": [
        "# Stacked RNN\n"
      ],
      "metadata": {
        "id": "hy409ePAc9GE"
      },
      "execution_count": null,
      "outputs": []
    },
    {
      "cell_type": "code",
      "source": [],
      "metadata": {
        "id": "Am6HxEsUc9DX"
      },
      "execution_count": null,
      "outputs": []
    },
    {
      "cell_type": "code",
      "source": [
        "from keras.layers.core.activation import Activation\n",
        "model = Sequential()\n",
        "model.add(SimpleRNN(50, input_shape = (99,1), return_sequences = True))\n",
        "model.add(SimpleRNN(50, return_sequences = True))\n",
        "model.add(SimpleRNN(50, return_sequences = False))\n",
        "model.add(Dense(46))\n",
        "model.add(Activation('softmax'))\n",
        "\n",
        "\n",
        "adam = optimizers.Adam()\n",
        "model.compile(loss = 'categorical_crossentropy', optimizer = adam, metrics= ['accuracy'])"
      ],
      "metadata": {
        "id": "fINuQSX-dFQT"
      },
      "execution_count": 337,
      "outputs": []
    },
    {
      "cell_type": "code",
      "source": [
        "y_train_.shape"
      ],
      "metadata": {
        "colab": {
          "base_uri": "https://localhost:8080/"
        },
        "outputId": "b58ee419-0a47-440e-f3cd-4192f5d280e9",
        "id": "X45kUl08dFQU"
      },
      "execution_count": 338,
      "outputs": [
        {
          "output_type": "execute_result",
          "data": {
            "text/plain": [
              "(4180, 46)"
            ]
          },
          "metadata": {},
          "execution_count": 338
        }
      ]
    },
    {
      "cell_type": "code",
      "source": [
        "history_ = model.fit(x_train,y_train_, epochs = 10, batch_size = 10, validation_split=0.3 ,verbose = 1)"
      ],
      "metadata": {
        "colab": {
          "base_uri": "https://localhost:8080/"
        },
        "outputId": "b4a0548a-697f-46a7-97d5-776d14ec8e0c",
        "id": "xlfjZX8YdFQV"
      },
      "execution_count": 339,
      "outputs": [
        {
          "output_type": "stream",
          "name": "stdout",
          "text": [
            "Epoch 1/10\n",
            "293/293 [==============================] - 15s 45ms/step - loss: 2.0478 - accuracy: 0.4792 - val_loss: 1.7450 - val_accuracy: 0.5207\n",
            "Epoch 2/10\n",
            "293/293 [==============================] - 13s 44ms/step - loss: 1.9066 - accuracy: 0.4966 - val_loss: 1.7271 - val_accuracy: 0.5207\n",
            "Epoch 3/10\n",
            "293/293 [==============================] - 13s 43ms/step - loss: 1.8965 - accuracy: 0.4880 - val_loss: 1.7439 - val_accuracy: 0.5231\n",
            "Epoch 4/10\n",
            "293/293 [==============================] - 14s 48ms/step - loss: 1.9145 - accuracy: 0.4891 - val_loss: 1.7810 - val_accuracy: 0.5215\n",
            "Epoch 5/10\n",
            "293/293 [==============================] - 14s 48ms/step - loss: 1.9064 - accuracy: 0.4935 - val_loss: 1.7275 - val_accuracy: 0.5279\n",
            "Epoch 6/10\n",
            "293/293 [==============================] - 13s 44ms/step - loss: 1.8878 - accuracy: 0.4836 - val_loss: 1.8001 - val_accuracy: 0.5215\n",
            "Epoch 7/10\n",
            "293/293 [==============================] - 13s 44ms/step - loss: 1.9184 - accuracy: 0.4938 - val_loss: 1.7551 - val_accuracy: 0.5231\n",
            "Epoch 8/10\n",
            "293/293 [==============================] - 14s 46ms/step - loss: 1.8996 - accuracy: 0.4962 - val_loss: 1.7592 - val_accuracy: 0.5223\n",
            "Epoch 9/10\n",
            "293/293 [==============================] - 13s 44ms/step - loss: 1.8871 - accuracy: 0.4962 - val_loss: 1.7467 - val_accuracy: 0.5279\n",
            "Epoch 10/10\n",
            "293/293 [==============================] - 13s 44ms/step - loss: 1.8882 - accuracy: 0.4945 - val_loss: 1.7645 - val_accuracy: 0.5263\n"
          ]
        }
      ]
    },
    {
      "cell_type": "code",
      "source": [
        "plt.plot(history_.history['accuracy'])\n",
        "plt.plot(history_.history['val_accuracy'])\n",
        "plt.legend(['training', 'validation'])\n",
        "plt.show()"
      ],
      "metadata": {
        "colab": {
          "base_uri": "https://localhost:8080/",
          "height": 268
        },
        "outputId": "169fc9dd-f0fb-446b-8ab0-8df6386e0f6e",
        "id": "oLrsOz-2dFQV"
      },
      "execution_count": 340,
      "outputs": [
        {
          "output_type": "display_data",
          "data": {
            "text/plain": [
              "<Figure size 432x288 with 1 Axes>"
            ],
            "image/png": "[encoded data removed]"
          },
          "metadata": {
            "needs_background": "light"
          }
        }
      ]
    },
    {
      "cell_type": "code",
      "source": [
        "pred = model.predict(x_test)"
      ],
      "metadata": {
        "colab": {
          "base_uri": "https://localhost:8080/"
        },
        "outputId": "498162a4-a9b5-4491-815a-96675defd90c",
        "id": "FdIYwbkbdFQV"
      },
      "execution_count": 341,
      "outputs": [
        {
          "output_type": "stream",
          "name": "stdout",
          "text": [
            "56/56 [==============================] - 1s 12ms/step\n"
          ]
        }
      ]
    },
    {
      "cell_type": "code",
      "source": [
        "y_test_pred = np.argmax(pred,1)"
      ],
      "metadata": {
        "id": "_YNK19BzdFQW"
      },
      "execution_count": 342,
      "outputs": []
    },
    {
      "cell_type": "code",
      "source": [
        "y_test_"
      ],
      "metadata": {
        "colab": {
          "base_uri": "https://localhost:8080/"
        },
        "outputId": "2bdde5f1-959a-4547-b582-f300db757148",
        "id": "N2iElIWzdFQW"
      },
      "execution_count": 343,
      "outputs": [
        {
          "output_type": "execute_result",
          "data": {
            "text/plain": [
              "array([[0., 0., 0., ..., 0., 0., 0.],\n",
              "       [0., 0., 0., ..., 0., 0., 0.],\n",
              "       [0., 0., 0., ..., 0., 0., 0.],\n",
              "       ...,\n",
              "       [0., 0., 0., ..., 0., 0., 0.],\n",
              "       [0., 0., 0., ..., 0., 0., 0.],\n",
              "       [0., 0., 0., ..., 0., 0., 0.]], dtype=float32)"
            ]
          },
          "metadata": {},
          "execution_count": 343
        }
      ]
    },
    {
      "cell_type": "code",
      "source": [
        "accuracy_score(y_test,y_test_pred )"
      ],
      "metadata": {
        "colab": {
          "base_uri": "https://localhost:8080/"
        },
        "outputId": "0fca0c33-e9cb-4cf0-ad9b-8518d7542694",
        "id": "vhhANZs3dFQX"
      },
      "execution_count": 344,
      "outputs": [
        {
          "output_type": "execute_result",
          "data": {
            "text/plain": [
              "0.5055803571428571"
            ]
          },
          "metadata": {},
          "execution_count": 344
        }
      ]
    },
    {
      "cell_type": "code",
      "source": [],
      "metadata": {
        "id": "Kv8uWbT1dFQX"
      },
      "execution_count": null,
      "outputs": []
    },
    {
      "cell_type": "code",
      "source": [],
      "metadata": {
        "id": "x8axFW_Nc9Ax"
      },
      "execution_count": null,
      "outputs": []
    },
    {
      "cell_type": "code",
      "source": [
        "# LSTM"
      ],
      "metadata": {
        "id": "hRs5HUtZds4T"
      },
      "execution_count": null,
      "outputs": []
    },
    {
      "cell_type": "code",
      "source": [],
      "metadata": {
        "id": "_7lpO7omds2M"
      },
      "execution_count": null,
      "outputs": []
    },
    {
      "cell_type": "code",
      "source": [],
      "metadata": {
        "id": "Y6TsTxPhdszl"
      },
      "execution_count": null,
      "outputs": []
    },
    {
      "cell_type": "code",
      "source": [
        "from keras.layers.core.activation import Activation\n",
        "model = Sequential()\n",
        "model.add(LSTM(50, input_shape = (99,1), return_sequences = False))\n",
        "model.add(Dense(46))\n",
        "model.add(Activation('softmax'))\n",
        "\n",
        "\n",
        "adam = optimizers.Adam()\n",
        "model.compile(loss = 'categorical_crossentropy', optimizer = adam, metrics= ['accuracy'])"
      ],
      "metadata": {
        "id": "KJudr3uwdyYA"
      },
      "execution_count": 345,
      "outputs": []
    },
    {
      "cell_type": "code",
      "source": [
        "history_ = model.fit(x_train,y_train_, epochs = 10, batch_size = 10, validation_split=0.3 ,verbose = 1)"
      ],
      "metadata": {
        "colab": {
          "base_uri": "https://localhost:8080/"
        },
        "outputId": "6b30b156-8c4c-4297-9314-53769cae913c",
        "id": "lLLUv1pndyYB"
      },
      "execution_count": 346,
      "outputs": [
        {
          "output_type": "stream",
          "name": "stdout",
          "text": [
            "Epoch 1/10\n",
            "293/293 [==============================] - 10s 29ms/step - loss: 2.1453 - accuracy: 0.4921 - val_loss: 1.7191 - val_accuracy: 0.5303\n",
            "Epoch 2/10\n",
            "293/293 [==============================] - 8s 27ms/step - loss: 1.8741 - accuracy: 0.5027 - val_loss: 1.7061 - val_accuracy: 0.5215\n",
            "Epoch 3/10\n",
            "293/293 [==============================] - 8s 27ms/step - loss: 1.8655 - accuracy: 0.4945 - val_loss: 1.6506 - val_accuracy: 0.5813\n",
            "Epoch 4/10\n",
            "293/293 [==============================] - 8s 27ms/step - loss: 1.6776 - accuracy: 0.5988 - val_loss: 1.5191 - val_accuracy: 0.6053\n",
            "Epoch 5/10\n",
            "293/293 [==============================] - 8s 27ms/step - loss: 1.5819 - accuracy: 0.6268 - val_loss: 1.3844 - val_accuracy: 0.6722\n",
            "Epoch 6/10\n",
            "293/293 [==============================] - 8s 27ms/step - loss: 1.5475 - accuracy: 0.6347 - val_loss: 1.3704 - val_accuracy: 0.6778\n",
            "Epoch 7/10\n",
            "293/293 [==============================] - 8s 28ms/step - loss: 1.5409 - accuracy: 0.6364 - val_loss: 1.3833 - val_accuracy: 0.6730\n",
            "Epoch 8/10\n",
            "293/293 [==============================] - 8s 27ms/step - loss: 1.5309 - accuracy: 0.6364 - val_loss: 1.3654 - val_accuracy: 0.6754\n",
            "Epoch 9/10\n",
            "293/293 [==============================] - 8s 27ms/step - loss: 1.5229 - accuracy: 0.6350 - val_loss: 1.3761 - val_accuracy: 0.6762\n",
            "Epoch 10/10\n",
            "293/293 [==============================] - 8s 27ms/step - loss: 1.5134 - accuracy: 0.6367 - val_loss: 1.3744 - val_accuracy: 0.6738\n"
          ]
        }
      ]
    },
    {
      "cell_type": "code",
      "source": [
        "plt.plot(history_.history['accuracy'])\n",
        "plt.plot(history_.history['val_accuracy'])\n",
        "plt.legend(['training', 'validation'])\n",
        "plt.show()"
      ],
      "metadata": {
        "colab": {
          "base_uri": "https://localhost:8080/",
          "height": 265
        },
        "outputId": "21535bf6-8865-4ce3-ef97-ca58bc4caa44",
        "id": "aTRcDJVjdyYB"
      },
      "execution_count": 347,
      "outputs": [
        {
          "output_type": "display_data",
          "data": {
            "text/plain": [
              "<Figure size 432x288 with 1 Axes>"
            ],
            "image/png": "[encoded data removed]"
          },
          "metadata": {
            "needs_background": "light"
          }
        }
      ]
    },
    {
      "cell_type": "code",
      "source": [
        "pred = model.predict(x_test)"
      ],
      "metadata": {
        "colab": {
          "base_uri": "https://localhost:8080/"
        },
        "outputId": "30f57399-647f-4581-8cb1-f7420f2d20f0",
        "id": "dp5a4OTGdyYC"
      },
      "execution_count": 348,
      "outputs": [
        {
          "output_type": "stream",
          "name": "stdout",
          "text": [
            "56/56 [==============================] - 1s 9ms/step\n"
          ]
        }
      ]
    },
    {
      "cell_type": "code",
      "source": [
        "y_test_pred = np.argmax(pred,1)"
      ],
      "metadata": {
        "id": "EIE3eEKudyYC"
      },
      "execution_count": 349,
      "outputs": []
    },
    {
      "cell_type": "code",
      "source": [
        "y_test_"
      ],
      "metadata": {
        "colab": {
          "base_uri": "https://localhost:8080/"
        },
        "outputId": "867ef11d-6421-4665-9f38-79acc9657c2a",
        "id": "-GnfzDnjdyYC"
      },
      "execution_count": 350,
      "outputs": [
        {
          "output_type": "execute_result",
          "data": {
            "text/plain": [
              "array([[0., 0., 0., ..., 0., 0., 0.],\n",
              "       [0., 0., 0., ..., 0., 0., 0.],\n",
              "       [0., 0., 0., ..., 0., 0., 0.],\n",
              "       ...,\n",
              "       [0., 0., 0., ..., 0., 0., 0.],\n",
              "       [0., 0., 0., ..., 0., 0., 0.],\n",
              "       [0., 0., 0., ..., 0., 0., 0.]], dtype=float32)"
            ]
          },
          "metadata": {},
          "execution_count": 350
        }
      ]
    },
    {
      "cell_type": "code",
      "source": [
        "accuracy_score(y_test,y_test_pred )"
      ],
      "metadata": {
        "colab": {
          "base_uri": "https://localhost:8080/"
        },
        "outputId": "a514919b-2b97-4ec1-bcfb-63c63ae09e4a",
        "id": "HniX_JRidyYC"
      },
      "execution_count": 351,
      "outputs": [
        {
          "output_type": "execute_result",
          "data": {
            "text/plain": [
              "0.6417410714285714"
            ]
          },
          "metadata": {},
          "execution_count": 351
        }
      ]
    },
    {
      "cell_type": "code",
      "source": [],
      "metadata": {
        "id": "oRPxqJEydyYC"
      },
      "execution_count": null,
      "outputs": []
    },
    {
      "cell_type": "code",
      "source": [],
      "metadata": {
        "id": "-Ttk_SRdeRAX"
      },
      "execution_count": null,
      "outputs": []
    },
    {
      "cell_type": "code",
      "source": [],
      "metadata": {
        "id": "NV9nmrcxeQ-D"
      },
      "execution_count": null,
      "outputs": []
    },
    {
      "cell_type": "code",
      "source": [],
      "metadata": {
        "id": "q7ZCxfHBeQ7d"
      },
      "execution_count": null,
      "outputs": []
    },
    {
      "cell_type": "code",
      "source": [
        "from keras.layers.core.activation import Activation\n",
        "model = Sequential()\n",
        "model.add(LSTM(50, input_shape = (99,1), return_sequences = True))\n",
        "model.add(LSTM(50, return_sequences = True))\n",
        "model.add(LSTM(50, return_sequences = False))\n",
        "model.add(Dense(46))\n",
        "model.add(Activation('softmax'))\n",
        "\n",
        "\n",
        "adam = optimizers.Adam()\n",
        "model.compile(loss = 'categorical_crossentropy', optimizer = adam, metrics= ['accuracy'])"
      ],
      "metadata": {
        "id": "KKcL5FdjeRfn"
      },
      "execution_count": 352,
      "outputs": []
    },
    {
      "cell_type": "code",
      "source": [
        "history_ = model.fit(x_train,y_train_, epochs = 10, batch_size = 10, validation_split=0.1 ,verbose = 1)"
      ],
      "metadata": {
        "colab": {
          "base_uri": "https://localhost:8080/"
        },
        "outputId": "58709b1a-08e4-4393-8253-54757533cc47",
        "id": "HGlvJgpVeRfo"
      },
      "execution_count": 353,
      "outputs": [
        {
          "output_type": "stream",
          "name": "stdout",
          "text": [
            "Epoch 1/10\n",
            "377/377 [==============================] - 38s 87ms/step - loss: 1.9444 - accuracy: 0.5064 - val_loss: 1.5514 - val_accuracy: 0.5909\n",
            "Epoch 2/10\n",
            "377/377 [==============================] - 31s 83ms/step - loss: 1.6530 - accuracy: 0.6095 - val_loss: 1.4229 - val_accuracy: 0.6722\n",
            "Epoch 3/10\n",
            "377/377 [==============================] - 32s 86ms/step - loss: 1.5811 - accuracy: 0.6239 - val_loss: 1.4289 - val_accuracy: 0.6579\n",
            "Epoch 4/10\n",
            "377/377 [==============================] - 32s 85ms/step - loss: 1.5315 - accuracy: 0.6369 - val_loss: 1.4047 - val_accuracy: 0.6651\n",
            "Epoch 5/10\n",
            "377/377 [==============================] - 31s 83ms/step - loss: 1.5233 - accuracy: 0.6396 - val_loss: 1.3961 - val_accuracy: 0.6651\n",
            "Epoch 6/10\n",
            "377/377 [==============================] - 32s 85ms/step - loss: 1.5180 - accuracy: 0.6372 - val_loss: 1.3892 - val_accuracy: 0.6722\n",
            "Epoch 7/10\n",
            "377/377 [==============================] - 32s 84ms/step - loss: 1.5010 - accuracy: 0.6374 - val_loss: 1.3681 - val_accuracy: 0.6746\n",
            "Epoch 8/10\n",
            "377/377 [==============================] - 32s 85ms/step - loss: 1.5501 - accuracy: 0.6287 - val_loss: 1.4045 - val_accuracy: 0.6722\n",
            "Epoch 9/10\n",
            "377/377 [==============================] - 34s 91ms/step - loss: 1.5023 - accuracy: 0.6390 - val_loss: 1.3805 - val_accuracy: 0.6651\n",
            "Epoch 10/10\n",
            "377/377 [==============================] - 34s 91ms/step - loss: 1.4911 - accuracy: 0.6393 - val_loss: 1.3639 - val_accuracy: 0.6722\n"
          ]
        }
      ]
    },
    {
      "cell_type": "code",
      "source": [
        "plt.plot(history_.history['accuracy'])\n",
        "plt.plot(history_.history['val_accuracy'])\n",
        "plt.legend(['training', 'validation'])\n",
        "plt.show()"
      ],
      "metadata": {
        "colab": {
          "base_uri": "https://localhost:8080/",
          "height": 265
        },
        "outputId": "1d62adc3-7ff3-4f71-a041-63a13e0ed342",
        "id": "X1BDW6_ceRfo"
      },
      "execution_count": 354,
      "outputs": [
        {
          "output_type": "display_data",
          "data": {
            "text/plain": [
              "<Figure size 432x288 with 1 Axes>"
            ],
            "image/png": "[encoded data removed]"
          },
          "metadata": {
            "needs_background": "light"
          }
        }
      ]
    },
    {
      "cell_type": "code",
      "source": [
        "pred = model.predict(x_test)"
      ],
      "metadata": {
        "colab": {
          "base_uri": "https://localhost:8080/"
        },
        "outputId": "029786e6-18ec-4b04-c5d2-eb2313aa41ec",
        "id": "UUwIiO7FeRfo"
      },
      "execution_count": 355,
      "outputs": [
        {
          "output_type": "stream",
          "name": "stdout",
          "text": [
            "56/56 [==============================] - 3s 28ms/step\n"
          ]
        }
      ]
    },
    {
      "cell_type": "code",
      "source": [
        "y_test_pred = np.argmax(pred,1)"
      ],
      "metadata": {
        "id": "NHhvpzXyeRfo"
      },
      "execution_count": 356,
      "outputs": []
    },
    {
      "cell_type": "code",
      "source": [
        "y_test_"
      ],
      "metadata": {
        "colab": {
          "base_uri": "https://localhost:8080/"
        },
        "outputId": "9cd05e71-84fc-4108-934c-57ae6c6ef2a4",
        "id": "qO0aNtkReRfp"
      },
      "execution_count": 357,
      "outputs": [
        {
          "output_type": "execute_result",
          "data": {
            "text/plain": [
              "array([[0., 0., 0., ..., 0., 0., 0.],\n",
              "       [0., 0., 0., ..., 0., 0., 0.],\n",
              "       [0., 0., 0., ..., 0., 0., 0.],\n",
              "       ...,\n",
              "       [0., 0., 0., ..., 0., 0., 0.],\n",
              "       [0., 0., 0., ..., 0., 0., 0.],\n",
              "       [0., 0., 0., ..., 0., 0., 0.]], dtype=float32)"
            ]
          },
          "metadata": {},
          "execution_count": 357
        }
      ]
    },
    {
      "cell_type": "code",
      "source": [
        "accuracy_score(y_test,y_test_pred )"
      ],
      "metadata": {
        "colab": {
          "base_uri": "https://localhost:8080/"
        },
        "outputId": "c4f1de44-378b-4c5e-ebe0-0590142f26a6",
        "id": "Mkh0GlMheRfp"
      },
      "execution_count": 358,
      "outputs": [
        {
          "output_type": "execute_result",
          "data": {
            "text/plain": [
              "0.6434151785714286"
            ]
          },
          "metadata": {},
          "execution_count": 358
        }
      ]
    },
    {
      "cell_type": "code",
      "source": [],
      "metadata": {
        "id": "-APhC52VeRfp"
      },
      "execution_count": null,
      "outputs": []
    },
    {
      "cell_type": "code",
      "source": [],
      "metadata": {
        "id": "6iOyfckFiW-Z"
      },
      "execution_count": null,
      "outputs": []
    },
    {
      "cell_type": "code",
      "source": [],
      "metadata": {
        "id": "1QbvEYfLiW7z"
      },
      "execution_count": null,
      "outputs": []
    },
    {
      "cell_type": "code",
      "source": [
        "from keras.layers.core.activation import Activation\n",
        "model = Sequential()\n",
        "model.add(GRU(50, input_shape = (99,1), return_sequences = False))\n",
        "model.add(Dense(46))\n",
        "model.add(Activation('softmax'))\n",
        "\n",
        "\n",
        "adam = optimizers.Adam()\n",
        "model.compile(loss = 'categorical_crossentropy', optimizer = adam, metrics= ['accuracy'])"
      ],
      "metadata": {
        "id": "XQM5o99riXgi"
      },
      "execution_count": 359,
      "outputs": []
    },
    {
      "cell_type": "code",
      "source": [
        "history_ = model.fit(x_train,y_train_, epochs = 10, batch_size = 10, validation_split=0.3 ,verbose = 1)"
      ],
      "metadata": {
        "colab": {
          "base_uri": "https://localhost:8080/"
        },
        "outputId": "702848cb-e1bc-41cc-a0cb-a7ae65c35046",
        "id": "jpp4Q_1eiXgi"
      },
      "execution_count": 360,
      "outputs": [
        {
          "output_type": "stream",
          "name": "stdout",
          "text": [
            "Epoch 1/10\n",
            "293/293 [==============================] - 12s 35ms/step - loss: 2.2156 - accuracy: 0.4877 - val_loss: 1.7164 - val_accuracy: 0.5295\n",
            "Epoch 2/10\n",
            "293/293 [==============================] - 9s 32ms/step - loss: 1.8527 - accuracy: 0.5034 - val_loss: 1.5857 - val_accuracy: 0.5710\n",
            "Epoch 3/10\n",
            "293/293 [==============================] - 10s 32ms/step - loss: 1.5965 - accuracy: 0.6217 - val_loss: 1.3679 - val_accuracy: 0.6683\n",
            "Epoch 4/10\n",
            "293/293 [==============================] - 9s 32ms/step - loss: 1.5444 - accuracy: 0.6285 - val_loss: 1.3680 - val_accuracy: 0.6699\n",
            "Epoch 5/10\n",
            "293/293 [==============================] - 10s 32ms/step - loss: 1.5274 - accuracy: 0.6350 - val_loss: 1.3645 - val_accuracy: 0.6707\n",
            "Epoch 6/10\n",
            "293/293 [==============================] - 9s 32ms/step - loss: 1.5148 - accuracy: 0.6340 - val_loss: 1.3691 - val_accuracy: 0.6715\n",
            "Epoch 7/10\n",
            "293/293 [==============================] - 10s 33ms/step - loss: 1.5083 - accuracy: 0.6340 - val_loss: 1.3433 - val_accuracy: 0.6738\n",
            "Epoch 8/10\n",
            "293/293 [==============================] - 9s 32ms/step - loss: 1.4839 - accuracy: 0.6367 - val_loss: 1.3576 - val_accuracy: 0.6643\n",
            "Epoch 9/10\n",
            "293/293 [==============================] - 11s 38ms/step - loss: 1.4480 - accuracy: 0.6528 - val_loss: 1.3131 - val_accuracy: 0.6842\n",
            "Epoch 10/10\n",
            "293/293 [==============================] - 9s 32ms/step - loss: 1.4111 - accuracy: 0.6634 - val_loss: 1.2807 - val_accuracy: 0.6882\n"
          ]
        }
      ]
    },
    {
      "cell_type": "code",
      "source": [
        "plt.plot(history_.history['accuracy'])\n",
        "plt.plot(history_.history['val_accuracy'])\n",
        "plt.legend(['training', 'validation'])\n",
        "plt.show()"
      ],
      "metadata": {
        "colab": {
          "base_uri": "https://localhost:8080/",
          "height": 265
        },
        "outputId": "e5264b0a-cfe5-4036-9db9-8ceffa1266c2",
        "id": "NwHWWdL8iXgj"
      },
      "execution_count": 361,
      "outputs": [
        {
          "output_type": "display_data",
          "data": {
            "text/plain": [
              "<Figure size 432x288 with 1 Axes>"
            ],
            "image/png": "[encoded data removed]"
          },
          "metadata": {
            "needs_background": "light"
          }
        }
      ]
    },
    {
      "cell_type": "code",
      "source": [
        "pred = model.predict(x_test)"
      ],
      "metadata": {
        "colab": {
          "base_uri": "https://localhost:8080/"
        },
        "outputId": "18810ae6-ed9b-4bd5-c69a-5408e00213d4",
        "id": "1E54r9PSiXgj"
      },
      "execution_count": 362,
      "outputs": [
        {
          "output_type": "stream",
          "name": "stdout",
          "text": [
            "56/56 [==============================] - 1s 9ms/step\n"
          ]
        }
      ]
    },
    {
      "cell_type": "code",
      "source": [
        "y_test_pred = np.argmax(pred,1)"
      ],
      "metadata": {
        "id": "Wqw2nEsDiXgj"
      },
      "execution_count": 363,
      "outputs": []
    },
    {
      "cell_type": "code",
      "source": [
        "y_test_"
      ],
      "metadata": {
        "colab": {
          "base_uri": "https://localhost:8080/"
        },
        "outputId": "7c7dcacd-20f2-4e79-e0e5-2706d58f446e",
        "id": "7FpITUHliXgj"
      },
      "execution_count": 364,
      "outputs": [
        {
          "output_type": "execute_result",
          "data": {
            "text/plain": [
              "array([[0., 0., 0., ..., 0., 0., 0.],\n",
              "       [0., 0., 0., ..., 0., 0., 0.],\n",
              "       [0., 0., 0., ..., 0., 0., 0.],\n",
              "       ...,\n",
              "       [0., 0., 0., ..., 0., 0., 0.],\n",
              "       [0., 0., 0., ..., 0., 0., 0.],\n",
              "       [0., 0., 0., ..., 0., 0., 0.]], dtype=float32)"
            ]
          },
          "metadata": {},
          "execution_count": 364
        }
      ]
    },
    {
      "cell_type": "code",
      "source": [
        "accuracy_score(y_test,y_test_pred )"
      ],
      "metadata": {
        "colab": {
          "base_uri": "https://localhost:8080/"
        },
        "outputId": "c6973a45-a290-4f16-b311-296fc14a4eec",
        "id": "PyTMTVWViXgj"
      },
      "execution_count": 365,
      "outputs": [
        {
          "output_type": "execute_result",
          "data": {
            "text/plain": [
              "0.65234375"
            ]
          },
          "metadata": {},
          "execution_count": 365
        }
      ]
    },
    {
      "cell_type": "code",
      "source": [],
      "metadata": {
        "id": "wr79rg-WiXgj"
      },
      "execution_count": null,
      "outputs": []
    },
    {
      "cell_type": "code",
      "source": [],
      "metadata": {
        "id": "KWDAzypdiXgj"
      },
      "execution_count": null,
      "outputs": []
    },
    {
      "cell_type": "code",
      "source": [],
      "metadata": {
        "id": "B6qQEmVviW5N"
      },
      "execution_count": null,
      "outputs": []
    }
  ]
}